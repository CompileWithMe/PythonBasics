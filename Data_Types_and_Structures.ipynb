{
  "nbformat": 4,
  "nbformat_minor": 0,
  "metadata": {
    "colab": {
      "provenance": []
    },
    "kernelspec": {
      "name": "python3",
      "display_name": "Python 3"
    },
    "language_info": {
      "name": "python"
    }
  },
  "cells": [
    {
      "cell_type": "markdown",
      "source": [
        "#1).  What are data structures, and why are they important?\n",
        "- A data structure is a way of organizing, storing, and managing data in a computer. Data structures are the fundamental building blocks of computer programming.\n",
        " They are essential because they enable optimized data access, processing, and modification, improving the performance of algorithms and applications.\n",
        "\n",
        "#2).  Explain the difference between mutable and immutable data types with examples?\n",
        " - In Python programming language, mutable and immutable data types define whether an object’s state can be changed after its creation.\n",
        "\n",
        " # List (Mutable)\n",
        "my_list = [1, 2, 3]\n",
        "my_list.append(4)\n",
        "print(my_list)\n",
        "Output: [1, 2, 3, 4]\n",
        "\n",
        "# Dictionary (Mutable)\n",
        "my_dict = {\"a\": 1, \"b\": 2}\n",
        "my_dict[\"c\"] = 3\n",
        "print(my_dict)  \n",
        " Output: {'a': 1, 'b': 2, 'c': 3}\n",
        "\n",
        "#3).What are the main differences between lists and tuples in Python?\n",
        "\n",
        "List and tuples both are data structures. List are mutable(can be modified after creation) data structures while tuples are immutable(cannot be modified after creation).List are slower due to dynamic nature while tuples are fast due to static nature.List are used When frequent modifications are needed. While tuples are used When data should remain constant.\n",
        "\n",
        "#4).Describe how dictionaries store data?\n",
        "\n",
        "A dictionary in Python is an unordered collection of key-value pairs.Dictionaries are widely used for efficient data retrieval, configuration storage, and key-value mapping in Python programs.\n",
        "\n",
        "my_dict = {\"name\": \"Prashant\",\n",
        "           \"age\": 36,\n",
        "           \"city\": \"Kanpur\"\n",
        "          }\n",
        "print(my_dict[\"name\"])\n",
        "\n",
        "Output: Prashant\n"
      ],
      "metadata": {
        "id": "tFIk06DIMgly"
      }
    },
    {
      "cell_type": "markdown",
      "source": [
        "#5).Why might you use a set instead of a list in Python?\n",
        "\n",
        "A set is an unordered collection of unique elements in Python. It is implemented using a hash table, making operations like lookup, insertion, and deletion much faster than lists in most cases.\n",
        "\n",
        "#6).What is a string in Python, and how is it different from a list?\n",
        "\n",
        "A string in Python is an immutable sequence of characters, enclosed in single ('), double (\"), or triple (''' \"\"\") quotes.\n",
        "\n",
        "str = \"Hi how are you!\"\n",
        "print(my_string[3])  \n",
        "\n",
        " Output: 'h'\n",
        "\n",
        " Mutability: String-Immutable (cannot be changed)\n",
        "             List-\tMutable (can be modified)\n",
        " Elements:\tString-Sequence of characters\n",
        "            List-Sequence of any data types\n",
        " Indexing:\tString-Supports indexing & slicing\n",
        "            List-Supports indexing & slicing\n",
        "  Modification: String-\tCannot modify in place\n",
        "                List-Can modify in place\n",
        "  Performance:  String-\tMore memory-efficient\n",
        "                List- Uses more memory\n",
        "  Use Case:    String-\tStoring text data\n",
        "               List-Storing collections of items\n",
        "\n",
        "#7).How do tuples ensure data integrity in Python?\n",
        "\n",
        "Immutability: Once a tuple is created, its contents cannot be changed. This means you cannot modify, add, or remove elements from a tuple after it has been defined. This property makes tuples a reliable data structure for storing fixed data, as the values inside the tuple remain constant throughout the program's execution.\n",
        "\n",
        "Hashability: Since tuples are immutable, they are also hashable. This means that tuples can be used as keys in dictionaries and elements in sets, whereas mutable data structures like lists cannot. This ensures that the data stored in a tuple remains consistent and can be relied upon as a key in data structures where integrity and uniqueness are essential.\n",
        "\n",
        "Error prevention: The inability to modify a tuple reduces the chances of accidental data changes or errors that might arise from unintended modification. This makes tuples particularly useful when you want to ensure that the data remains intact throughout the execution of a program.\n",
        "\n",
        "#8) What is a hash table, and how does it relate to dictionaries in Python?\n",
        "\n",
        "A hash table is a data structure that stores key-value pairs and allows for efficient retrieval, insertion, and deletion of values based on keys. It works by using a hash function to convert the key into an index, which is then used to quickly locate the value associated with that key.\n",
        "\n",
        "In Python, the built-in dict (dictionary) is implemented using a hash table internally.\n",
        "\n",
        "Keys in a Python Dictionary: In a Python dictionary, the keys are hashed to determine their position in the underlying hash table. The values associated with those keys are stored in the corresponding locations.\n",
        "\n",
        "Efficient Lookup and Insertion: When you access or insert a value in a dictionary, Python uses the hash value of the key to directly access the correct location in the hash table.\n",
        "\n",
        "#9).Can lists contain different data types in Python?\n",
        "\n",
        "Yes, lists in Python can contain different data types. A Python list is an ordered collection that can store elements of any data type, and those elements do not need to be of the same type.We can mix integers, strings, floats, booleans, objects, and even other lists within a single list.\n",
        "\n",
        "#10). Explain why strings are immutable in Python?\n",
        "\n",
        "Strings in Python are immutable because once a string is created, its contents cannot be changed.\n",
        "Strings are immutable in Python to improve performance (through interning and memory efficiency), ensure reliability, guarantee hashability, and provide thread safety.\n",
        "This immutability leads to more predictable and consistent behavior when working with strings, especially in complex programs.\n",
        "\n",
        "#11). What advantages do dictionaries offer over lists for certain tasks?\n",
        "\n",
        "Dictionaries in Python offer several advantages over lists for certain tasks, particularly when we need to work with key-value pairs or perform efficient lookups.\n",
        "\n",
        "Dictionaries provide several advantages over lists when:\n",
        "\n",
        "We need fast, constant-time lookups by key.\n",
        "We need to store data as key-value pairs (e.g., mappings, associations).\n",
        "We want to ensure uniqueness and prevent duplicates of keys.\n",
        "We need to work with complex keys or organize data in an intuitive, easily accessible way.\n",
        "While lists are excellent for ordered collections, dictionaries excel when the task involves efficient key-based access, mapping data, or ensuring unique keys.\n",
        "\n",
        "#12).  Describe a scenario where using a tuple would be preferable over a list?\n",
        "\n",
        "A tuple is preferable over a list when you need to store immutable data, such as representing fixed coordinates (latitude, longitude) or a record with multiple fields (e.g., name, age, and birthdate). Since tuples cannot be modified, they provide data integrity and are more efficient in terms of memory and performance for such use cases.\n",
        "\n",
        "\n",
        "#13).  How do sets handle duplicate values in Python?\n",
        "\n",
        "In Python, sets automatically remove duplicates. When you add an item to a set, if that item is already present, it will not be added again. This ensures that a set only contains unique values.\n",
        "\n",
        "#14). How does the “in” keyword work differently for lists and dictionaries?\n",
        "\n",
        "The in keyword works differently for lists and dictionaries in Python:\n",
        "\n",
        "For Lists:\n",
        "\n",
        "The in keyword checks if a value exists in the list. It returns True if the value is found and False otherwise.\n",
        "\n",
        "Example:\n",
        "my_list = [1, 2, 3, 4]\n",
        "print(3 in my_list)\n",
        "print(5 in my_list)  \n",
        "\n",
        "For Dictionaries:\n",
        "\n",
        "The in keyword checks if a key exists in the dictionary, not the value. It returns True if the key is present and False otherwise.\n",
        "Example:\n",
        "my_dict = {\"apple\": 5, \"banana\": 3}\n",
        "print(\"apple\" in my_dict)\n",
        "print(5 in my_dict)  \n",
        "\n",
        "\n",
        "#15). Can you modify the elements of a tuple? Explain why or why not?\n",
        "\n",
        "No, we cannot modify the elements of a tuple in Python.\n",
        "This is because tuples are immutable, meaning once they are created, their contents cannot be changed. This immutability ensures that the data stored in a tuple remains consistent and protected from accidental changes.\n",
        "\n",
        "#16). What is a nested dictionary, and give an example of its use case?\n",
        "\n",
        "A nested dictionary is a dictionary in which the values are themselves dictionaries. This allows for the representation of more complex, hierarchical data structures. You can think of it as a way to create a dictionary of dictionaries, where each key in the outer dictionary can map to another dictionary.\n",
        "\n",
        "Use Case Example:\n",
        "Imagine you're storing information about multiple employees in a company. Each employee has attributes like their name, age, and position. A nested dictionary can represent this data, where each key is an employee's ID, and the corresponding value is a dictionary with their details.\n",
        "\n",
        "Example of a Nested Dictionary:\n",
        "employees = {\n",
        "    \"emp001\": {\"name\": \"Prashant\", \"age\": 30, \"position\": \"Engineer\"},\n",
        "    \"emp002\": {\"name\": \"Rachit\", \"age\": 25, \"position\": \"Designer\"},\n",
        "    \"emp003\": {\"name\": \"Kushi\", \"age\": 26, \"position\": \"Doctor\"}\n",
        "}\n",
        "\n",
        "# Accessing specific information:\n",
        "print(employees[\"emp001\"][\"name\"])  # Output: Prashant\n",
        "print(employees[\"emp002\"][\"position\"])  # Output: Designer\n",
        "\n",
        "#17). Describe the time complexity of accessing elements in a dictionary?\n",
        "\n",
        "Accessing elements in a dictionary in Python has an average time complexity of O(1), meaning it takes constant time to look up a value by its key. This is because dictionaries are implemented using hash tables, which allow for direct access to values based on their hash value.\n",
        "\n",
        "However, in the worst case (e.g., due to hash collisions), the time complexity can degrade to O(n).\n",
        "\n",
        "#18). In what situations are lists preferred over dictionaries?\n",
        "\n",
        "Lists are preferred over dictionaries in situations where:\n",
        "\n",
        "Ordered Data: When the order of elements matters or we need to access elements by their index, such as in a sequence of items (e.g., a collection of names, a list of tasks).\n",
        "\n",
        "Example: Storing a sequence of steps in a process:\n",
        "\n",
        "steps = [\"Preheat oven\", \"Mix ingredients\", \"Bake at 350°F\"]\n",
        "When we Need Duplicate Values: Lists allow duplicate elements, which is useful when we need to store multiple occurrences of the same value.\n",
        "\n",
        "Example: Storing multiple occurrences of items bought in a store:\n",
        "\n",
        "\n",
        "items = [\"apple\", \"banana\", \"apple\", \"orange\"]\n",
        "Simple Iteration: Lists are better when you want to iterate through all elements in a sequential manner, especially when there’s no need for key-value associations or fast lookups by a specific key.\n",
        "\n",
        "Index-based Access: If we need to access elements based on their position or index, lists provide a simple way to do this efficiently.\n",
        "\n",
        "Example: Accessing the 3rd element\n",
        "my_list = [10, 20, 30, 40]\n",
        "print(my_list[2])  \n",
        "# Output: 30\n",
        "No Need for Key-Value Pairs: If we don’t need to associate values with specific keys and are just working with a collection of values, lists are more straightforward and efficient than dictionaries.\n",
        "\n",
        "In short, lists are ideal when we need ordered data, duplicates, index-based access, and simple iteration, while dictionaries are better for key-value mappings and fast lookups.\n",
        "\n",
        "#19). Why are dictionaries considered unordered, and how does that affect data retrieval?\n",
        "\n",
        "Dictionaries in Python are considered unordered because the order in which key-value pairs are stored is not guaranteed. This means that when we insert items into a dictionary, they are stored based on their hash values, not in the order of insertion.\n",
        "\n",
        "Effect on Data Retrieval:\n",
        "\n",
        "Efficiency: Data retrieval in dictionaries is still O(1) on average, because the lookup is based on keys, not the order.\n",
        "\n",
        "Unordered Nature: While insertion order is maintained in modern versions of Python, you cannot rely on the order for tasks that require sorting or positional access (like indexing), unless we explicitly sort the dictionary.\n",
        "In short, dictionaries are unordered by design, and this doesn't affect their efficiency in accessing data by key but means we can't rely on their order for data traversal or indexing.\n",
        "\n",
        "#20). Explain the difference between a list and a dictionary in terms of data retrieval?\n",
        "\n",
        "The main difference between a list and a dictionary in terms of data retrieval is:\n",
        "\n",
        "List: Data is accessed by index (position in the list). Retrieval time is O(1) for direct index access (e.g., my_list[2]), but searching for a value (by iterating) takes O(n).\n",
        "\n",
        "Dictionary: Data is accessed by key. Retrieval is very efficient with O(1) average time complexity, as it uses hashing to directly locate the value by key (e.g., my_dict[\"key\"]).\n",
        "\n",
        "In short, lists are indexed by position, while dictionaries are indexed by unique keys.\n",
        "\n",
        "\n",
        "\n",
        "\n",
        "\n",
        "\n"
      ],
      "metadata": {
        "id": "OdGtUZmYzKmo"
      }
    },
    {
      "cell_type": "code",
      "source": [
        "#Coding Assignment\n",
        "\n",
        "#1) Write a code to create a string with your name and print it?\n",
        "\n",
        "my_name = \"Prashant Dixit\"\n",
        "\n",
        "print(my_name)"
      ],
      "metadata": {
        "colab": {
          "base_uri": "https://localhost:8080/"
        },
        "id": "2kq9w_LjXg_v",
        "outputId": "a91fce09-bd1e-42bc-be14-c506b7f5c818"
      },
      "execution_count": null,
      "outputs": [
        {
          "output_type": "stream",
          "name": "stdout",
          "text": [
            "Prashant Dixit\n"
          ]
        }
      ]
    },
    {
      "cell_type": "code",
      "source": [
        "#2) Write a code to find the length of the string \"Hello World\"?\n",
        "\n",
        "my_str = \"Hello World\"\n",
        "\n",
        "print(len(my_str))"
      ],
      "metadata": {
        "colab": {
          "base_uri": "https://localhost:8080/"
        },
        "id": "5k01hpxfYfRz",
        "outputId": "246a12f0-bd03-402c-c79c-4d0516b4d3a2"
      },
      "execution_count": null,
      "outputs": [
        {
          "output_type": "stream",
          "name": "stdout",
          "text": [
            "11\n"
          ]
        }
      ]
    },
    {
      "cell_type": "code",
      "source": [
        "#3) Write a code to slice the first 3 characters from the string \"Python Programming\"?\n",
        "\n",
        "my_str = \"Python Programming\"\n",
        "\n",
        "new_str = my_str[:3]\n",
        "\n",
        "print(new_str)\n"
      ],
      "metadata": {
        "colab": {
          "base_uri": "https://localhost:8080/"
        },
        "id": "jFYDZ4NiY8JE",
        "outputId": "cbbe1a30-b53a-4306-f0a9-6dca250b0100"
      },
      "execution_count": null,
      "outputs": [
        {
          "output_type": "stream",
          "name": "stdout",
          "text": [
            "Pyt\n"
          ]
        }
      ]
    },
    {
      "cell_type": "code",
      "source": [
        "#4) Write a code to convert the string \"hello\" to uppercase?\n",
        "\n",
        "my_str = \"hello\"\n",
        "\n",
        "upper_str = my_str.upper()\n",
        "\n",
        "print(upper_str)\n"
      ],
      "metadata": {
        "colab": {
          "base_uri": "https://localhost:8080/"
        },
        "id": "u8BQqu31Zl6B",
        "outputId": "c7378b76-a9d9-42ab-8c14-96f8c22ee78a"
      },
      "execution_count": null,
      "outputs": [
        {
          "output_type": "stream",
          "name": "stdout",
          "text": [
            "HELLO\n"
          ]
        }
      ]
    },
    {
      "cell_type": "code",
      "source": [
        "#5) Write a code to replace the word \"apple\" with \"orange\" in the string \"I like apple\"?\n",
        "\n",
        "my_str = \"I like apple\"\n",
        "new_str = my_str.replace(\"apple\", \"orange\")\n",
        "print(new_str)\n"
      ],
      "metadata": {
        "colab": {
          "base_uri": "https://localhost:8080/"
        },
        "id": "GCJRzUiMZ5kq",
        "outputId": "558267df-d7f6-4902-a716-0d6a038c2f9f"
      },
      "execution_count": null,
      "outputs": [
        {
          "output_type": "stream",
          "name": "stdout",
          "text": [
            "I like orange\n"
          ]
        }
      ]
    },
    {
      "cell_type": "code",
      "source": [
        "#6)  Write a code to create a list with numbers 1 to 5 and print it?\n",
        "\n",
        "\n",
        "my_list = [1, 2, 3, 4, 5]\n",
        "\n",
        "print(my_list)\n",
        "\n"
      ],
      "metadata": {
        "colab": {
          "base_uri": "https://localhost:8080/"
        },
        "id": "0jZNPjSiabf9",
        "outputId": "4a00ab0f-395d-473d-bbc9-66a39aa581eb"
      },
      "execution_count": null,
      "outputs": [
        {
          "output_type": "stream",
          "name": "stdout",
          "text": [
            "[1, 2, 3, 4, 5]\n"
          ]
        }
      ]
    },
    {
      "cell_type": "code",
      "source": [
        "#7) Write a code to append the number 10 to the list [1, 2, 3, 4]?\n",
        "\n",
        "\n",
        "my_lst = [1, 2, 3, 4]\n",
        "\n",
        "\n",
        "my_lst.append(10)\n",
        "\n",
        "print(my_lst)\n"
      ],
      "metadata": {
        "colab": {
          "base_uri": "https://localhost:8080/"
        },
        "id": "iiot5J2Absjp",
        "outputId": "4c3c6aff-02ee-49d4-b32c-821c6006385f"
      },
      "execution_count": null,
      "outputs": [
        {
          "output_type": "stream",
          "name": "stdout",
          "text": [
            "[1, 2, 3, 4, 10]\n"
          ]
        }
      ]
    },
    {
      "cell_type": "code",
      "source": [
        "#8) Write a code to remove the number 3 from the list [1, 2, 3, 4, 5]?\n",
        "\n",
        "my_lst = [1, 2, 3, 4, 5]\n",
        "\n",
        "my_lst.remove(3)\n",
        "\n",
        "print(my_lst)\n",
        "\n"
      ],
      "metadata": {
        "colab": {
          "base_uri": "https://localhost:8080/"
        },
        "id": "xIBWU9OkcasE",
        "outputId": "bec91841-1d04-4666-9b12-8c0fef2590d0"
      },
      "execution_count": null,
      "outputs": [
        {
          "output_type": "stream",
          "name": "stdout",
          "text": [
            "[1, 2, 4, 5]\n"
          ]
        }
      ]
    },
    {
      "cell_type": "code",
      "source": [
        "#9)  Write a code to access the second element in the list ['a', 'b', 'c', 'd']?\n",
        "\n",
        "my_list = ['a', 'b', 'c', 'd']\n",
        "\n",
        "\n",
        "second_element = my_list[1]\n",
        "\n",
        "print(second_element)\n",
        "\n",
        "\n"
      ],
      "metadata": {
        "colab": {
          "base_uri": "https://localhost:8080/"
        },
        "id": "mL7YSbtccoh6",
        "outputId": "689c78f8-9da7-4eca-e06f-d25c2b929d2f"
      },
      "execution_count": null,
      "outputs": [
        {
          "output_type": "stream",
          "name": "stdout",
          "text": [
            "b\n"
          ]
        }
      ]
    },
    {
      "cell_type": "code",
      "source": [
        "#10) Write a code to reverse the list [10, 20, 30, 40, 50]?\n",
        "\n",
        "\n",
        "my_list = [10, 20, 30, 40, 50]\n",
        "reversed_list = my_list[::-1]\n",
        "print(reversed_list)\n"
      ],
      "metadata": {
        "colab": {
          "base_uri": "https://localhost:8080/"
        },
        "id": "bTTTOsdBdkkX",
        "outputId": "b725102d-ec6e-457b-dd74-10cf07ae66b8"
      },
      "execution_count": null,
      "outputs": [
        {
          "output_type": "stream",
          "name": "stdout",
          "text": [
            "[50, 40, 30, 20, 10]\n"
          ]
        }
      ]
    },
    {
      "cell_type": "code",
      "source": [
        "#11) Write a code to create a tuple with the elements 100, 200, 300 and print it?\n",
        "\n",
        "my_tuple = (100, 200, 300)\n",
        "\n",
        "print(my_tuple)\n"
      ],
      "metadata": {
        "colab": {
          "base_uri": "https://localhost:8080/"
        },
        "id": "F-1tkY8Xea6_",
        "outputId": "1e2e94d8-b718-4e5f-9713-9399d40eea72"
      },
      "execution_count": null,
      "outputs": [
        {
          "output_type": "stream",
          "name": "stdout",
          "text": [
            "(100, 200, 300)\n"
          ]
        }
      ]
    },
    {
      "cell_type": "code",
      "source": [
        "#12)Write a code to access the second-to-last element of the tuple ('red', 'green', 'blue', 'yellow').\n",
        "\n",
        "\n",
        "my_tuple = ('red', 'green', 'blue', 'yellow')\n",
        "\n",
        "\n",
        "second_to_last = my_tuple[-2]\n",
        "\n",
        "print(second_to_last)\n"
      ],
      "metadata": {
        "colab": {
          "base_uri": "https://localhost:8080/"
        },
        "id": "4YWZjyHKfMNV",
        "outputId": "ee5e2c6a-daa3-4f5f-8da9-c91ec85b9f1e"
      },
      "execution_count": null,
      "outputs": [
        {
          "output_type": "stream",
          "name": "stdout",
          "text": [
            "blue\n"
          ]
        }
      ]
    },
    {
      "cell_type": "code",
      "source": [
        "#13)Write a code to find the minimum number in the tuple (10, 20, 5, 15).\n",
        "\n",
        "my_tuple = (10, 20, 5, 15)\n",
        "\n",
        "min_num = min(my_tuple)\n",
        "\n",
        "print(min_num)"
      ],
      "metadata": {
        "colab": {
          "base_uri": "https://localhost:8080/"
        },
        "id": "ooSMARRyfaR_",
        "outputId": "c717bc9f-ce56-4905-fd03-89406ba41a2d"
      },
      "execution_count": null,
      "outputs": [
        {
          "output_type": "stream",
          "name": "stdout",
          "text": [
            "5\n"
          ]
        }
      ]
    },
    {
      "cell_type": "code",
      "source": [
        "#14)  Write a code to find the index of the element \"cat\" in the tuple ('dog', 'cat', 'rabbit').\n",
        "\n",
        "my_tuple = ('dog', 'cat', 'rabbit')\n",
        "\n",
        "cat_index = my_tuple.index('cat')\n",
        "\n",
        "print(cat_index)"
      ],
      "metadata": {
        "colab": {
          "base_uri": "https://localhost:8080/"
        },
        "id": "JihoRgdHfmK5",
        "outputId": "5beec82b-1dc1-4f5e-cd7f-510a552c5d4d"
      },
      "execution_count": null,
      "outputs": [
        {
          "output_type": "stream",
          "name": "stdout",
          "text": [
            "1\n"
          ]
        }
      ]
    },
    {
      "cell_type": "code",
      "source": [
        "#15) Write a code to create a tuple containing three different fruits and check if \"kiwi\" is in it.\n",
        "\n",
        "fruits = (\"apple\", \"banana\", \"orange\")\n",
        "\n",
        "if \"kiwi\" in fruits:\n",
        "    print(\"kiwi is in the fruits\")\n",
        "else:\n",
        "    print(\"kiwi is not in the fruits\")\n",
        "\n",
        "\n"
      ],
      "metadata": {
        "colab": {
          "base_uri": "https://localhost:8080/"
        },
        "id": "LcplZrTcgORf",
        "outputId": "83f8ef3f-9a21-4a07-a503-a91a8cc4badd"
      },
      "execution_count": null,
      "outputs": [
        {
          "output_type": "stream",
          "name": "stdout",
          "text": [
            "kiwi is not in the fruits\n"
          ]
        }
      ]
    },
    {
      "cell_type": "code",
      "source": [
        "#16)Write a code to create a set with the elements 'a', 'b', 'c' and print it?\n",
        "\n",
        "my_set = {'a', 'b', 'c'}\n",
        "print(my_set)\n"
      ],
      "metadata": {
        "id": "56Hmhn0jhWZB",
        "colab": {
          "base_uri": "https://localhost:8080/"
        },
        "outputId": "d0125be3-a32c-416e-e12b-f8a5661a4d8e"
      },
      "execution_count": 1,
      "outputs": [
        {
          "output_type": "stream",
          "name": "stdout",
          "text": [
            "{'c', 'a', 'b'}\n"
          ]
        }
      ]
    },
    {
      "cell_type": "code",
      "source": [
        "#17)Write a code to clear all elements from the set {1, 2, 3, 4, 5}?\n",
        "\n",
        "\n",
        "my_set = {1, 2, 3, 4, 5}\n",
        "my_set.clear()\n",
        "print(my_set)\n",
        "\n",
        "\n"
      ],
      "metadata": {
        "colab": {
          "base_uri": "https://localhost:8080/"
        },
        "id": "tieGOsZ-Q1iJ",
        "outputId": "7a69d396-46d4-4ae0-81e6-2a253a140b30"
      },
      "execution_count": 2,
      "outputs": [
        {
          "output_type": "stream",
          "name": "stdout",
          "text": [
            "set()\n"
          ]
        }
      ]
    },
    {
      "cell_type": "code",
      "source": [
        "#18) Write a code to remove the element 4 from the set {1, 2, 3, 4}?\n",
        "\n",
        "my_set = {1, 2, 3, 4}\n",
        "my_set.remove(4)\n",
        "print(my_set)\n",
        "\n"
      ],
      "metadata": {
        "colab": {
          "base_uri": "https://localhost:8080/"
        },
        "id": "mRDHiHoHRKRr",
        "outputId": "c6b54fd6-e4e0-4239-8c3e-e57366b1dae0"
      },
      "execution_count": 3,
      "outputs": [
        {
          "output_type": "stream",
          "name": "stdout",
          "text": [
            "{1, 2, 3}\n"
          ]
        }
      ]
    },
    {
      "cell_type": "code",
      "source": [
        "#19)Write a code to find the union of two sets {1, 2, 3} and {3, 4, 5}?\n",
        "\n",
        "set1 = {1, 2, 3}\n",
        "set2 = {3, 4, 5}\n",
        "union_set = set1.union(set2)\n",
        "print(union_set)\n",
        "\n"
      ],
      "metadata": {
        "colab": {
          "base_uri": "https://localhost:8080/"
        },
        "id": "dCS1YvBqRhwW",
        "outputId": "682da833-9635-4203-c353-524b1e978e20"
      },
      "execution_count": 4,
      "outputs": [
        {
          "output_type": "stream",
          "name": "stdout",
          "text": [
            "{1, 2, 3, 4, 5}\n"
          ]
        }
      ]
    },
    {
      "cell_type": "code",
      "source": [
        "#20)Write a code to find the intersection of two sets {1, 2, 3} and {2, 3, 4}.\n",
        "\n",
        "set1 = {1, 2, 3}\n",
        "set2 = {2, 3, 4}\n",
        "intersection_set = set1.intersection(set2)\n",
        "print(intersection_set)\n",
        "\n"
      ],
      "metadata": {
        "colab": {
          "base_uri": "https://localhost:8080/"
        },
        "id": "PEDaJCNFRw8g",
        "outputId": "af113e40-ee83-46f2-ff64-9be17bd39ce5"
      },
      "execution_count": 5,
      "outputs": [
        {
          "output_type": "stream",
          "name": "stdout",
          "text": [
            "{2, 3}\n"
          ]
        }
      ]
    },
    {
      "cell_type": "code",
      "source": [
        "#21)Write a code to create a dictionary with the keys \"name\", \"age\", and \"city\", and print it?\n",
        "\n",
        "my_dict = {\"name\": \"Prashant\", \"age\": 36, \"city\": \"Kanpur\"}\n",
        "print(my_dict)"
      ],
      "metadata": {
        "colab": {
          "base_uri": "https://localhost:8080/"
        },
        "id": "mvEgFX11SCfb",
        "outputId": "0e13c23f-04dd-4e70-dfae-7eb6a03f4938"
      },
      "execution_count": 6,
      "outputs": [
        {
          "output_type": "stream",
          "name": "stdout",
          "text": [
            "{'name': 'Prashant', 'age': 36, 'city': 'Kanpur'}\n"
          ]
        }
      ]
    },
    {
      "cell_type": "code",
      "source": [
        "#22)Write a code to add a new key-value pair \"country\": \"USA\" to the dictionary {'name': 'John', 'age': 25}.\n",
        "\n",
        "my_dict = {'name': 'John', 'age': 25}\n",
        "my_dict[\"country\"] = \"USA\"\n",
        "print(my_dict)\n"
      ],
      "metadata": {
        "colab": {
          "base_uri": "https://localhost:8080/"
        },
        "id": "C8MNJBWESP_M",
        "outputId": "d9d2e4a3-19ad-4548-b7bf-325d8c32d437"
      },
      "execution_count": 7,
      "outputs": [
        {
          "output_type": "stream",
          "name": "stdout",
          "text": [
            "{'name': 'John', 'age': 25, 'country': 'USA'}\n"
          ]
        }
      ]
    },
    {
      "cell_type": "code",
      "source": [
        "#23) Write a code to access the value associated with the key \"name\" in the dictionary {'name': 'Alice', 'age': 30}.\n",
        "\n",
        "my_dict = {'name': 'Alice', 'age': 30}\n",
        "name_value = my_dict[\"name\"]\n",
        "print(name_value)\n"
      ],
      "metadata": {
        "colab": {
          "base_uri": "https://localhost:8080/"
        },
        "id": "iFoobojLSde5",
        "outputId": "290abe2b-2a8b-49cd-806f-44948ab16c36"
      },
      "execution_count": 8,
      "outputs": [
        {
          "output_type": "stream",
          "name": "stdout",
          "text": [
            "Alice\n"
          ]
        }
      ]
    },
    {
      "cell_type": "code",
      "source": [
        "#24)Write a code to remove the key \"age\" from the dictionary {'name': 'Bob', 'age': 22, 'city': 'New York'}.\n",
        "\n",
        "my_dict = {'name': 'Bob', 'age': 22, 'city': 'New York'}\n",
        "del my_dict[\"age\"]\n",
        "print(my_dict)\n",
        "\n"
      ],
      "metadata": {
        "colab": {
          "base_uri": "https://localhost:8080/"
        },
        "id": "UdEU8asgSm_l",
        "outputId": "9b87ec46-abbb-4f8d-cbf6-d745dc31fa01"
      },
      "execution_count": 9,
      "outputs": [
        {
          "output_type": "stream",
          "name": "stdout",
          "text": [
            "{'name': 'Bob', 'city': 'New York'}\n"
          ]
        }
      ]
    },
    {
      "cell_type": "code",
      "source": [
        "#25)Write a code to check if the key \"city\" exists in the dictionary {'name': 'Alice', 'city': 'Paris'}\n",
        "\n",
        "my_dict = {'name': 'Alice', 'city': 'Paris'}\n",
        "if \"city\" in my_dict:\n",
        "    print(\"city key exists in the dictionary\")\n",
        "else:\n",
        "    print(\"city key does not exist in the dictionary\")\n",
        "\n",
        "\n",
        "\n"
      ],
      "metadata": {
        "colab": {
          "base_uri": "https://localhost:8080/"
        },
        "id": "W--t6megS5Vr",
        "outputId": "fce9a54e-73cc-407a-a73c-daf2d2aea9d3"
      },
      "execution_count": 10,
      "outputs": [
        {
          "output_type": "stream",
          "name": "stdout",
          "text": [
            "city key exists in the dictionary\n"
          ]
        }
      ]
    },
    {
      "cell_type": "code",
      "source": [
        "#26)Write a code to check if the key \"city\" exists in the dictionary {'name': 'Alice', 'city': 'Paris'}.\n",
        "\n",
        "my_dict = {'name': 'Alice', 'city': 'Paris'}\n",
        "if \"city\" in my_dict:\n",
        "    print(\"city key exists in the dictionary\")\n",
        "else:\n",
        "    print(\"city key does not exist in the dictionary\")\n"
      ],
      "metadata": {
        "colab": {
          "base_uri": "https://localhost:8080/"
        },
        "id": "-F8e9XgdTKfq",
        "outputId": "6f49e053-248b-4b8a-e60b-bf394ccd91da"
      },
      "execution_count": 11,
      "outputs": [
        {
          "output_type": "stream",
          "name": "stdout",
          "text": [
            "city key exists in the dictionary\n"
          ]
        }
      ]
    },
    {
      "cell_type": "code",
      "source": [
        "#27)Write a code to create a list, a tuple, and a dictionary, and print them all.\n",
        "\n",
        "my_list = [1, 2, 3, 4, 5]\n",
        "my_tuple = (10, 20, 30, 40, 50)\n",
        "my_dict = {\"name\": \"Prashant\", \"age\": 36, \"city\": \"Kanpur\"}\n",
        "\n",
        "print(\"List:\", my_list)\n",
        "print(\"Tuple:\", my_tuple)\n",
        "print(\"Dictionary:\", my_dict)\n",
        "\n"
      ],
      "metadata": {
        "colab": {
          "base_uri": "https://localhost:8080/"
        },
        "id": "GAhzGneXTrVN",
        "outputId": "0acc5288-1003-4944-98a4-5938a624b96b"
      },
      "execution_count": 12,
      "outputs": [
        {
          "output_type": "stream",
          "name": "stdout",
          "text": [
            "List: [1, 2, 3, 4, 5]\n",
            "Tuple: (10, 20, 30, 40, 50)\n",
            "Dictionary: {'name': 'Prashant', 'age': 36, 'city': 'Kanpur'}\n"
          ]
        }
      ]
    },
    {
      "cell_type": "code",
      "source": [
        "#28)Write a code to create a list of 5 random numbers between 1 and 100, sort it in ascending order, and print the\n",
        "#result.(replaced)\n",
        "\n",
        "import random\n",
        "\n",
        "random_numbers = [random.randint(1, 100) for _ in range(5)]\n",
        "random_numbers.sort()\n",
        "print(random_numbers)\n"
      ],
      "metadata": {
        "colab": {
          "base_uri": "https://localhost:8080/"
        },
        "id": "2yA7f6dZURcm",
        "outputId": "aa649739-7bdc-4c0a-d159-9149256432bb"
      },
      "execution_count": 13,
      "outputs": [
        {
          "output_type": "stream",
          "name": "stdout",
          "text": [
            "[6, 32, 60, 73, 98]\n"
          ]
        }
      ]
    },
    {
      "cell_type": "code",
      "source": [
        "#28)Write a code to create a list with strings and print the element at the third index.\n",
        "\n",
        "my_list = [\"apple\", \"banana\", \"orange\", \"grape\", \"kiwi\"]\n",
        "third_element = my_list[2]\n",
        "print(third_element)\n",
        "\n"
      ],
      "metadata": {
        "colab": {
          "base_uri": "https://localhost:8080/"
        },
        "id": "oysm471cU-NQ",
        "outputId": "e1bd7804-794e-4598-d70c-7666f34b72d9"
      },
      "execution_count": 14,
      "outputs": [
        {
          "output_type": "stream",
          "name": "stdout",
          "text": [
            "orange\n"
          ]
        }
      ]
    },
    {
      "cell_type": "code",
      "source": [
        "#29)Write a code to combine two dictionaries into one and print the result.\n",
        "\n",
        "dict1 = {'a': 1, 'b': 2}\n",
        "dict2 = {'c': 3, 'd': 4}\n",
        "combined_dict = {**dict1, **dict2}\n",
        "print(combined_dict)\n"
      ],
      "metadata": {
        "colab": {
          "base_uri": "https://localhost:8080/"
        },
        "id": "EqnwxxLHVHNy",
        "outputId": "f9bcfc14-3493-4888-d8bd-2c0e08730b6a"
      },
      "execution_count": 15,
      "outputs": [
        {
          "output_type": "stream",
          "name": "stdout",
          "text": [
            "{'a': 1, 'b': 2, 'c': 3, 'd': 4}\n"
          ]
        }
      ]
    },
    {
      "cell_type": "code",
      "source": [
        "#30) Write a code to convert a list of strings into a set.\n",
        "\n",
        "\n",
        "lst = ['apple', 'banana', 'cherry', 'apple']\n",
        "\n",
        "str = set(lst)\n",
        "print(str)\n"
      ],
      "metadata": {
        "colab": {
          "base_uri": "https://localhost:8080/"
        },
        "id": "rDNgb5gbWVWe",
        "outputId": "f6b4aec1-d268-4dc9-b11d-76a4821264e5"
      },
      "execution_count": 16,
      "outputs": [
        {
          "output_type": "stream",
          "name": "stdout",
          "text": [
            "{'cherry', 'apple', 'banana'}\n"
          ]
        }
      ]
    }
  ]
}