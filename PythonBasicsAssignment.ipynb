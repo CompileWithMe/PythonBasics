{
  "nbformat": 4,
  "nbformat_minor": 0,
  "metadata": {
    "colab": {
      "provenance": []
    },
    "kernelspec": {
      "name": "python3",
      "display_name": "Python 3"
    },
    "language_info": {
      "name": "python"
    }
  },
  "cells": [
    {
      "cell_type": "markdown",
      "source": [
        "#1) What is Python, and why is it popular?\n",
        "-Python is high-level programming language. Is is known for its simplicity and readability.\n",
        "-Python is popular because it is easy to learn, large supportive community.Having large libraries make web development, data science, Artificial Intelligence easy. Several frameworks, like Django, Flask and Tensorflow make this language easy for programmers.\n",
        "\n",
        "#2)  What is an interpreter in Python?\n",
        "-An interpreter in Python is a program that reads and executes code line by line.Interpreter translates the high-level code into machine code that the computer can understand and run.\n",
        "\n",
        "#3) What are pre-defined keywords in Python?\n",
        "- Pre-defined keywords in Python are reserved words that have a special meaning and cannot be used as variable.\n",
        "eg- if, else, for, while , def, etc.\n",
        "\n",
        "#4) Can keywords be used as variable names?\n",
        "- No, Keywords can't be used as variable names. As they are reserved for specific functions within the language.\n",
        "\n",
        "#5) What is mutability in Python?\n",
        "- Mutability in Python refers to whether an object's state can be changed after it is created.\n",
        "ex- lists, dictionaries, sets\n",
        "\n",
        "#6) Why are lists mutable, but tuples are immutable?\n",
        "- Lists are flexible, allow us to change, add, or delete elements. It makes them useful for tasks where we need to modify the data during execution.\n",
        "\n",
        "While in Tuples, They are designed to be lightweight and efficient, serving as a fixed collection of items. Data can't be changed after creation, making them more predictable and safer for certain tasks.\n",
        "\n",
        "#7) What is the difference between “==” and “is” operators in Python?\n",
        "- == (Equality operator): It compares the values of two objects to see if they are equal.\n",
        "ex:\n",
        "\n",
        "a = [\"x\",\"y\",\"z\"]\n",
        "b = [\"x\",\"y\",\"z\"]\n",
        "\n",
        "print(x == y) #True (Compares Values)\n",
        "\n",
        "is(identity operator): It compares whether two objects refer to the same object in memory location.\n",
        "\n",
        "ex:\n",
        "a = [1,2,3]\n",
        "b = [1,2,3]\n",
        "\n",
        "print(a is b) # False (Compare locations)\n",
        "\n",
        "#8) What are logical operators in Python?\n",
        "- Logical operators are used to combine conditional statements and evaluate boolean expressions.\n",
        "ex: and, or , not operators\n",
        "\n",
        "and operators\n",
        "\n",
        "a = True\n",
        "b = False\n",
        "print(a and b) # False\n",
        "\n",
        "or operators\n",
        "\n",
        "a = True\n",
        "b = False\n",
        "print(a or b) # True\n",
        "\n",
        "not operators\n",
        "\n",
        "a = True\n",
        "print(not a) # False\n",
        "\n",
        "#9) What is type casting in Python?\n",
        "- Type casting in Python refers to the convert one data type to another. There are two types of type casting in Python:\n",
        "1.) Impicit Type Casting: Python automatically converts one data type to another when it is safe to do so.\n",
        "\n",
        "ex:\n",
        "\n",
        "x = 5 #int\n",
        "y = 3.8 # Float\n",
        "\n",
        "print(x+y) # 8.8(float)\n",
        "\n",
        "2.)Explicit Type Casting: We can manually convert one data type to another using type casting functions like int(), float(), str(), etc.\n",
        "\n",
        "ex:\n",
        "\n",
        "x = 10\n",
        "y = float(x)\n",
        "\n",
        "print(y) # 10.0\n",
        "\n",
        "10.) What is the difference between implicit and explicit type casting?\n",
        "- Implicit Type Casting automatically coverts one data type to another when required.\n",
        "- Explicit Type Casting manually converts one data type to another using functions like int(), float(), str()\n",
        "\n",
        "11.) 8 What is the purpose of conditional statements in Python?\n",
        "- The purpose of conditional statements in Python is to allow the program to make decisions based on certain conditions.\n",
        "Mainly used for Control Flow, Decision Making etc.\n",
        "ex: if , else- if statements\n",
        "\n",
        "12.) How does the elif statement work?\n",
        "- The elif statement in Python allows to check multiple conditions. It is used after if statement.\n",
        "Ex:\n",
        "age = 30\n",
        "\n",
        "if age < 12:\n",
        "  print(\"Child\")\n",
        "elif age < 18:\n",
        "  print(\"Teenager\")\n",
        "else:\n",
        "  print(\"Adult\")\n",
        "\n",
        "Output: Adult\n",
        "\n",
        "13.) What is the difference between for and while loops?\n",
        "- A while loop is used when we want to repeat block of code as long as a condition is true.nThe number of repetitions is not fixed in advance.\n",
        "- A for loop is used when you know in advance how many times we want to repeat a block of code. It is used when range is given.\n",
        "\n",
        "14.) Describe a scenario where a while loop is more suitable than a for loop.?\n",
        "- A while loop is more suitable when the number of iterations is not known in advance and the loop should continue running as long as a certain condition is true.Until a valid value or specific condition is met. That's why making it ideal for dynamic, condition-based repetitions.\n",
        "- While in for loop we required some known range.\n",
        "\n",
        "\n",
        "\n",
        "\n",
        "\n"
      ],
      "metadata": {
        "id": "QzVIrub7ZWHS"
      }
    },
    {
      "cell_type": "code",
      "source": [
        "#  Write a Python program to print \"Hello, World!\"\"\n",
        "\n",
        "print(\"Hello, World!\")\n"
      ],
      "metadata": {
        "colab": {
          "base_uri": "https://localhost:8080/"
        },
        "id": "sycdWZ2WERUB",
        "outputId": "59c3675c-2405-4ab6-ce27-25736424a1e0"
      },
      "execution_count": 1,
      "outputs": [
        {
          "output_type": "stream",
          "name": "stdout",
          "text": [
            "Hello, World!\n"
          ]
        }
      ]
    },
    {
      "cell_type": "code",
      "source": [
        "#  Write a Python program that displays your name and age\n",
        "\n",
        "name = input(\"Enter your name: \")\n",
        "age = int(input(\"Enter your age: \"))\n",
        "\n",
        "print(\"Your name is \", name)\n",
        "print(\"Your age is \", age)"
      ],
      "metadata": {
        "colab": {
          "base_uri": "https://localhost:8080/"
        },
        "id": "FJeSWnazEyTo",
        "outputId": "14abec37-2b84-4cd5-f385-b8aa57184792"
      },
      "execution_count": 2,
      "outputs": [
        {
          "output_type": "stream",
          "name": "stdout",
          "text": [
            "Enter your name: Prashant\n",
            "Enter your age: 35\n",
            "Your name is  Prashant\n",
            "Your age is  35\n"
          ]
        }
      ]
    },
    {
      "cell_type": "code",
      "source": [
        "# Write code to print all the pre-defined keywords in Python using the keyword library\n",
        "\n",
        "import keyword\n",
        "\n",
        "print(keyword.kwlist)"
      ],
      "metadata": {
        "colab": {
          "base_uri": "https://localhost:8080/"
        },
        "id": "e-RIMvMeFhvE",
        "outputId": "5ad435c3-b493-4dca-ef09-87d43390de55"
      },
      "execution_count": 3,
      "outputs": [
        {
          "output_type": "stream",
          "name": "stdout",
          "text": [
            "['False', 'None', 'True', 'and', 'as', 'assert', 'async', 'await', 'break', 'class', 'continue', 'def', 'del', 'elif', 'else', 'except', 'finally', 'for', 'from', 'global', 'if', 'import', 'in', 'is', 'lambda', 'nonlocal', 'not', 'or', 'pass', 'raise', 'return', 'try', 'while', 'with', 'yield']\n"
          ]
        }
      ]
    },
    {
      "cell_type": "code",
      "source": [
        "import keyword\n",
        "\n",
        "def is_keyword(word):\n",
        "  return keyword.iskeyword(word)\n",
        "\n",
        "word = input(\"Enter a word to check \")\n",
        "\n",
        "if is_keyword(word):\n",
        "  print(f\"'{word}' is a Python keyword.\")\n",
        "else:\n",
        "  print(f\"'{word}' is not  a Python keyword.\")"
      ],
      "metadata": {
        "colab": {
          "base_uri": "https://localhost:8080/"
        },
        "id": "DINm0ap9GjCN",
        "outputId": "ec55442f-2b95-41b0-af98-822488e2ab25"
      },
      "execution_count": 5,
      "outputs": [
        {
          "output_type": "stream",
          "name": "stdout",
          "text": [
            "Enter a word to check function\n",
            "'function' is not  a Python keyword.\n"
          ]
        }
      ]
    },
    {
      "cell_type": "code",
      "source": [
        "#  Create a list and tuple in Python, and demonstrate how attempting to change an element works differently\n",
        "\n",
        "lst = [1, 2, 3, 4]\n",
        "tup = (1, 2, 3, 4)\n",
        "\n",
        "lst[1] = 100\n",
        "print(\"Modified List:\", lst)\n",
        "\n",
        "try:\n",
        "    tup[3] = 50\n",
        "except TypeError as e:\n",
        "    print(\"Error when trying to modify tuple:\", e)\n"
      ],
      "metadata": {
        "colab": {
          "base_uri": "https://localhost:8080/"
        },
        "id": "LXaLhoP3H6iL",
        "outputId": "a584fd00-53fc-4cde-fd32-f74c0e1c24dd"
      },
      "execution_count": 6,
      "outputs": [
        {
          "output_type": "stream",
          "name": "stdout",
          "text": [
            "Modified List: [1, 100, 3, 4]\n",
            "Error when trying to modify tuple: 'tuple' object does not support item assignment\n"
          ]
        }
      ]
    },
    {
      "cell_type": "code",
      "source": [
        "#Write a function to demonstrate the behavior of mutable and immutable arguments.\n",
        "\n",
        "def mutability(immutable_arg, mutable_arg):\n",
        "    print(\"Before modification:\")\n",
        "    print(f\"Immutable argument: {immutable_arg}\")\n",
        "    print(f\"Mutable argument: {mutable_arg}\")\n",
        "\n",
        "\n",
        "    try:\n",
        "        immutable_arg[0] = \"Changed\"  # This will raise an error\n",
        "    except TypeError as e:\n",
        "        print(f\"Error modifying immutable argument: {e}\")\n",
        "\n",
        "\n",
        "    mutable_arg.append(\"New item\")\n",
        "\n",
        "    print(\"\\nAfter modification:\")\n",
        "    print(f\"Immutable argument: {immutable_arg}\")\n",
        "    print(f\"Mutable argument: {mutable_arg}\")\n",
        "\n",
        "\n",
        "\n",
        "immutable_example = (1, 2, 3)\n",
        "mutable_example = [4, 5, 6]\n",
        "\n",
        "mutability(immutable_example, mutable_example)"
      ],
      "metadata": {
        "colab": {
          "base_uri": "https://localhost:8080/"
        },
        "id": "5jqtGU0QItgJ",
        "outputId": "ae859d4d-f750-458d-c13b-defcdb99d0bf"
      },
      "execution_count": 8,
      "outputs": [
        {
          "output_type": "stream",
          "name": "stdout",
          "text": [
            "Before modification:\n",
            "Immutable argument: (1, 2, 3)\n",
            "Mutable argument: [4, 5, 6]\n",
            "Error modifying immutable argument: 'tuple' object does not support item assignment\n",
            "\n",
            "After modification:\n",
            "Immutable argument: (1, 2, 3)\n",
            "Mutable argument: [4, 5, 6, 'New item']\n"
          ]
        }
      ]
    },
    {
      "cell_type": "code",
      "source": [
        "# Write a program that performs basic arithmetic operations on two user-input numbers.\n",
        "\n",
        "def add(x, y):\n",
        "    return x + y\n",
        "\n",
        "def subtract(x, y):\n",
        "    return x - y\n",
        "\n",
        "def multiply(x, y):\n",
        "    return x * y\n",
        "\n",
        "def divide(x, y):\n",
        "    if y != 0:\n",
        "        return x / y\n",
        "    else:\n",
        "        return \"Error! Division by zero.\"\n",
        "\n",
        "\n",
        "num1 = float(input(\"Enter the first number: \"))\n",
        "num2 = float(input(\"Enter the second number: \"))\n",
        "\n",
        "\n",
        "\n",
        "choice = input(\"Enter choice (1/2/3/4): \")\n",
        "\n",
        "\n",
        "if choice == '1':\n",
        "    print(f\"{num1} + {num2} = {add(num1, num2)}\")\n",
        "elif choice == '2':\n",
        "    print(f\"{num1} - {num2} = {subtract(num1, num2)}\")\n",
        "elif choice == '3':\n",
        "    print(f\"{num1} * {num2} = {multiply(num1, num2)}\")\n",
        "elif choice == '4':\n",
        "    print(f\"{num1} / {num2} = {divide(num1, num2)}\")\n",
        "else:\n",
        "    print(\"Invalid input! Please choose a valid operation.\")\n"
      ],
      "metadata": {
        "colab": {
          "base_uri": "https://localhost:8080/"
        },
        "id": "VatfKBXCKxyS",
        "outputId": "0b635e3c-370c-490f-84e3-cb1666b224ff"
      },
      "execution_count": 9,
      "outputs": [
        {
          "output_type": "stream",
          "name": "stdout",
          "text": [
            "Enter the first number: 400\n",
            "Enter the second number: 2\n",
            "Enter choice (1/2/3/4): 3\n",
            "400.0 * 2.0 = 800.0\n"
          ]
        }
      ]
    },
    {
      "cell_type": "code",
      "source": [
        "#Write a program to demonstrate the use of logical operators.\n",
        "\n",
        "num1 = int(input(\"Enter first no. : \"))\n",
        "num2 = int(input(\"Enter second no. :\"))\n",
        "\n",
        "# or operations\n",
        "print(\"OR Operations\")\n",
        "print(num1 or num2 )\n",
        "\n",
        "# and operations\n",
        "print(\"AND Operations\")\n",
        "print(num1 and num2)\n"
      ],
      "metadata": {
        "colab": {
          "base_uri": "https://localhost:8080/"
        },
        "id": "G3BfuDpXLBCO",
        "outputId": "f2c08f0e-01a7-4f82-88b7-56f0270e2383"
      },
      "execution_count": 10,
      "outputs": [
        {
          "output_type": "stream",
          "name": "stdout",
          "text": [
            "Enter first no. : 4\n",
            "Enter second no. :5\n",
            "OR Operations\n",
            "4\n",
            "AND Operations\n",
            "5\n"
          ]
        }
      ]
    },
    {
      "cell_type": "code",
      "source": [
        "# Write a Python program to convert user input from string to integer, float, and boolean types.\n",
        "\n",
        "input_value = input(\"Enter a value: \")\n",
        "\n",
        "float_value = float(input_value)\n",
        "print(type(float_value))\n",
        "print(float_value)\n",
        "int_value = int(input_value)\n",
        "print(type(int_value))\n",
        "print(int_value)\n",
        "boolean_value = bool(input_value)\n",
        "print(type(boolean_value))\n",
        "print(boolean_value)\n",
        "\n"
      ],
      "metadata": {
        "colab": {
          "base_uri": "https://localhost:8080/"
        },
        "id": "TPKKFN2aMpo6",
        "outputId": "264533d8-6acb-480d-c86e-41bc4617ed34"
      },
      "execution_count": 12,
      "outputs": [
        {
          "output_type": "stream",
          "name": "stdout",
          "text": [
            "Enter a value: 54\n",
            "<class 'float'>\n",
            "54.0\n",
            "<class 'int'>\n",
            "54\n",
            "<class 'bool'>\n",
            "True\n"
          ]
        }
      ]
    },
    {
      "cell_type": "code",
      "source": [
        "#Write a Python program to convert user input from string to integer, float, and boolean types.\n",
        "lst = ['10', '3.14', 'True', 'False', '42']\n",
        "\n",
        "\n",
        "int_list = [int(item) if item.isdigit() else 0 for item in lst]\n",
        "float_list = [float(item) if item.replace('.', '', 1).isdigit() else 0.0 for item in lst]\n",
        "bool_list = [item.lower() == 'true' or item == '1' for item in lst]\n",
        "\n",
        "\n",
        "print(f\"Original list: {lst}\")\n",
        "print(f\"int list: {int_list}\")\n",
        "print(f\"float list: {float_list}\")\n",
        "print(f\"boolean list: {bool_list}\")\n"
      ],
      "metadata": {
        "colab": {
          "base_uri": "https://localhost:8080/"
        },
        "id": "6nBbsAXcOGDy",
        "outputId": "3fcf91f7-c928-4d17-d5a8-951166c7080b"
      },
      "execution_count": 14,
      "outputs": [
        {
          "output_type": "stream",
          "name": "stdout",
          "text": [
            "Original list: ['10', '3.14', 'True', 'False', '42']\n",
            "int list: [10, 0, 0, 0, 42]\n",
            "float list: [10.0, 3.14, 0.0, 0.0, 42.0]\n",
            "boolean list: [False, False, True, False, False]\n"
          ]
        }
      ]
    },
    {
      "cell_type": "code",
      "source": [
        "# Write a program that checks if a number is positive, negative, or zero.\n",
        "\n",
        "num = int(input(\"Enter any number : \"))\n",
        "\n",
        "if num > 0:\n",
        "  print(\"Given number is positive number. \")\n",
        "\n",
        "elif num < 0:\n",
        "  print(\"Given number is negative number. \")\n",
        "\n",
        "else:\n",
        "  print(\"Given number is zero. \")"
      ],
      "metadata": {
        "colab": {
          "base_uri": "https://localhost:8080/"
        },
        "id": "Z-PbpTwHPlUn",
        "outputId": "62a85644-73c3-45ea-9d41-0a7868a14cd0"
      },
      "execution_count": 16,
      "outputs": [
        {
          "output_type": "stream",
          "name": "stdout",
          "text": [
            "Enter any number : 0\n",
            "Given number is zero. \n"
          ]
        }
      ]
    },
    {
      "cell_type": "code",
      "source": [
        "# Write a for loop to print numbers from 1 to 10.\n",
        "\n",
        "for i in range(1 , 11):\n",
        "  print(i)"
      ],
      "metadata": {
        "colab": {
          "base_uri": "https://localhost:8080/"
        },
        "id": "pxSyOC2WQUOi",
        "outputId": "bde3bbe6-6181-4eb3-eda1-2f255c091ebb"
      },
      "execution_count": 17,
      "outputs": [
        {
          "output_type": "stream",
          "name": "stdout",
          "text": [
            "1\n",
            "2\n",
            "3\n",
            "4\n",
            "5\n",
            "6\n",
            "7\n",
            "8\n",
            "9\n",
            "10\n"
          ]
        }
      ]
    },
    {
      "cell_type": "code",
      "source": [
        "# Write a Python program to find the sum of all even numbers between 1 and 50.\n",
        "\n",
        "sum = 0\n",
        "\n",
        "for i in range(1,51):\n",
        "  if i % 2 == 0:\n",
        "    sum += i\n",
        "\n",
        "print(\"Sum of all even numbers between 1 and 50 is :\",sum)\n"
      ],
      "metadata": {
        "colab": {
          "base_uri": "https://localhost:8080/"
        },
        "id": "YorIXn9pRAXu",
        "outputId": "ea27f476-b3b2-410e-ec89-e9db2cf52fa5"
      },
      "execution_count": 18,
      "outputs": [
        {
          "output_type": "stream",
          "name": "stdout",
          "text": [
            "Sum of all even numbers between 1 and 50 is : 650\n"
          ]
        }
      ]
    },
    {
      "cell_type": "code",
      "source": [
        "# Write a program to reverse a string using a while loop.\n",
        "\n",
        "input_str = input(\"Enter any string : \")\n",
        "\n",
        "reverse_str = \"\"\n",
        "\n",
        "i = len(input_str) - 1\n",
        "\n",
        "while i >= 0:\n",
        "  reverse_str += input_str[i]\n",
        "  i -= 1\n",
        "\n",
        "print(\"Reversed string: \",reverse_str)"
      ],
      "metadata": {
        "colab": {
          "base_uri": "https://localhost:8080/"
        },
        "id": "TwAFIFxGSHIH",
        "outputId": "ad817a59-5040-42cb-db74-bd6abd28bdf0"
      },
      "execution_count": 20,
      "outputs": [
        {
          "output_type": "stream",
          "name": "stdout",
          "text": [
            "Enter any string : prashant\n",
            "Reversed string:  tnahsarp\n"
          ]
        }
      ]
    },
    {
      "cell_type": "code",
      "source": [
        "# Write a Python program to calculate the factorial of a number provided by the user using a while loop.\n",
        "\n",
        "num = int(input(\"Enter a number : \"))\n",
        "\n",
        "fact = 1\n",
        "\n",
        "if num < 0:\n",
        "  print(\"Factorial is not defined for negative numbers \")\n",
        "\n",
        "else:\n",
        "  while num > 0:\n",
        "    fact *= num\n",
        "    num -= 1\n",
        "\n",
        "  print(\"The factorial is: \",fact)\n",
        "\n",
        "\n"
      ],
      "metadata": {
        "colab": {
          "base_uri": "https://localhost:8080/"
        },
        "id": "iePub6BXTSSn",
        "outputId": "e5ffd0e4-f8f2-4738-9ad2-504b3d1e2ad8"
      },
      "execution_count": 21,
      "outputs": [
        {
          "output_type": "stream",
          "name": "stdout",
          "text": [
            "Enter a number : 5\n",
            "The factorial is:  120\n"
          ]
        }
      ]
    }
  ]
}