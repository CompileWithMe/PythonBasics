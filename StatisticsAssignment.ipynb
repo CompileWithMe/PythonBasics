{
  "nbformat": 4,
  "nbformat_minor": 0,
  "metadata": {
    "colab": {
      "provenance": []
    },
    "kernelspec": {
      "name": "python3",
      "display_name": "Python 3"
    },
    "language_info": {
      "name": "python"
    }
  },
  "cells": [
    {
      "cell_type": "markdown",
      "source": [
        "#Theory Assignment"
      ],
      "metadata": {
        "id": "89fhYT9hbPQQ"
      }
    },
    {
      "cell_type": "markdown",
      "source": [
        "##1). What is statistics, and why is it important ?\n",
        "\n",
        "Statistics is the study of collecting, analyzing, interpreting, and presenting data. It helps to summarize and make sense of large amounts of information, enabling informed decision-making. Statistics is important because it allows us to understand patterns, trends, and relationships in data, guiding actions in fields like science, business, healthcare, economics, and more.\n",
        "In the field of artificial intelligence (AI), statistics is essential for analyzing data, building models, and making predictions. AI systems rely on statistical methods to identify patterns, make decisions, and improve over time through learning from data. It helps in tasks like data preprocessing, model evaluation, and optimizing algorithms. Without statistics, AI wouldn't be able to process and interpret the vast amounts of data necessary for accurate and efficient performance.\n",
        "\n",
        "##2). What are the two main types of statistics?\n",
        "\n",
        "The two main types of statistics are:\n",
        "\n",
        "**Descriptive Statistics:** This involves summarizing and organizing data to make it easier to understand. It includes measures like mean, median, mode, standard deviation, and visualizations like graphs and charts.\n",
        "\n",
        "**Inferential Statistics:** This involves making predictions or inferences about a population based on a sample of data. It includes techniques like hypothesis testing, confidence intervals, and regression analysis.\n",
        "\n",
        "\n",
        "##3). What are descriptive statistics?\n",
        "\n",
        "Descriptive statistics are methods used to summarize, organize, and present data in a meaningful way. They help to describe the main features of a dataset, making it easier to understand. Common techniques in descriptive statistics include:\n",
        "\n",
        "**Measures of Central Tendency:** These describe the center of a data set, such as:\n",
        "\n",
        "**Mean:** The average of the data.\n",
        "\n",
        "**Median:** The middle value when the data is ordered.\n",
        "\n",
        "**Mode:** The most frequent value in the data.\n",
        "\n",
        "**Measures of Dispersion:** These describe the spread or variability of data, such as:\n",
        "\n",
        "**Range:** The difference between the highest and lowest values.\n",
        "\n",
        "**Variance:** The average squared deviation from the mean.\n",
        "\n",
        "Standard Deviation: A measure of how spread out the data is from the mean.\n",
        "\n",
        "**Visual Representations:** Graphs and charts, like histograms, bar charts, and pie charts, help to visually summarize data.\n",
        "\n",
        "Descriptive statistics are useful for getting a quick overview of a dataset, but they don’t allow for making predictions or conclusions about a larger population.\n",
        "\n",
        "\n",
        "##4). What is inferential statistics?\n",
        "\n",
        "Inferential statistics involves making predictions, generalizations, or inferences about a population based on a sample of data. It goes beyond simply describing the data (like in descriptive statistics) and helps us draw conclusions or make decisions about a larger group. Key techniques in inferential statistics include:\n",
        "\n",
        "**Hypothesis Testing:** This involves testing an assumption or claim about a population using sample data. Examples include t-tests and chi-square tests.\n",
        "\n",
        "**Confidence Intervals:** These provide a range of values within which we expect the population parameter (like the mean) to lie, with a certain level of confidence.\n",
        "\n",
        "**Regression Analysis:** This helps to understand the relationship between variables and make predictions. For example, predicting one variable based on the value of another.\n",
        "\n",
        "**ANOVA (Analysis of Variance):** This tests if there are significant differences between the means of multiple groups.\n",
        "\n",
        "Inferential statistics allows us to make conclusions about a whole population based on data from just a sample, but it always carries some level of uncertainty due to sampling error.\n",
        "\n",
        "##5). What is sampling in statistics?\n",
        "\n",
        "Sampling in statistics is the process of selecting a subset (sample) from a larger group (population) to represent the population's characteristics. The goal is to make inferences or generalizations about the entire population based on the data collected from the sample, rather than studying the entire population, which might be too time-consuming or expensive.\n",
        "\n",
        "There are different sampling methods, including:\n",
        "\n",
        "**Random Sampling:** Every member of the population has an equal chance of being selected.\n",
        "\n",
        "**Stratified Sampling:** The population is divided into subgroups (strata), and samples are taken from each subgroup.\n",
        "\n",
        "**Systematic Sampling:** Every nth member of the population is selected.\n",
        "\n",
        "**Convenience Sampling:** The sample is chosen based on ease of access, though it may not be representative of the entire population.\n",
        "\n",
        "Sampling is important because it allows for statistical analysis of large populations without needing to examine every single member, saving time and resources. However, the sample must be representative to ensure the inferences are accurate.\n",
        "\n",
        "##6). What are the different types of sampling methods?\n",
        "\n",
        "There are several types of sampling methods used in statistics. They can be broadly categorized into probability sampling and non-probability sampling. Here's an overview:\n",
        "\n",
        "1. **Probability Sampling**\n",
        "In probability sampling, each member of the population has a known, non-zero chance of being selected. These methods are generally more reliable and allow for generalization to the entire population.\n",
        "\n",
        "**Simple Random Sampling:** Every member of the population has an equal chance of being selected. It’s like drawing names from a hat.\n",
        "\n",
        "**Stratified Sampling:** The population is divided into subgroups (strata) based on a certain characteristic (e.g., age, gender), and samples are taken from each subgroup. This ensures that all subgroups are represented in the sample.\n",
        "\n",
        "**Systematic Sampling:** Every nth member of the population is selected after choosing a random starting point. For example, selecting every 5th person from a list.\n",
        "\n",
        "**Cluster Sampling:** The population is divided into clusters (e.g., geographical regions or schools), and then entire clusters are randomly selected to be included in the sample.\n",
        "\n",
        "**Multistage Sampling:** A combination of multiple sampling methods. For example, using cluster sampling first, then applying random sampling within selected clusters.\n",
        "\n",
        "2. **Non-Probability Sampling**\n",
        "In non-probability sampling, not all members of the population have a known or equal chance of being selected. This can lead to biases, but it is often easier or cheaper to implement.\n",
        "\n",
        "**Convenience Sampling:** Samples are selected based on what is easiest to access, such as surveying people who are readily available. This method can introduce bias.\n",
        "\n",
        "**Judgmental (Purposive) Sampling:** The researcher selects specific individuals or groups based on their judgment, often used when studying a particular group with specific characteristics.\n",
        "\n",
        "**Snowball Sampling:** Used when studying hard-to-reach populations. One subject is asked to refer others, creating a \"snowball\" effect of referrals.\n",
        "\n",
        "**Quota Sampling:** The population is divided into subgroups, and the researcher selects participants non-randomly to meet specific quotas for each subgroup.\n",
        "\n",
        "Each sampling method has its pros and cons, and the choice depends on the research goals, resources, and level of accuracy required.\n",
        "\n",
        "##7). What is the difference between random and non-random sampling?\n",
        "\n",
        "The key difference between random sampling and non-random sampling lies in how the samples are selected from the population.\n",
        "\n",
        "Random Sampling (Probability Sampling):\n",
        "Selection Method: In random sampling, every member of the population has a known and equal chance of being selected. This is typically done through methods like drawing names randomly or using random number generators.\n",
        "\n",
        "Objective: It aims to create a sample that is representative of the population, reducing bias and increasing the ability to generalize the results to the entire population.\n",
        "\n",
        "Reliability: Since each individual has an equal chance of being selected, the sample is more likely to accurately reflect the population, which makes random sampling more reliable for statistical analysis.\n",
        "\n",
        "Examples: Simple random sampling, stratified sampling, systematic sampling, and cluster sampling.\n",
        "\n",
        "Non-Random Sampling (Non-Probability Sampling):\n",
        "Selection Method: In non-random sampling, not every member of the population has an equal chance of being selected. The selection is often based on convenience, judgment, or specific criteria chosen by the researcher.\n",
        "\n",
        "Objective: Non-random sampling may be used when random sampling is impractical or when researchers are interested in a specific group or subset, but it can introduce bias and limit generalizability.\n",
        "\n",
        "Reliability: Since the sample is not chosen randomly, the results may not be fully representative of the population, which can lead to biased conclusions.\n",
        "\n",
        "Examples: Convenience sampling, judgmental sampling, snowball sampling, and quota sampling.\n",
        "\n",
        "##8). Define and give examples of qualitative and quantitative data?\n",
        "\n",
        "Qualitative Data and Quantitative Data are two main types of data used in statistics, each serving different purposes and describing different aspects of the world. Here's the definition and examples of each:\n",
        "\n",
        "Qualitative Data (Categorical Data)\n",
        "Definition: Qualitative data refers to non-numeric information that describes qualities or characteristics. This data can be categorized based on labels or attributes. It helps to identify and categorize items into distinct groups or categories.\n",
        "\n",
        "Examples:\n",
        "\n",
        "Colors: Red, Blue, Green (describing the color of cars)\n",
        "\n",
        "Gender: Male, Female, Non-binary\n",
        "\n",
        "Types of Fruits: Apple, Banana, Orange\n",
        "\n",
        "Customer Feedback: \"Excellent,\" \"Good,\" \"Poor\"\n",
        "\n",
        "Marital Status: Single, Married, Divorced\n",
        "\n",
        "Qualitative data can be further divided into two subtypes:\n",
        "\n",
        "Nominal Data: Data that consists of categories without any order (e.g., types of fruits).\n",
        "\n",
        "Ordinal Data: Data that has a natural order or ranking (e.g., customer satisfaction levels: Excellent, Good, Poor).\n",
        "\n",
        "Quantitative Data (Numerical Data)\n",
        "Definition: Quantitative data is numeric data that can be measured and quantified. It can be used to perform mathematical operations and is useful for statistical analysis. Quantitative data is typically divided into discrete and continuous data.\n",
        "\n",
        "Examples:\n",
        "\n",
        "Height: 5'9\", 6'1\" (measuring people's height in feet and inches)\n",
        "\n",
        "Age: 25, 30, 40 (measuring how old someone is)\n",
        "\n",
        "Temperature: 25°C, 30°C, 15°C (measuring temperature)\n",
        "\n",
        "Income: $50,000, $100,000 (measuring salary)\n",
        "\n",
        "Number of Children: 1, 2, 3 (counting the number of children)\n",
        "\n",
        "Quantitative data can be classified into:\n",
        "\n",
        "Discrete Data: Data that can only take specific values (e.g., number of cars in a parking lot).\n",
        "\n",
        "Continuous Data: Data that can take any value within a range (e.g., weight, height, or temperature).\n",
        "\n",
        "##9). What are the different types of data in statistics?\n",
        "\n",
        "In statistics, data can be classified in several ways, based on their nature and how they are measured. Here are the different types of data commonly found in statistics:\n",
        "\n",
        "1. Qualitative Data (Categorical Data)\n",
        "This type of data represents categories or labels and does not have a numerical value. It is used to describe characteristics or qualities that can be grouped together.\n",
        "\n",
        "Nominal Data: Data that represents categories without any inherent order.\n",
        "\n",
        "Examples: Colors (red, blue, green), Gender (male, female), Types of animals (dog, cat, bird).\n",
        "\n",
        "Ordinal Data: Data that represents categories with a meaningful order, but the differences between the categories are not necessarily uniform.\n",
        "\n",
        "Examples: Rating scales (excellent, good, fair, poor), Education level (high school, bachelor's, master's), Customer satisfaction (very satisfied, satisfied, neutral, dissatisfied).\n",
        "\n",
        "2. Quantitative Data (Numerical Data)\n",
        "Quantitative data represents measurable quantities and can be expressed as numbers. This data type can be used for mathematical operations like addition, subtraction, and average calculations.\n",
        "\n",
        "Discrete Data: Data that can only take specific, distinct values, usually counts.\n",
        "\n",
        "Examples: Number of students in a class, number of cars in a parking lot, number of books on a shelf.\n",
        "\n",
        "Continuous Data: Data that can take any value within a range, and it can be measured with more precision. These values are usually obtained from measurements and can be infinitely divided.\n",
        "\n",
        "Examples: Height, weight, temperature, time, income.\n",
        "\n",
        "3. Interval Data\n",
        "This is a type of continuous quantitative data where the differences between values are meaningful, but there is no true zero point (i.e., zero does not indicate an absence of the quantity). The intervals between values are consistent and measurable.\n",
        "\n",
        "Examples: Temperature in Celsius or Fahrenheit (0°C does not mean \"no temperature\"), IQ scores, dates (e.g., years, months).\n",
        "\n",
        "4. Ratio Data\n",
        "This is also continuous quantitative data, but unlike interval data, ratio data has a true zero point, meaning zero represents the absence of the quantity being measured. It allows for the full range of mathematical operations.\n",
        "\n",
        "Examples: Height, weight, age, salary, distance, time in seconds (0 seconds means no time has passed).\n",
        "\n",
        "##10). Explain nominal, ordinal, interval, and ratio levels of measurement?\n",
        "\n",
        "The levels of measurement (or scales of measurement) in statistics refer to the way in which data is categorized or quantified. There are four levels of measurement: nominal, ordinal, interval, and ratio. Each level has its own characteristics and determines the types of statistical analysis that can be applied to the data.\n",
        "\n",
        "1. Nominal Level of Measurement\n",
        "Definition: Nominal data consists of categories or labels without any order or ranking. The numbers or labels used in nominal data do not have meaningful mathematical properties.\n",
        "\n",
        "Key Feature: No order or ranking among categories.\n",
        "\n",
        "Mathematical Operations: Only counting or identifying modes (most frequent category).\n",
        "\n",
        "Examples:\n",
        "\n",
        "Gender: Male, Female\n",
        "\n",
        "Colors: Red, Blue, Green\n",
        "\n",
        "Types of Animals: Dog, Cat, Bird\n",
        "\n",
        "Nationality: American, British, Indian\n",
        "\n",
        "Statistical Analysis: You can count the frequency of each category but can't perform mathematical operations like addition or averaging.\n",
        "\n",
        "2. Ordinal Level of Measurement\n",
        "Definition: Ordinal data consists of categories that can be ranked or ordered, but the differences between the ranks are not necessarily uniform or meaningful.\n",
        "\n",
        "Key Feature: Data has a natural order, but the distances between categories are not equal.\n",
        "\n",
        "Mathematical Operations: You can rank data, calculate medians, and find modes, but you can't do meaningful addition or subtraction between the categories.\n",
        "\n",
        "Examples:\n",
        "\n",
        "Educational Levels: High School, Bachelor's, Master's, Doctorate\n",
        "\n",
        "Customer Satisfaction: Very Satisfied, Satisfied, Neutral, Dissatisfied, Very Dissatisfied\n",
        "\n",
        "Class Ranks: First, Second, Third\n",
        "\n",
        "Survey Ratings: Agree, Neutral, Disagree\n",
        "\n",
        "Statistical Analysis: You can rank the data, calculate medians, and find modes, but you cannot calculate the exact difference between categories (e.g., the difference between \"Very Satisfied\" and \"Satisfied\" is not consistent).\n",
        "\n",
        "3. Interval Level of Measurement\n",
        "Definition: Interval data consists of ordered categories with meaningful and consistent differences between the values, but there is no true zero point (zero does not mean the absence of the quantity being measured).\n",
        "\n",
        "Key Feature: The intervals between values are equal, but the ratio between values is not meaningful because there is no true zero.\n",
        "\n",
        "Mathematical Operations: You can perform addition and subtraction, but multiplication and division are not meaningful.\n",
        "\n",
        "Examples:\n",
        "\n",
        "Temperature (in Celsius or Fahrenheit): 0°C or 0°F does not represent \"no temperature.\"\n",
        "\n",
        "IQ Scores: A difference of 10 IQ points means the same whether someone has an IQ of 90 or 130, but there is no \"true zero IQ.\"\n",
        "\n",
        "Calendar Years: The year 0 does not mean \"no year.\"\n",
        "\n",
        "Statistical Analysis: You can calculate means, medians, and standard deviations, but comparing ratios (e.g., twice as much) is not valid.\n",
        "\n",
        "4. Ratio Level of Measurement\n",
        "Definition: Ratio data has all the characteristics of interval data, but with a true zero point, which allows for meaningful ratios. Zero means the complete absence of the quantity being measured, and the ratios between values are meaningful.\n",
        "\n",
        "Key Feature: It has a true zero point, and both differences and ratios between values are meaningful.\n",
        "\n",
        "Mathematical Operations: You can perform all mathematical operations—addition, subtraction, multiplication, and division.\n",
        "\n",
        "Examples:\n",
        "\n",
        "Height: 0 cm means no height.\n",
        "\n",
        "Weight: 0 kg means no weight.\n",
        "\n",
        "Income: $0 means no income.\n",
        "\n",
        "Time: 0 seconds means no time has passed.\n",
        "\n",
        "Statistical Analysis: You can calculate means, medians, standard deviations, and perform meaningful ratios (e.g., twice as heavy, three times as long).\n",
        "\n",
        "##11). What is the measure of central tendency?\n",
        "\n",
        "Measures of central tendency are statistical values that summarize a dataset by identifying the central point or typical value around which the data tend to cluster. These measures are important because they provide a single value that represents the entire dataset, helping to understand the general trend. There are three main measures of central tendency:\n",
        "\n",
        "1. Mean (Arithmetic Average)\n",
        "Definition: The mean is the sum of all the values in a dataset divided by the number of values.\n",
        "\n",
        "Formula:\n",
        "\n",
        "Mean\n",
        "=∑𝑋/𝑛\n",
        "\n",
        "\n",
        "where:\n",
        "∑X is the sum of all data points,\n",
        "\n",
        "n is the number of data points.\n",
        "\n",
        "Example:\n",
        "For the dataset [4, 6, 8, 10], the mean would be:\n",
        "\n",
        "Mean=(4+6+8+10)/4=28/4=7\n",
        "\n",
        "\n",
        "When to use: The mean is most useful when the data is symmetrically distributed without extreme outliers. However, it can be affected by outliers (extremely high or low values).\n",
        "\n",
        "2. Median (Middle Value)\n",
        "Definition: The median is the middle value when the data points are arranged in ascending or descending order. If there is an even number of data points, the median is the average of the two middle values.\n",
        "\n",
        "Steps:\n",
        "\n",
        "Arrange the data in order.\n",
        "\n",
        "If the number of data points is odd, the median is the middle number.\n",
        "\n",
        "If the number of data points is even, the median is the average of the two middle numbers.\n",
        "\n",
        "Example:\n",
        "For the dataset [3, 5, 7, 9, 11], the median is 7 (the middle value).\n",
        "For the dataset [3, 5, 7, 9], the median would be\n",
        "(5+7)/2=6\n",
        "\n",
        "\n",
        "When to use: The median is particularly useful when the data is skewed or contains outliers because it is not affected by extreme values.\n",
        "\n",
        "3. Mode (Most Frequent Value)\n",
        "Definition: The mode is the value that appears most frequently in a dataset. A dataset can have more than one mode if multiple values appear with the same highest frequency (bimodal, multimodal), or it may have no mode if no value repeats.\n",
        "\n",
        "Example:\n",
        "For the dataset [2, 3, 3, 5, 7, 7, 7, 8], the mode is 7, as it appears most frequently (3 times).\n",
        "\n",
        "When to use: The mode is useful for categorical data where you want to know which category is most common. It can also be used for numerical data, especially when the data is not evenly distributed.\n",
        "\n",
        "\n",
        "##12). Define mean, median, and mode?\n",
        "\n",
        "1. Mean (Arithmetic Average)\n",
        "Definition: The mean is the sum of all the values in a dataset divided by the number of values.\n",
        "\n",
        "Formula:\n",
        "\n",
        "Mean\n",
        "=∑𝑋/𝑛\n",
        "\n",
        "\n",
        "where:\n",
        "∑X is the sum of all data points,\n",
        "\n",
        "n is the number of data points.\n",
        "\n",
        "Example:\n",
        "For the dataset [4, 6, 8, 10], the mean would be:\n",
        "\n",
        "Mean=(4+6+8+10)/4=28/4=7\n",
        "\n",
        "\n",
        "When to use: The mean is most useful when the data is symmetrically distributed without extreme outliers. However, it can be affected by outliers (extremely high or low values).\n",
        "\n",
        "2. Median (Middle Value)\n",
        "Definition: The median is the middle value when the data points are arranged in ascending or descending order. If there is an even number of data points, the median is the average of the two middle values.\n",
        "\n",
        "Steps:\n",
        "\n",
        "Arrange the data in order.\n",
        "\n",
        "If the number of data points is odd, the median is the middle number.\n",
        "\n",
        "If the number of data points is even, the median is the average of the two middle numbers.\n",
        "\n",
        "Example:\n",
        "For the dataset [3, 5, 7, 9, 11], the median is 7 (the middle value).\n",
        "For the dataset [3, 5, 7, 9], the median would be\n",
        "(5+7)/2=6\n",
        "\n",
        "\n",
        "When to use: The median is particularly useful when the data is skewed or contains outliers because it is not affected by extreme values.\n",
        "\n",
        "3. Mode (Most Frequent Value)\n",
        "Definition: The mode is the value that appears most frequently in a dataset. A dataset can have more than one mode if multiple values appear with the same highest frequency (bimodal, multimodal), or it may have no mode if no value repeats.\n",
        "\n",
        "Example:\n",
        "For the dataset [2, 3, 3, 5, 7, 7, 7, 8], the mode is 7, as it appears most frequently (3 times).\n",
        "In short:\n",
        "\n",
        "**Mean:** The average of all values.\n",
        "\n",
        "**Median:** The middle value in an ordered list.\n",
        "\n",
        "**Mode:** The most frequent value.\n",
        "\n",
        "##13). What is the significance of the measure of central tendency?\n",
        "\n",
        "The measures of central tendency (mean, median, and mode) are significant because they provide a single value that represents the \"center\" or typical value of a dataset. This helps in understanding and summarizing large sets of data, making it easier to draw conclusions and make comparisons. Here's the significance of each:\n",
        "\n",
        "1. Simplification of Data\n",
        "The measures of central tendency reduce a large dataset to a single representative value. This simplifies complex data, allowing for quicker analysis and easier communication of results.\n",
        "\n",
        "2. Comparison Between Datasets\n",
        "These measures help in comparing different datasets. For example, comparing the average test scores (mean) of two groups helps assess which group performed better.\n",
        "\n",
        "3. Identifying Trends and Patterns\n",
        "By identifying a \"central\" value, these measures help detect trends or patterns in data. For instance, the median income can give a better idea of the typical income in a region, especially when the data is skewed.\n",
        "\n",
        "4. Decision-Making\n",
        "In many fields (such as business, economics, and health), these measures aid in decision-making. For example, businesses may use the mode to identify the most popular product, or the median to understand typical sales values.\n",
        "\n",
        "5. Data Interpretation\n",
        "They allow for better understanding of the data distribution:\n",
        "\n",
        "Mean is useful for normally distributed data.\n",
        "\n",
        "Median helps with skewed data or data with outliers.\n",
        "\n",
        "Mode is useful for categorical data and identifying the most common value.\n",
        "\n",
        "6. Representing the \"Typical\" Value\n",
        "These measures give insights into the \"typical\" or most representative value in the dataset. This is especially useful when you want to convey the general trend without getting bogged down by individual extremes.\n",
        "\n",
        "##14). What is variance, and how is it calculated?\n",
        "\n",
        "Variance:\n",
        "Variance is a statistical measure that describes the spread or dispersion of a set of data points around the mean. It tells us how much the data points differ from the mean (average) of the dataset. A high variance means the data points are spread out widely, while a low variance means the data points are closer to the mean.\n",
        "\n",
        "Formula for Variance:\n",
        "There are two formulas for calculating variance, depending on whether you're working with a population or a sample.\n",
        "\n",
        "1. Population Variance (𝜎^2):\n",
        "For a population, the variance is calculated using the following formula:\n",
        "\n",
        "𝜎^2=∑(𝑋𝑖−𝜇)^2/𝑁\n",
        "\n",
        "Where:\n",
        "\n",
        "𝜎^2= population variance\n",
        "\n",
        "𝑋𝑖= each data point\n",
        "\n",
        "𝜇 = population mean (average)\n",
        "\n",
        "𝑁 = total number of data points in the population\n",
        "\n",
        "2. Sample Variance (𝑠^2):For a sample, the variance is calculated using this formula:\n",
        "\n",
        "𝑠^2=∑(𝑋𝑖−𝑋mean)/n-1\n",
        "\n",
        "\n",
        "Where:\n",
        "\n",
        "𝑠^2= sample variance\n",
        "\n",
        "𝑋𝑖 = each data point\n",
        "\n",
        "𝑋mean= sample mean (average)\n",
        "\n",
        "𝑛 = number of data points in the sample\n",
        "\n",
        "The key difference between the two formulas is the denominator:\n",
        "\n",
        "For the population variance, the denominator is\n",
        "𝑁(total number of data points).\n",
        "\n",
        "For the sample variance, the denominator is 𝑛−1 (one less than the number of data points). This adjustment is called Bessel's correction, and it corrects the bias in the estimation of the population variance from a sample.\n",
        "\n",
        "##15). What is standard deviation, and why it is important?\n",
        "\n",
        "Standard deviation is a statistical measure that quantifies the amount of variation or dispersion in a dataset. It is the square root of the variance and provides an indication of how spread out the data points are around the mean. A low standard deviation means that the data points are close to the mean, while a high standard deviation means they are more spread out.\n",
        "\n",
        "##Importance of Standard Deviation:\n",
        "**Measure of Spread:**\n",
        "\n",
        "Standard deviation gives a clear understanding of how much individual data points deviate from the mean. It helps in determining whether the data points are clustered closely around the mean or spread out.\n",
        "\n",
        "**Consistency:**\n",
        "\n",
        "A small standard deviation means the data is consistent and stable, while a large standard deviation suggests variability and unpredictability.\n",
        "\n",
        "**Comparison Across Datasets:**\n",
        "\n",
        "Standard deviation allows comparison between different datasets. For example, two datasets with the same mean might have different standard deviations, indicating one dataset is more spread out than the other.\n",
        "\n",
        "**Statistical Inference:**\n",
        "\n",
        "In fields like finance, science, and engineering, standard deviation is used to measure risk, reliability, or uncertainty. In finance, for example, higher standard deviation indicates higher volatility and risk.\n",
        "\n",
        "**Normal Distribution:**\n",
        "\n",
        "For datasets that follow a normal distribution, about 68% of the data will lie within one standard deviation of the mean, 95% will lie within two standard deviations, and 99.7% will lie within three standard deviations. This makes standard deviation a key concept in probability and hypothesis testing.\n",
        "\n",
        "##16).Define and explain the term range in statistics?\n",
        "\n",
        "Range in Statistics:\n",
        "The range is a simple measure of the spread or dispersion of a dataset. It is the difference between the highest and lowest values in the dataset. The range provides a quick indication of how much the values in a dataset vary from one another.\n",
        "\n",
        "Formula for Range:\n",
        "Range=Maximum value−Minimum value\n",
        "Range=Maximum value−Minimum value\n",
        "Where:\n",
        "Maximum value is the largest number in the dataset.\n",
        "Minimum value is the smallest number in the dataset.\n",
        "Example:For the dataset:5,8,12,15,20\n",
        "Maximum value = 20\n",
        "Minimum value = 5\n",
        "So, the Range is:Range=20−5=15\n",
        "Thus, the range of this dataset is 15.\n",
        "\n",
        "**Importance of Range:**\n",
        "Simplicity: The range is easy to calculate and gives a quick sense of how spread out the values are in a dataset.\n",
        "\n",
        "Understanding Variability: It helps to understand the overall variability in the dataset, though it doesn’t tell you anything about the distribution of values in between.\n",
        "\n",
        "\n",
        "##17). What is  the difference between variance and standard deviation?\n",
        "\n",
        "Both variance and standard deviation are measures of dispersion that describe the extent to which data points deviate from the mean of a dataset. However, they differ in how they are calculated, interpreted, and their units of measurement.\n",
        "\n",
        "1. **Variance:**\n",
        "Definition: Variance is the average of the squared differences from the mean. It gives a measure of the extent to which each data point in a set varies from the mean.\n",
        "\n",
        "**Units:** The variance is expressed in squared units of the original data. For example, if the data is measured in meters, the variance will be in square meters (m²). This can make the interpretation of variance less intuitive.\n",
        "\n",
        "**Interpretation:** Variance represents the average squared deviation of each data point from the mean. However, because it is in squared units, it is harder to interpret directly in the context of the original data.\n",
        "\n",
        "2.**Standard Deviation:**\n",
        "Definition: Standard deviation is the square root of the variance. It is the most commonly used measure of the spread of a dataset, as it provides a measure of the average deviation of data points from the mean in the same units as the data itself.\n",
        "\n",
        "**Units:** The standard deviation is in the same unit as the original data. For example, if the data is measured in meters, the standard deviation will also be in meters, making it more interpretable.\n",
        "\n",
        "**Interpretation:** Standard deviation provides a direct measure of the average distance between each data point and the mean. It is more intuitive because it is in the same units as the data, unlike variance, which is in squared units.\n",
        "\n",
        "**Variance** is particularly useful in statistical theory, such as in the context of probability distributions, regression analysis, and when dealing with larger datasets where the effect of outliers is minimized. It is essential in calculating other important statistics, such as covariance and correlation.\n",
        "\n",
        "**Standard Deviation** is more useful in practical applications because it provides a more intuitive sense of how much data deviates from the mean. Since it is in the same units as the data, it’s easier to explain and interpret.\n",
        "\n",
        "##18). What is skewness in a dataset?\n",
        "\n",
        "Skewness in a Dataset:\n",
        "Skewness is a statistical term that describes the asymmetry or lack of symmetry in the distribution of data points in a dataset. In simpler terms, it measures the direction and degree to which the data deviates from a perfectly symmetric (normal) distribution.\n",
        "\n",
        "A dataset can be skewed to the right (positively skewed) or to the left (negatively skewed), depending on the shape of the distribution.\n",
        "\n",
        "Types of Skewness:\n",
        "Positive Skew (Right Skew):\n",
        "\n",
        "When the right tail (the larger values) of the distribution is longer or more spread out than the left tail.\n",
        "\n",
        "Most of the data points are concentrated on the left side of the mean, with a few larger values pulling the mean to the right.\n",
        "\n",
        "Characteristics: Mean > Median > Mode.\n",
        "\n",
        "Example: Income distribution in many countries (a few people earn very high incomes, but most earn average or low incomes).\n",
        "\n",
        "Graph of Positive Skew:\n",
        "\n",
        "The tail on the right side of the graph is longer.\n",
        "\n",
        "Negative Skew (Left Skew):\n",
        "\n",
        "When the left tail (the smaller values) of the distribution is longer or more spread out than the right tail.\n",
        "\n",
        "Most of the data points are concentrated on the right side of the mean, with a few smaller values pulling the mean to the left.\n",
        "\n",
        "Characteristics: Mean < Median < Mode.\n",
        "\n",
        "Example: Age at retirement in certain countries (most people retire at an older age, but a few retire early).\n",
        "\n",
        "Graph of Negative Skew:\n",
        "\n",
        "The tail on the left side of the graph is longer.\n",
        "\n",
        "No Skew (Symmetry):\n",
        "\n",
        "When the data is perfectly symmetric, meaning the left and right sides are mirror images.\n",
        "\n",
        "In a perfectly symmetric distribution, the mean, median, and mode will all be the same.\n",
        "\n",
        "Example: A normal distribution (bell-shaped curve) is an example of no skew.\n",
        "\n",
        "**Skewness** indicates whether the data is symmetrically distributed or has long tails on one side.\n",
        "\n",
        "**Positive skew** means the tail is longer on the right, and negative skew means the tail is longer on the left.\n",
        "\n",
        "**Skewness** helps in understanding the data distribution, and it affects how data should be handled in statistical analysis and modeling.\n",
        "\n",
        "\n",
        "##19). What does it mean if a dataset is positively or negatively skewed?\n",
        "\n",
        "**Positively Skewed (Right Skewed):** The tail on the right side is longer, with a few large values pulling the mean to the right. The mean > median > mode. Example: Income distribution.\n",
        "\n",
        "**Negatively Skewed (Left Skewed):** The tail on the left side is longer, with a few small values pulling the mean to the left. The mean < median < mode. Example: Age at retirement.\n",
        "\n",
        "Skewness helps understand how data is distributed and can impact statistical analysis, requiring possible data transformations for more accurate results.\n",
        "\n",
        "##20). Define and explain kurtosis?\\\n",
        "\n",
        "Kurtosis:\n",
        "Kurtosis is a statistical measure that describes the shape of the distribution, specifically the tailedness or the peak of a dataset's probability distribution. It indicates how much data is concentrated in the tails and around the mean compared to a normal distribution.\n",
        "\n",
        "Types of Kurtosis:\n",
        "Leptokurtic (Positive Kurtosis):\n",
        "\n",
        "A distribution that is more peaked than the normal distribution, with heavier tails.\n",
        "\n",
        "There is a higher concentration of data points around the mean, and the tails are thicker, meaning there are more extreme values (outliers).\n",
        "\n",
        "Kurtosis > 3 (for a normal distribution, the kurtosis value is 3).\n",
        "\n",
        "Example: Stock market returns (can have extreme positive or negative values).\n",
        "\n",
        "Platykurtic (Negative Kurtosis):\n",
        "\n",
        "A distribution that is flatter than the normal distribution, with lighter tails.\n",
        "\n",
        "The data points are more spread out around the mean, and the distribution has fewer extreme values (outliers).\n",
        "\n",
        "Kurtosis < 3.\n",
        "\n",
        "Example: Uniform distribution (where values are evenly spread out).\n",
        "\n",
        "Mesokurtic (Normal Kurtosis):\n",
        "\n",
        "A distribution that has a normal peak and normal tails, similar to the bell-shaped curve of the normal distribution.\n",
        "\n",
        "Kurtosis = 3 (for a normal distribution).\n",
        "\n",
        "Example: Normally distributed data like height or weight (in many cases).\n",
        "\n",
        "##21). What is the purpose of covariance?\n",
        "\n",
        "Purpose of Covariance:\n",
        "Covariance is a statistical measure used to determine the relationship between two variables and how they change together. It indicates whether two variables tend to move in the same direction (positive covariance) or in opposite directions (negative covariance).\n",
        "\n",
        "Key Purposes of Covariance:\n",
        "Measure of Relationship:\n",
        "\n",
        "Covariance tells you how two variables are related. If the variables tend to increase or decrease together, the covariance will be positive. If one increases while the other decreases, the covariance will be negative.\n",
        "\n",
        "It helps in understanding the direction of the relationship between two variables.\n",
        "\n",
        "Understanding Variable Interaction:\n",
        "\n",
        "Covariance helps in understanding how changes in one variable are associated with changes in another variable. For example, in finance, it can be used to assess the relationship between the returns of two stocks.\n",
        "\n",
        "In Multivariable Analysis:\n",
        "\n",
        "Covariance is crucial in the context of multivariate statistics and models like Principal Component Analysis (PCA) and Multivariate Regression. It helps in understanding the relationships between multiple variables simultaneously.\n",
        "\n",
        "Covariance is useful for determining the direction of the relationship between two variables, indicating whether they tend to move in the same or opposite directions. However, it has limitations regarding interpretation and strength, making it more useful when combined with other measures like correlation.\n",
        "\n",
        "\n",
        "##22). What does correlation measure in statistics?\n",
        "\n",
        "Correlation in statistics measures the strength and direction of the linear relationship between two variables. It tells you whether an increase in one variable is associated with an increase or decrease in another variable, and to what degree this relationship holds.\n",
        "\n",
        "Key Points About Correlation:\n",
        "Strength of the Relationship:\n",
        "\n",
        "Strong Positive Correlation: As one variable increases, the other also increases. The closer the correlation value is to +1, the stronger the positive relationship.\n",
        "\n",
        "Strong Negative Correlation: As one variable increases, the other decreases. The closer the correlation value is to -1, the stronger the negative relationship.\n",
        "\n",
        "No Correlation: A correlation of 0 indicates no linear relationship between the two variables.\n",
        "\n",
        "Direction of the Relationship:\n",
        "\n",
        "Positive Correlation: Both variables move in the same direction (i.e., when one increases, the other increases).\n",
        "\n",
        "Negative Correlation: The variables move in opposite directions (i.e., when one increases, the other decreases).\n",
        "\n",
        "Correlation Coefficient Values:\n",
        "+1: Perfect positive correlation — as one variable increases, the other increases proportionally.\n",
        "\n",
        "-1: Perfect negative correlation — as one variable increases, the other decreases proportionally.\n",
        "\n",
        "0: No linear correlation — no predictable relationship between the variables.\n",
        "\n",
        "Between -1 and +1: Indicates varying degrees of linear relationship. The closer the value is to -1 or +1, the stronger the relationship.\n",
        "\n",
        "Types of Correlation:\n",
        "Pearson's Correlation: Measures the linear relationship between two continuous variables.\n",
        "\n",
        "Spearman's Rank Correlation: Measures the strength and direction of the relationship between two variables when the data are ordinal or not normally distributed.\n",
        "\n",
        "Kendall's Tau: Another non-parametric measure used for ordinal data, similar to Spearman's rank.\n",
        "\n",
        "Examples:\n",
        "Positive Correlation: Height and weight — generally, as height increases, weight tends to increase.\n",
        "\n",
        "Negative Correlation: Amount of exercise and body fat percentage — as exercise increases, body fat percentage tends to decrease.\n",
        "\n",
        "No Correlation: Shoe size and intelligence — no relationship between these two variables.\n",
        "\n",
        "Correlation measures both the direction and strength of the linear relationship between two variables, helping to understand how changes in one variable might correspond with changes in another. However, it only measures linear relationships and does not imply causation.\n",
        "\n",
        "\n",
        "##23). What is the difference between covariance and correlation?\n",
        "\n",
        "Both covariance and correlation measure the relationship between two variables, but they differ in their scale, interpretation, and calculation. Here's a comparison:\n",
        "\n",
        "1. Scale and Units:\n",
        "Covariance:\n",
        "\n",
        "Units-dependent: The value of covariance depends on the units of the variables. For example, if you're measuring height in centimeters and weight in kilograms, the covariance will be in centimeter-kilograms.\n",
        "\n",
        "This makes it difficult to compare the covariance between different datasets or variables with different units.\n",
        "\n",
        "Correlation:\n",
        "\n",
        "Unit-free: The correlation coefficient is a normalized measure, meaning it is always between -1 and 1, regardless of the units of the variables.\n",
        "\n",
        "It is standardized, so it is easier to interpret and compare across different datasets or variables.\n",
        "\n",
        "2. Interpretation:\n",
        "Covariance:\n",
        "\n",
        "Direction of Relationship: Covariance indicates whether two variables move in the same direction (positive covariance) or in opposite directions (negative covariance).\n",
        "\n",
        "Magnitude: The magnitude of covariance doesn’t provide much information about the strength of the relationship since it is affected by the scale of the variables.\n",
        "\n",
        "Correlation:\n",
        "\n",
        "Direction and Strength of Relationship: Correlation not only indicates the direction of the relationship (positive or negative) but also provides a measure of the strength of the linear relationship. A value of +1 or -1 indicates a perfect linear relationship, while a value of 0 indicates no linear relationship.\n",
        "\n",
        "Standardized: The correlation coefficient makes it easier to determine how strong the relationship is because it is a unit-free measure.\n",
        "\n",
        "3. Range of Values:\n",
        "Covariance:\n",
        "\n",
        "The value of covariance can range from negative infinity to positive infinity. Its value depends on the units of the variables, making it difficult to compare across different datasets.\n",
        "\n",
        "Correlation:\n",
        "\n",
        "The correlation coefficient ranges from -1 to +1. A value of +1 means a perfect positive linear relationship, -1 means a perfect negative linear relationship, and 0 means no linear relationship.\n",
        "\n",
        " Usage:\n",
        "Covariance:\n",
        "\n",
        "Often used in statistical models and portfolio theory (finance) to measure how two variables vary together.\n",
        "\n",
        "It can be used to compute the variance-covariance matrix in multivariate statistics.\n",
        "\n",
        "Correlation:\n",
        "\n",
        "Widely used in data analysis and statistics to determine the strength and direction of a linear relationship between variables.\n",
        "\n",
        "Correlation is often preferred for understanding relationships because it is standardized and easier to interpret.\n",
        "\n",
        "\n",
        "##24). What are some real-world applications of statistics?\n",
        "\n",
        "Statistics plays a crucial role in a wide variety of fields, offering valuable insights and guiding decision-making processes. Here are some real-world applications of statistics:\n",
        "\n",
        "1. Healthcare and Medicine:\n",
        "Clinical Trials: Statistics are used to design experiments, analyze results, and determine the effectiveness of new treatments, medications, or vaccines. For example, clinical trials for a new drug rely on statistical tests to determine whether the drug is effective and safe.\n",
        "\n",
        "Epidemiology: Helps in understanding the spread of diseases, analyzing public health data, and predicting future outbreaks (e.g., COVID-19 modeling).\n",
        "\n",
        "Medical Imaging: Statistical techniques are applied to improve the quality and interpretation of medical images, such as MRI scans or X-rays.\n",
        "\n",
        "2. Finance and Economics:\n",
        "Risk Assessment: In banking and finance, statistics are used to assess the risk of investments, loans, and insurance policies. Models like Value at Risk (VaR) use statistical methods to predict potential losses.\n",
        "\n",
        "Stock Market Analysis: Investors use statistical techniques, such as regression and correlation analysis, to predict stock prices and market trends.\n",
        "\n",
        "Econometric Models: Governments and organizations use statistics to forecast economic indicators, such as GDP, unemployment rates, and inflation, to make policy decisions.\n",
        "\n",
        "3. Sports Analytics:\n",
        "Performance Analysis: In sports, statistics are used to evaluate player performance, strategies, and team dynamics. For example, baseball uses metrics like batting averages, slugging percentages, and on-base percentages.\n",
        "\n",
        "Game Strategy: Coaches and teams use statistical models to improve team strategies, analyze opponents, and make decisions on player selection or in-game tactics.\n",
        "\n",
        "4. Marketing and Consumer Behavior:\n",
        "Market Research: Companies use surveys, focus groups, and statistical analysis to understand customer preferences, buying behaviors, and market trends. This helps businesses target the right audience and make product decisions.\n",
        "\n",
        "Customer Segmentation: Statistics are used to group customers based on common characteristics, allowing businesses to tailor marketing efforts and improve customer satisfaction.\n",
        "\n",
        "A/B Testing: Marketers use statistical tests to evaluate the effectiveness of different marketing strategies, such as website designs or advertisement formats, by comparing control and test groups.\n",
        "\n",
        "5. Quality Control and Manufacturing:\n",
        "Process Improvement: In manufacturing, statistics are used in quality control processes (e.g., Six Sigma) to minimize defects and optimize production.\n",
        "\n",
        "Sampling and Inspection: Statistical methods help companies in inspecting random samples from production lines to ensure the final product meets the required standards.\n",
        "\n",
        "6. Education:\n",
        "Educational Testing: Statistical methods are used to analyze test scores, identify trends, and determine the effectiveness of teaching methods or educational interventions (e.g., SAT, ACT exams).\n",
        "\n",
        "Student Performance Analysis: Schools and universities use statistics to analyze student performance data, identify areas for improvement, and evaluate the effectiveness of educational programs.\n",
        "\n",
        "7. Government and Public Policy:\n",
        "Census and Demographics: Governments use statistical methods to conduct national censuses and understand the demographic makeup of populations, which informs policy decisions (e.g., resource allocation, health care).\n",
        "\n",
        "Polls and Surveys: Statistical analysis is used in political polling to predict election outcomes, understand public opinion, and assess public policy.\n",
        "\n",
        "8. Transportation and Logistics:\n",
        "Route Optimization: Statistics help in optimizing delivery routes, reducing costs, and improving efficiency in logistics (e.g., Amazon, FedEx).\n",
        "\n",
        "Traffic Flow and Safety: Transportation authorities use statistical models to analyze traffic patterns, improve road safety, and predict traffic congestion.\n",
        "\n",
        "9. Social Sciences:\n",
        "Behavioral Studies: In psychology and sociology, statistical techniques are used to analyze survey data, conduct experiments, and interpret human behavior.\n",
        "\n",
        "Crime Analysis: Police departments and criminologists use statistics to analyze crime trends, predict areas with high crime rates, and allocate resources effectively.\n",
        "\n",
        "10. Environmental Science:\n",
        "Climate Change Analysis: Scientists use statistics to model and predict climate change patterns, analyze environmental data (e.g., temperature, CO2 levels), and assess the impact of human activities.\n",
        "\n",
        "Wildlife Conservation: Statistical methods are used to study endangered species populations, track habitat changes, and plan conservation efforts.\n",
        "\n",
        "11. Retail and E-commerce:\n",
        "Inventory Management: Retailers use statistical models to forecast demand and optimize inventory levels, ensuring they meet customer needs without overstocking.\n",
        "\n",
        "Personalized Recommendations: E-commerce platforms (like Amazon) use statistical algorithms (e.g., collaborative filtering) to recommend products based on customer behavior and preferences.\n",
        "\n",
        "12. Artificial Intelligence and Machine Learning:\n",
        "Data Analysis and Predictions: Statistics are foundational to machine learning algorithms, helping to analyze and predict outcomes based on large datasets. Techniques like regression, classification, and clustering all rely on statistical principles.\n",
        "\n",
        "Natural Language Processing (NLP): Statistical methods help machines understand and generate human language (e.g., chatbots, voice assistants).\n",
        "\n"
      ],
      "metadata": {
        "id": "JJlMstkFbaU-"
      }
    },
    {
      "cell_type": "markdown",
      "source": [
        "#Practical Assignment"
      ],
      "metadata": {
        "id": "72mp5QNORYkd"
      }
    },
    {
      "cell_type": "markdown",
      "source": [
        "##1).How do you calculate the mean, median, and mode of a dataset?"
      ],
      "metadata": {
        "id": "TtUy50S-RedL"
      }
    },
    {
      "cell_type": "code",
      "source": [
        "import statistics\n",
        "\n",
        "data = [5, 7, 3, 9, 12, 7]\n",
        "\n",
        "# Calculate Mean\n",
        "mean = sum(data) / len(data)\n",
        "print(f\"Mean: {mean}\")\n",
        "\n",
        "# Calculate Median\n",
        "median = statistics.median(data)\n",
        "print(f\"Median: {median}\")\n",
        "\n",
        "# Calculate Mode\n",
        "try:\n",
        "    mode = statistics.mode(data)\n",
        "    print(f\"Mode: {mode}\")\n",
        "except statistics.StatisticsError:\n",
        "    print(\"Mode: No unique mode\")\n"
      ],
      "metadata": {
        "colab": {
          "base_uri": "https://localhost:8080/"
        },
        "id": "ZkD0aERfR1YQ",
        "outputId": "39f389c5-d86b-4169-fa0e-6f0ce28aec88"
      },
      "execution_count": null,
      "outputs": [
        {
          "output_type": "stream",
          "name": "stdout",
          "text": [
            "Mean: 7.166666666666667\n",
            "Median: 7.0\n",
            "Mode: 7\n"
          ]
        }
      ]
    },
    {
      "cell_type": "markdown",
      "source": [
        "##2). Write a Python program to compute the variance and standard deviation of a dataset."
      ],
      "metadata": {
        "id": "zSrKx3A5S51v"
      }
    },
    {
      "cell_type": "code",
      "source": [
        "import statistics\n",
        "\n",
        "# Sample dataset\n",
        "data = [5, 7, 3, 9, 12, 7]\n",
        "\n",
        "# Calculate Variance\n",
        "variance = statistics.variance(data)\n",
        "print(f\"Variance: {variance}\")\n",
        "\n",
        "# Calculate Standard Deviation\n",
        "std_dev = statistics.stdev(data)\n",
        "print(f\"Standard Deviation: {std_dev}\")\n"
      ],
      "metadata": {
        "colab": {
          "base_uri": "https://localhost:8080/"
        },
        "id": "JGttgZcNTO7w",
        "outputId": "ccf6cc0a-75fe-4459-8fb7-2d56a9a997e8"
      },
      "execution_count": null,
      "outputs": [
        {
          "output_type": "stream",
          "name": "stdout",
          "text": [
            "Variance: 9.766666666666667\n",
            "Standard Deviation: 3.125166662222459\n"
          ]
        }
      ]
    },
    {
      "cell_type": "markdown",
      "source": [
        "##3). Create a dataset and classify it into nominal, ordinal, interval, and ratio types."
      ],
      "metadata": {
        "id": "e7FysvTsTVuW"
      }
    },
    {
      "cell_type": "code",
      "source": [
        "# Nominal data - Categories with no order\n",
        "nominal_data = ['Red', 'Blue', 'Green', 'Blue', 'Red']\n",
        "\n",
        "# Ordinal data - Categories with order\n",
        "ordinal_data = ['High School', 'Bachelor', 'Master', 'Doctorate', 'Bachelor']\n",
        "\n",
        "# Interval data - Numeric values with meaningful intervals, no true zero\n",
        "interval_data = [22, 25, 28, 30, 24]  # Temperature in Celsius\n",
        "\n",
        "# Ratio data - Numeric values with meaningful intervals and a true zero\n",
        "ratio_data = [160, 175, 180, 155, 170]  # Height in cm\n",
        "\n",
        "# Display the datasets\n",
        "print(\"Nominal Data:\", nominal_data)\n",
        "print(\"Ordinal Data:\", ordinal_data)\n",
        "print(\"Interval Data:\", interval_data)\n",
        "print(\"Ratio Data:\", ratio_data)\n"
      ],
      "metadata": {
        "colab": {
          "base_uri": "https://localhost:8080/"
        },
        "id": "xhSwsiZuTkOo",
        "outputId": "1c770aeb-0f43-4727-dc8c-11ef8468d238"
      },
      "execution_count": null,
      "outputs": [
        {
          "output_type": "stream",
          "name": "stdout",
          "text": [
            "Nominal Data: ['Red', 'Blue', 'Green', 'Blue', 'Red']\n",
            "Ordinal Data: ['High School', 'Bachelor', 'Master', 'Doctorate', 'Bachelor']\n",
            "Interval Data: [22, 25, 28, 30, 24]\n",
            "Ratio Data: [160, 175, 180, 155, 170]\n"
          ]
        }
      ]
    },
    {
      "cell_type": "markdown",
      "source": [
        "##4).  Implement sampling techniques like random sampling and stratified sampling."
      ],
      "metadata": {
        "id": "GUsLWiZRUUTG"
      }
    },
    {
      "cell_type": "code",
      "source": [
        "import random\n",
        "\n",
        "# Sample dataset\n",
        "data = [10, 20, 30, 40, 50, 60, 70, 80, 90, 100]\n",
        "\n",
        "# Number of samples to select\n",
        "sample_size = 5\n",
        "\n",
        "# Random Sampling\n",
        "random_sample = random.sample(data, sample_size)\n",
        "\n",
        "print(\"Random Sample:\", random_sample)\n",
        "\n"
      ],
      "metadata": {
        "colab": {
          "base_uri": "https://localhost:8080/"
        },
        "id": "2zWOY_CFUpiE",
        "outputId": "4c7064ac-e8bd-4fa4-fb5f-6fbb57d6735f"
      },
      "execution_count": null,
      "outputs": [
        {
          "output_type": "stream",
          "name": "stdout",
          "text": [
            "Random Sample: [80, 20, 10, 40, 90]\n"
          ]
        }
      ]
    },
    {
      "cell_type": "markdown",
      "source": [
        "##5). Write a Python function to calculate the range of a dataset."
      ],
      "metadata": {
        "id": "nAPf8dsuVGzc"
      }
    },
    {
      "cell_type": "code",
      "source": [
        "def calculate_range(data):\n",
        "    if len(data) == 0:\n",
        "        return \"Dataset is empty\"\n",
        "\n",
        "    range_value = max(data) - min(data)\n",
        "    return range_value\n",
        "\n",
        "data = [5, 7, 3, 9, 12]\n",
        "\n",
        "range_result = calculate_range(data)\n",
        "print(f\"Range of the dataset: {range_result}\")\n"
      ],
      "metadata": {
        "colab": {
          "base_uri": "https://localhost:8080/"
        },
        "id": "ieoDDul9VKbg",
        "outputId": "80fed153-6652-4a67-be87-15c45427f645"
      },
      "execution_count": null,
      "outputs": [
        {
          "output_type": "stream",
          "name": "stdout",
          "text": [
            "Range of the dataset: 9\n"
          ]
        }
      ]
    },
    {
      "cell_type": "markdown",
      "source": [
        "##6). Create a dataset and plot its histogram to visualize skewness."
      ],
      "metadata": {
        "id": "BjjuuDpVVl5u"
      }
    },
    {
      "cell_type": "code",
      "source": [
        "import numpy as np\n",
        "import matplotlib.pyplot as plt\n",
        "import seaborn as sns\n",
        "\n",
        "# Create a dataset with positive skewness (right-skewed)\n",
        "data = np.random.exponential(scale=2, size=1000)\n",
        "# Plot the histogram\n",
        "plt.figure(figsize=(8, 6))\n",
        "sns.histplot(data, kde=True, bins=30, color='skyblue')\n",
        "\n",
        "# Title and labels\n",
        "plt.title('Histogram with Skewness Visualization', fontsize=15)\n",
        "plt.xlabel('Values', fontsize=12)\n",
        "plt.ylabel('Frequency', fontsize=12)\n",
        "\n",
        "# Show the plot\n",
        "plt.show()\n"
      ],
      "metadata": {
        "colab": {
          "base_uri": "https://localhost:8080/",
          "height": 515
        },
        "id": "0Vty8vSbVxIq",
        "outputId": "4a887398-df58-4dd4-afbd-da80f049bab7"
      },
      "execution_count": null,
      "outputs": [
        {
          "output_type": "display_data",
          "data": {
            "text/plain": [
              "<Figure size 800x600 with 1 Axes>"
            ],
            "image/png": "[encoded data removed]"
          },
          "metadata": {}
        }
      ]
    },
    {
      "cell_type": "markdown",
      "source": [
        "##7).  Calculate skewness and kurtosis of a dataset using Python libraries."
      ],
      "metadata": {
        "id": "GHHe_gCxWGhq"
      }
    },
    {
      "cell_type": "code",
      "source": [
        "import numpy as np\n",
        "import pandas as pd\n",
        "from scipy import stats\n",
        "\n",
        "# Create a sample dataset (for demonstration purposes)\n",
        "data = np.random.exponential(scale=2, size=1000)\n",
        "\n",
        "# Convert data into a pandas Series (or it can be a NumPy array)\n",
        "data_series = pd.Series(data)\n",
        "\n",
        "# Calculate Skewness\n",
        "skewness = stats.skew(data_series)\n",
        "print(f\"Skewness of the dataset: {skewness}\")\n",
        "\n",
        "# Calculate Kurtosis\n",
        "kurtosis = stats.kurtosis(data_series)\n",
        "print(f\"Kurtosis of the dataset: {kurtosis}\")\n"
      ],
      "metadata": {
        "colab": {
          "base_uri": "https://localhost:8080/"
        },
        "id": "5emdkYsTWL_S",
        "outputId": "aebca9a7-957e-495e-d1a5-5942710de2f0"
      },
      "execution_count": null,
      "outputs": [
        {
          "output_type": "stream",
          "name": "stdout",
          "text": [
            "Skewness of the dataset: 2.427977180191573\n",
            "Kurtosis of the dataset: 9.375271924371043\n"
          ]
        }
      ]
    },
    {
      "cell_type": "markdown",
      "source": [
        "##8).  Generate a dataset and demonstrate positive and negative skewness?\n",
        "\n"
      ],
      "metadata": {
        "id": "IIYr_k7PWbFN"
      }
    },
    {
      "cell_type": "code",
      "source": [
        "import numpy as np\n",
        "import matplotlib.pyplot as plt\n",
        "import seaborn as sns\n",
        "\n",
        "\n",
        "plt.figure(figsize=(14, 6))\n",
        "\n",
        "\n",
        "data_positive_skew = np.random.exponential(scale=2, size=1000)\n",
        "\n",
        "\n",
        "plt.subplot(1, 2, 1)\n",
        "sns.histplot(data_positive_skew, kde=True, color='skyblue', bins=30)\n",
        "plt.title('Positive Skewness (Right Skew)', fontsize=15)\n",
        "plt.xlabel('Values', fontsize=12)\n",
        "plt.ylabel('Frequency', fontsize=12)\n",
        "\n",
        "data_negative_skew = np.random.lognormal(mean=0, sigma=1, size=1000)\n",
        "\n",
        "\n",
        "plt.subplot(1, 2, 2)\n",
        "sns.histplot(data_negative_skew, kde=True, color='salmon', bins=30)\n",
        "plt.title('Negative Skewness (Left Skew)', fontsize=15)\n",
        "plt.xlabel('Values', fontsize=12)\n",
        "plt.ylabel('Frequency', fontsize=12)\n",
        "\n",
        "\n",
        "plt.tight_layout()\n",
        "plt.show()\n"
      ],
      "metadata": {
        "colab": {
          "base_uri": "https://localhost:8080/",
          "height": 284
        },
        "id": "cIIKolYoW_tJ",
        "outputId": "b793f714-dfce-4d0e-9dd4-3a459bfd3761"
      },
      "execution_count": null,
      "outputs": [
        {
          "output_type": "display_data",
          "data": {
            "text/plain": [
              "<Figure size 1400x600 with 2 Axes>"
            ],
            "image/png": "[encoded data removed]"
          },
          "metadata": {}
        }
      ]
    },
    {
      "cell_type": "markdown",
      "source": [
        "##9). Write a Python script to calculate covariance between two datasets."
      ],
      "metadata": {
        "id": "ag0IX1LSXbqq"
      }
    },
    {
      "cell_type": "code",
      "source": [
        "import numpy as np\n",
        "\n",
        "# Sample datasets\n",
        "dataset_1 = [10, 20, 30, 40, 50]\n",
        "dataset_2 = [5, 15, 25, 35, 45]\n",
        "\n",
        "# Calculate Covariance\n",
        "covariance = np.cov(dataset_1, dataset_2)[0][1]\n",
        "\n",
        "print(f\"Covariance between the two datasets: {covariance}\")\n"
      ],
      "metadata": {
        "colab": {
          "base_uri": "https://localhost:8080/"
        },
        "id": "CuATCUyCXjml",
        "outputId": "ab82d83d-87cb-4031-d9c3-6b1eb0d3eacf"
      },
      "execution_count": null,
      "outputs": [
        {
          "output_type": "stream",
          "name": "stdout",
          "text": [
            "Covariance between the two datasets: 250.0\n"
          ]
        }
      ]
    },
    {
      "cell_type": "markdown",
      "source": [
        "##10). Write a Python script to calculate the correlation coefficient between two datasets.\n",
        "\n",
        "\n"
      ],
      "metadata": {
        "id": "9xHXOpMnYBSh"
      }
    },
    {
      "cell_type": "code",
      "source": [
        "import numpy as np\n",
        "\n",
        "# Sample datasets\n",
        "dataset_1 = [10, 20, 30, 40, 50]\n",
        "dataset_2 = [5, 15, 25, 35, 45]\n",
        "\n",
        "# Calculate correlation coefficient\n",
        "correlation_matrix = np.corrcoef(dataset_1, dataset_2)\n",
        "correlation_coefficient = correlation_matrix[0, 1]\n",
        "\n",
        "print(f\"Correlation coefficient between the two datasets: {correlation_coefficient}\")"
      ],
      "metadata": {
        "colab": {
          "base_uri": "https://localhost:8080/"
        },
        "id": "plAcY188Yuzh",
        "outputId": "fdb968e5-27db-447e-dc4f-920b81c65cee"
      },
      "execution_count": null,
      "outputs": [
        {
          "output_type": "stream",
          "name": "stdout",
          "text": [
            "Correlation coefficient between the two datasets: 1.0\n"
          ]
        }
      ]
    },
    {
      "cell_type": "markdown",
      "source": [
        "##11).  Create a scatter plot to visualize the relationship between two variables."
      ],
      "metadata": {
        "id": "8dRe-kRIY4z_"
      }
    },
    {
      "cell_type": "code",
      "source": [
        "import matplotlib.pyplot as plt\n",
        "\n",
        "# Sample datasets\n",
        "dataset_1 = [10, 20, 30, 40, 50]\n",
        "dataset_2 = [5, 15, 25, 35, 45]\n",
        "\n",
        "# Create a scatter plot\n",
        "plt.figure(figsize=(8, 6))\n",
        "plt.scatter(dataset_1, dataset_2, color='blue', label='Data points')\n",
        "\n",
        "# Title and labels\n",
        "plt.title('Scatter Plot to Visualize Relationship Between Two Variables', fontsize=14)\n",
        "plt.xlabel('Dataset 1', fontsize=12)\n",
        "plt.ylabel('Dataset 2', fontsize=12)\n",
        "\n",
        "# Add grid and legend\n",
        "plt.grid(True)\n",
        "plt.legend()\n",
        "\n",
        "# Show the plot\n",
        "plt.show()\n"
      ],
      "metadata": {
        "colab": {
          "base_uri": "https://localhost:8080/",
          "height": 520
        },
        "id": "DXfMOUXgZl2e",
        "outputId": "b6dde5f5-3952-4f2a-96af-3189ebe99b05"
      },
      "execution_count": null,
      "outputs": [
        {
          "output_type": "display_data",
          "data": {
            "text/plain": [
              "<Figure size 800x600 with 1 Axes>"
            ],
            "image/png": "[encoded data removed]"
          },
          "metadata": {}
        }
      ]
    },
    {
      "cell_type": "markdown",
      "source": [
        "##12).  Implement and compare simple random sampling and systematic sampling."
      ],
      "metadata": {
        "id": "iTx8h2uda7A-"
      }
    },
    {
      "cell_type": "code",
      "source": [
        "import numpy as np\n",
        "import matplotlib.pyplot as plt\n",
        "import random\n",
        "\n",
        "# Create a population (for example, numbers from 1 to 100)\n",
        "population = list(range(1, 101))\n",
        "\n",
        "# Simple Random Sampling\n",
        "def simple_random_sampling(population, sample_size):\n",
        "    return random.sample(population, sample_size)\n",
        "\n",
        "# Systematic Sampling\n",
        "def systematic_sampling(population, sample_size):\n",
        "    k = len(population) // sample_size  # Calculate the step size\n",
        "    start = random.randint(0, k - 1)  # Random starting point\n",
        "    return [population[i] for i in range(start, len(population), k)][:sample_size]\n",
        "\n",
        "# Sample sizes for comparison\n",
        "sample_size = 10\n",
        "\n",
        "# Apply both sampling methods\n",
        "simple_random_sample = simple_random_sampling(population, sample_size)\n",
        "systematic_sample = systematic_sampling(population, sample_size)\n",
        "\n",
        "# Print the results\n",
        "print(f\"Simple Random Sample: {simple_random_sample}\")\n",
        "print(f\"Systematic Sample: {systematic_sample}\")\n",
        "\n",
        "# Plotting the results\n",
        "plt.figure(figsize=(10, 6))\n",
        "\n",
        "# Plot Simple Random Sample\n",
        "plt.subplot(1, 2, 1)\n",
        "plt.scatter(simple_random_sample, [1]*len(simple_random_sample), color='blue', label='Simple Random Sampling')\n",
        "plt.yticks([])  # Hide y-ticks for clarity\n",
        "plt.title('Simple Random Sampling')\n",
        "plt.xlabel('Sample Values')\n",
        "\n",
        "# Plot Systematic Sample\n",
        "plt.subplot(1, 2, 2)\n",
        "plt.scatter(systematic_sample, [1]*len(systematic_sample), color='red', label='Systematic Sampling')\n",
        "plt.yticks([])  # Hide y-ticks for clarity\n",
        "plt.title('Systematic Sampling')\n",
        "plt.xlabel('Sample Values')\n",
        "\n",
        "plt.tight_layout()\n",
        "plt.show()\n"
      ],
      "metadata": {
        "colab": {
          "base_uri": "https://localhost:8080/",
          "height": 428
        },
        "id": "y7263YD0bCnt",
        "outputId": "a7426053-758d-4d86-b942-66c8a4690b96"
      },
      "execution_count": null,
      "outputs": [
        {
          "output_type": "stream",
          "name": "stdout",
          "text": [
            "Simple Random Sample: [15, 33, 4, 19, 66, 6, 22, 74, 72, 58]\n",
            "Systematic Sample: [8, 18, 28, 38, 48, 58, 68, 78, 88, 98]\n"
          ]
        },
        {
          "output_type": "display_data",
          "data": {
            "text/plain": [
              "<Figure size 1000x600 with 2 Axes>"
            ],
            "image/png": "[encoded data removed]"
          },
          "metadata": {}
        }
      ]
    },
    {
      "cell_type": "markdown",
      "source": [
        "##13). Calculate the mean, median, and mode of grouped data."
      ],
      "metadata": {
        "id": "PxGdjFeSbqFb"
      }
    },
    {
      "cell_type": "code",
      "source": [
        "import numpy as np\n",
        "\n",
        "# Given grouped data\n",
        "class_intervals = [(0, 10), (10, 20), (20, 30), (30, 40), (40, 50)]  # Class intervals\n",
        "frequencies = [5, 8, 12, 6, 4]  # Corresponding frequencies\n",
        "\n",
        "# Calculate the midpoints of the class intervals\n",
        "midpoints = [(start + end) / 2 for start, end in class_intervals]\n",
        "\n",
        "# Calculate the mean\n",
        "total_frequencies = sum(frequencies)\n",
        "mean = sum(f * m for f, m in zip(frequencies, midpoints)) / total_frequencies\n",
        "\n",
        "# Calculate the cumulative frequencies for median\n",
        "cumulative_frequencies = np.cumsum(frequencies)\n",
        "\n",
        "# Median Calculation\n",
        "n = total_frequencies\n",
        "median_class_index = np.where(cumulative_frequencies >= n / 2)[0][0]  # Find median class\n",
        "L = class_intervals[median_class_index][0]  # Lower boundary of median class\n",
        "F = cumulative_frequencies[median_class_index - 1] if median_class_index > 0 else 0  # Cumulative frequency before median class\n",
        "f = frequencies[median_class_index]  # Frequency of the median class\n",
        "h = class_intervals[median_class_index][1] - class_intervals[median_class_index][0]  # Class width\n",
        "\n",
        "# Median formula\n",
        "median = L + ((n / 2 - F) / f) * h\n",
        "\n",
        "# Mode Calculation\n",
        "# Finding the modal class (the class with the highest frequency)\n",
        "mode_class_index = np.argmax(frequencies)\n",
        "L_mode = class_intervals[mode_class_index][0]  # Lower boundary of the modal class\n",
        "f1 = frequencies[mode_class_index]  # Frequency of the modal class\n",
        "f0 = frequencies[mode_class_index - 1] if mode_class_index > 0 else 0  # Frequency of the class before modal class\n",
        "f2 = frequencies[mode_class_index + 1] if mode_class_index < len(frequencies) - 1 else 0  # Frequency of the class after modal class\n",
        "\n",
        "# Mode formula\n",
        "mode = L_mode + ((f1 - f0) / (2 * f1 - f0 - f2)) * h\n",
        "\n",
        "# Display results\n",
        "print(f\"Mean: {mean:.2f}\")\n",
        "print(f\"Median: {median:.2f}\")\n",
        "print(f\"Mode: {mode:.2f}\")\n"
      ],
      "metadata": {
        "colab": {
          "base_uri": "https://localhost:8080/"
        },
        "id": "KRIceumOb8W5",
        "outputId": "b8bf9269-b416-4588-856f-b782ada16164"
      },
      "execution_count": null,
      "outputs": [
        {
          "output_type": "stream",
          "name": "stdout",
          "text": [
            "Mean: 23.86\n",
            "Median: 23.75\n",
            "Mode: 24.00\n"
          ]
        }
      ]
    },
    {
      "cell_type": "markdown",
      "source": [
        "##14).  Simulate data using Python and calculate its central tendency and dispersion."
      ],
      "metadata": {
        "id": "ERhudy7QchUR"
      }
    },
    {
      "cell_type": "code",
      "source": [
        "import numpy as np\n",
        "from scipy import stats\n",
        "\n",
        "# Simulate random data\n",
        "np.random.seed(42)\n",
        "data = np.random.normal(loc=50, scale=10, size=1000)\n",
        "\n",
        "# Central Tendency\n",
        "mean = np.mean(data)\n",
        "median = np.median(data)\n",
        "\n",
        "# Calculate mode and handle the case where mode is a scalar\n",
        "mode_result = stats.mode(data)\n",
        "mode = mode_result.mode[0] if isinstance(mode_result.mode, np.ndarray) else mode_result.mode # If mode_result.mode is an ndarray, access the first element. Otherwise, use mode_result.mode directly.\n",
        "\n",
        "# Dispersion\n",
        "variance = np.var(data)\n",
        "std_deviation = np.std(data)\n",
        "data_range = np.max(data) - np.min(data)\n",
        "\n",
        "# Display Results\n",
        "print(f\"Mean: {mean:.2f}\")\n",
        "print(f\"Median: {median:.2f}\")\n",
        "print(f\"Mode: {mode:.2f}\")\n",
        "print(f\"Variance: {variance:.2f}\")\n",
        "print(f\"Standard Deviation: {std_deviation:.2f}\")\n",
        "print(f\"Range: {data_range:.2f}\")\n"
      ],
      "metadata": {
        "colab": {
          "base_uri": "https://localhost:8080/"
        },
        "id": "WEm_FzUTco5r",
        "outputId": "6d225fcb-9e71-412d-faf0-36bd986a2b86"
      },
      "execution_count": null,
      "outputs": [
        {
          "output_type": "stream",
          "name": "stdout",
          "text": [
            "Mean: 50.19\n",
            "Median: 50.25\n",
            "Mode: 17.59\n",
            "Variance: 95.79\n",
            "Standard Deviation: 9.79\n",
            "Range: 70.94\n"
          ]
        }
      ]
    },
    {
      "cell_type": "markdown",
      "source": [
        "##15). Use Numpy or pandas to summarize a dataset's descriptive statistics."
      ],
      "metadata": {
        "id": "adr6Cu2X5OdR"
      }
    },
    {
      "cell_type": "code",
      "source": [
        "import pandas as pd\n",
        "\n",
        "# Sample dataset\n",
        "data = {\n",
        "    \"Age\": [25, 30, 35, 40, 45, 50, 55],\n",
        "    \"Salary\": [40000, 50000, 60000, 70000, 80000, 90000, 100000]\n",
        "}\n",
        "\n",
        "# Create DataFrame\n",
        "df = pd.DataFrame(data)\n",
        "\n",
        "# Generate summary statistics\n",
        "summary = df.describe()\n",
        "print(summary)\n"
      ],
      "metadata": {
        "colab": {
          "base_uri": "https://localhost:8080/"
        },
        "id": "-ompae2k6e9R",
        "outputId": "912784cb-df2d-4cf5-f5ff-3c76d1c32ce2"
      },
      "execution_count": 1,
      "outputs": [
        {
          "output_type": "stream",
          "name": "stdout",
          "text": [
            "             Age         Salary\n",
            "count   7.000000       7.000000\n",
            "mean   40.000000   70000.000000\n",
            "std    10.801234   21602.468995\n",
            "min    25.000000   40000.000000\n",
            "25%    32.500000   55000.000000\n",
            "50%    40.000000   70000.000000\n",
            "75%    47.500000   85000.000000\n",
            "max    55.000000  100000.000000\n"
          ]
        }
      ]
    },
    {
      "cell_type": "markdown",
      "source": [
        "##16). Plot a boxplot to understand the spread and identify outliers.\n",
        "\n"
      ],
      "metadata": {
        "id": "s1bGxpP36p-G"
      }
    },
    {
      "cell_type": "code",
      "source": [
        "import pandas as pd\n",
        "import seaborn as sns\n",
        "import matplotlib.pyplot as plt\n",
        "\n",
        "# Sample dataset\n",
        "data = {\n",
        "    \"Age\": [25, 30, 35, 40, 45, 50, 55],\n",
        "    \"Salary\": [40000, 50000, 60000, 70000, 80000, 90000, 100000]\n",
        "}\n",
        "\n",
        "# Create DataFrame\n",
        "df = pd.DataFrame(data)\n",
        "\n",
        "# Create a figure with subplots for each variable\n",
        "plt.figure(figsize=(10, 5))\n",
        "\n",
        "# Boxplot for Age\n",
        "plt.subplot(1, 2, 1)\n",
        "sns.boxplot(y=df[\"Age\"])\n",
        "plt.title(\"Boxplot of Age\")\n",
        "\n",
        "# Boxplot for Salary\n",
        "plt.subplot(1, 2, 2)\n",
        "sns.boxplot(y=df[\"Salary\"])\n",
        "plt.title(\"Boxplot of Salary\")\n",
        "\n",
        "plt.tight_layout()\n",
        "plt.show()\n"
      ],
      "metadata": {
        "colab": {
          "base_uri": "https://localhost:8080/",
          "height": 463
        },
        "id": "d5Jme8BS6_yf",
        "outputId": "46c976e8-763e-4fb4-c064-cd14517f2448"
      },
      "execution_count": 2,
      "outputs": [
        {
          "output_type": "display_data",
          "data": {
            "text/plain": [
              "<Figure size 1000x500 with 2 Axes>"
            ],
            "image/png": "[encoded data removed]"
          },
          "metadata": {}
        }
      ]
    },
    {
      "cell_type": "markdown",
      "source": [
        "##17). Calculate the interquartile range (IQR) of a dataset."
      ],
      "metadata": {
        "id": "A3-Ag2l47JOU"
      }
    },
    {
      "cell_type": "code",
      "source": [
        "#IQR using NumPy\n",
        "\n",
        "import numpy as np\n",
        "\n",
        "# Sample dataset\n",
        "data = np.array([25, 30, 35, 40, 45, 50, 55])\n",
        "\n",
        "# Compute Q1 (25th percentile) and Q3 (75th percentile)\n",
        "Q1 = np.percentile(data, 25)\n",
        "Q3 = np.percentile(data, 75)\n",
        "\n",
        "# Compute IQR\n",
        "IQR = Q3 - Q1\n",
        "\n",
        "print(f\"Q1 (25th percentile): {Q1}\")\n",
        "print(f\"Q3 (75th percentile): {Q3}\")\n",
        "print(f\"Interquartile Range (IQR): {IQR}\")\n"
      ],
      "metadata": {
        "colab": {
          "base_uri": "https://localhost:8080/"
        },
        "id": "9huYhX6K7leb",
        "outputId": "09245685-31da-4c51-bcb8-3bc5ed0fd48a"
      },
      "execution_count": 4,
      "outputs": [
        {
          "output_type": "stream",
          "name": "stdout",
          "text": [
            "Q1 (25th percentile): 32.5\n",
            "Q3 (75th percentile): 47.5\n",
            "Interquartile Range (IQR): 15.0\n"
          ]
        }
      ]
    },
    {
      "cell_type": "code",
      "source": [
        "# IQR using Pandas\n",
        "\n",
        "import pandas as pd\n",
        "\n",
        "# Create a Pandas Series\n",
        "df = pd.Series([25, 30, 35, 40, 45, 50, 55])\n",
        "\n",
        "# Compute IQR\n",
        "IQR = df.quantile(0.75) - df.quantile(0.25)\n",
        "\n",
        "print(f\"Interquartile Range (IQR): {IQR}\")\n"
      ],
      "metadata": {
        "colab": {
          "base_uri": "https://localhost:8080/"
        },
        "id": "khotNgf17tug",
        "outputId": "3fe9ffe8-a031-449d-a55a-1a660a49175c"
      },
      "execution_count": 5,
      "outputs": [
        {
          "output_type": "stream",
          "name": "stdout",
          "text": [
            "Interquartile Range (IQR): 15.0\n"
          ]
        }
      ]
    },
    {
      "cell_type": "markdown",
      "source": [
        "##18). Implement Z-score normalization and explain its significance."
      ],
      "metadata": {
        "id": "f9McGrWL8A0n"
      }
    },
    {
      "cell_type": "code",
      "source": [
        "# implement using NumPy\n",
        "\n",
        "import numpy as np\n",
        "\n",
        "# Sample dataset\n",
        "data = np.array([25, 30, 35, 40, 45, 50, 55])\n",
        "\n",
        "# Compute mean and standard deviation\n",
        "mean = np.mean(data)\n",
        "std_dev = np.std(data, ddof=1)\n",
        "\n",
        "# Apply Z-score normalization\n",
        "z_scores = (data - mean) / std_dev\n",
        "\n",
        "print(\"Original Data:\", data)\n",
        "print(\"Z-score Normalized Data:\", z_scores)\n"
      ],
      "metadata": {
        "colab": {
          "base_uri": "https://localhost:8080/"
        },
        "id": "ORsk4d5f8XXs",
        "outputId": "24eda420-082a-4889-ab6a-0e04e94b6234"
      },
      "execution_count": 6,
      "outputs": [
        {
          "output_type": "stream",
          "name": "stdout",
          "text": [
            "Original Data: [25 30 35 40 45 50 55]\n",
            "Z-score Normalized Data: [-1.38873015 -0.9258201  -0.46291005  0.          0.46291005  0.9258201\n",
            "  1.38873015]\n"
          ]
        }
      ]
    },
    {
      "cell_type": "code",
      "source": [
        "#Implement using pandas\n",
        "\n",
        "import pandas as pd\n",
        "\n",
        "# Sample dataset\n",
        "df = pd.DataFrame({\"Age\": [25, 30, 35, 40, 45, 50, 55]})\n",
        "\n",
        "# Apply Z-score normalization\n",
        "df[\"Z-Score\"] = (df[\"Age\"] - df[\"Age\"].mean()) / df[\"Age\"].std()\n",
        "\n",
        "print(df)\n"
      ],
      "metadata": {
        "colab": {
          "base_uri": "https://localhost:8080/"
        },
        "id": "svx0YT7h8dDr",
        "outputId": "bffdc583-9a43-4e94-c57c-9c03dac3cd72"
      },
      "execution_count": 7,
      "outputs": [
        {
          "output_type": "stream",
          "name": "stdout",
          "text": [
            "   Age  Z-Score\n",
            "0   25 -1.38873\n",
            "1   30 -0.92582\n",
            "2   35 -0.46291\n",
            "3   40  0.00000\n",
            "4   45  0.46291\n",
            "5   50  0.92582\n",
            "6   55  1.38873\n"
          ]
        }
      ]
    },
    {
      "cell_type": "markdown",
      "source": [
        "##19). Compare two datasets using their standard deviations."
      ],
      "metadata": {
        "id": "dBgsJANW8znH"
      }
    },
    {
      "cell_type": "code",
      "source": [
        "# Implement using numpy\n",
        "\n",
        "import numpy as np\n",
        "\n",
        "# Sample datasets\n",
        "data1 = np.array([10, 20, 30, 40, 50])\n",
        "data2 = np.array([5, 25, 50, 75, 100])\n",
        "\n",
        "# Compute standard deviations\n",
        "std_dev1 = np.std(data1, ddof=1)\n",
        "std_dev2 = np.std(data2, ddof=1)\n",
        "\n",
        "print(f\"Dataset 1 Standard Deviation: {std_dev1:.2f}\")\n",
        "print(f\"Dataset 2 Standard Deviation: {std_dev2:.2f}\")\n",
        "\n",
        "# Compare the spread\n",
        "if std_dev1 > std_dev2:\n",
        "    print(\"Dataset 1 has more variability.\")\n",
        "elif std_dev1 < std_dev2:\n",
        "    print(\"Dataset 2 has more variability.\")\n",
        "else:\n",
        "    print(\"Both datasets have the same variability.\")\n"
      ],
      "metadata": {
        "colab": {
          "base_uri": "https://localhost:8080/"
        },
        "id": "nxDwbHUz9Dr_",
        "outputId": "aa94e07c-e496-40a3-df52-b80e5da65d49"
      },
      "execution_count": 8,
      "outputs": [
        {
          "output_type": "stream",
          "name": "stdout",
          "text": [
            "Dataset 1 Standard Deviation: 15.81\n",
            "Dataset 2 Standard Deviation: 37.98\n",
            "Dataset 2 has more variability.\n"
          ]
        }
      ]
    },
    {
      "cell_type": "code",
      "source": [
        "# implement using pandas\n",
        "\n",
        "import pandas as pd\n",
        "\n",
        "# Create DataFrames\n",
        "df = pd.DataFrame({\n",
        "    \"Dataset 1\": [10, 20, 30, 40, 50],\n",
        "    \"Dataset 2\": [5, 25, 50, 75, 100]\n",
        "})\n",
        "\n",
        "# Compute standard deviations\n",
        "std_devs = df.std()\n",
        "\n",
        "print(std_devs)\n"
      ],
      "metadata": {
        "colab": {
          "base_uri": "https://localhost:8080/"
        },
        "id": "6N1fYwJ89Lo8",
        "outputId": "37a95708-cf50-425e-afe7-9d5795ea92f3"
      },
      "execution_count": 9,
      "outputs": [
        {
          "output_type": "stream",
          "name": "stdout",
          "text": [
            "Dataset 1    15.811388\n",
            "Dataset 2    37.980258\n",
            "dtype: float64\n"
          ]
        }
      ]
    },
    {
      "cell_type": "markdown",
      "source": [
        "##20). Write a Python program to visualize covariance using a heatmap."
      ],
      "metadata": {
        "id": "CIkSLqmL9kvl"
      }
    },
    {
      "cell_type": "code",
      "source": [
        "import numpy as np\n",
        "import pandas as pd\n",
        "import seaborn as sns\n",
        "import matplotlib.pyplot as plt\n",
        "\n",
        "# Sample dataset\n",
        "data = {\n",
        "    \"Age\": [25, 30, 35, 40, 45, 50, 55],\n",
        "    \"Salary\": [40000, 50000, 60000, 70000, 80000, 90000, 100000],\n",
        "    \"Experience\": [1, 3, 5, 7, 9, 11, 13]\n",
        "}\n",
        "\n",
        "# Create DataFrame\n",
        "df = pd.DataFrame(data)\n",
        "\n",
        "# Compute covariance matrix\n",
        "cov_matrix = df.cov()\n",
        "\n",
        "# Plot heatmap\n",
        "plt.figure(figsize=(6, 5))\n",
        "sns.heatmap(cov_matrix, annot=True, cmap=\"coolwarm\", fmt=\".2f\", linewidths=1)\n",
        "plt.title(\"Covariance Matrix Heatmap\")\n",
        "plt.show()\n"
      ],
      "metadata": {
        "colab": {
          "base_uri": "https://localhost:8080/",
          "height": 468
        },
        "id": "70u9H8dZ-XE2",
        "outputId": "7c1c89bf-373b-461a-9039-d525d21cb2ce"
      },
      "execution_count": 10,
      "outputs": [
        {
          "output_type": "display_data",
          "data": {
            "text/plain": [
              "<Figure size 600x500 with 2 Axes>"
            ],
            "image/png": "[encoded data removed]"
          },
          "metadata": {}
        }
      ]
    },
    {
      "cell_type": "markdown",
      "source": [
        "##21). Use seaborn to create a correlation matrix for a dataset."
      ],
      "metadata": {
        "id": "bGOhcoeq-coQ"
      }
    },
    {
      "cell_type": "code",
      "source": [
        "import pandas as pd\n",
        "import seaborn as sns\n",
        "import matplotlib.pyplot as plt\n",
        "\n",
        "# Sample dataset\n",
        "data = {\n",
        "    \"Age\": [25, 30, 35, 40, 45, 50, 55],\n",
        "    \"Salary\": [40000, 50000, 60000, 70000, 80000, 90000, 100000],\n",
        "    \"Experience\": [1, 3, 5, 7, 9, 11, 13]\n",
        "}\n",
        "\n",
        "# Create DataFrame\n",
        "df = pd.DataFrame(data)\n",
        "\n",
        "# Compute correlation matrix\n",
        "corr_matrix = df.corr()\n",
        "\n",
        "# Plot heatmap\n",
        "plt.figure(figsize=(6, 5))\n",
        "sns.heatmap(corr_matrix, annot=True, cmap=\"coolwarm\", fmt=\".2f\", linewidths=1, square=True)\n",
        "plt.title(\"Correlation Matrix Heatmap\")\n",
        "plt.show()\n"
      ],
      "metadata": {
        "colab": {
          "base_uri": "https://localhost:8080/",
          "height": 455
        },
        "id": "b7FNLw5w-swa",
        "outputId": "73d025d8-3363-4daa-f6db-779f3f9956bb"
      },
      "execution_count": 11,
      "outputs": [
        {
          "output_type": "display_data",
          "data": {
            "text/plain": [
              "<Figure size 600x500 with 2 Axes>"
            ],
            "image/png": "[encoded data removed]"
          },
          "metadata": {}
        }
      ]
    },
    {
      "cell_type": "markdown",
      "source": [
        "##22). Generate a dataset and implement both variance and standard deviation computations."
      ],
      "metadata": {
        "id": "2TaZGcLh-4PO"
      }
    },
    {
      "cell_type": "code",
      "source": [
        "import numpy as np\n",
        "\n",
        "# Generate a random dataset of 10 values\n",
        "np.random.seed(42)\n",
        "data = np.random.randint(10, 100, size=10)\n",
        "\n",
        "# Compute variance and standard deviation\n",
        "variance = np.var(data, ddof=1)\n",
        "std_dev = np.std(data, ddof=1)\n",
        "\n",
        "# Print results\n",
        "print(\"Dataset:\", data)\n",
        "print(f\"Variance: {variance:.2f}\")\n",
        "print(f\"Standard Deviation: {std_dev:.2f}\")\n"
      ],
      "metadata": {
        "colab": {
          "base_uri": "https://localhost:8080/"
        },
        "id": "WRU4LVtX_UIa",
        "outputId": "3e6b8ff6-fdd9-499f-eb05-6f6d82f7a0f8"
      },
      "execution_count": 12,
      "outputs": [
        {
          "output_type": "stream",
          "name": "stdout",
          "text": [
            "Dataset: [61 24 81 70 30 92 96 84 84 97]\n",
            "Variance: 684.77\n",
            "Standard Deviation: 26.17\n"
          ]
        }
      ]
    },
    {
      "cell_type": "markdown",
      "source": [
        "##23). Visualize skewness and kurtosis using Python libraries like matplotlib or seaborn."
      ],
      "metadata": {
        "id": "rEe4jyTj_cfn"
      }
    },
    {
      "cell_type": "code",
      "source": [
        "import numpy as np\n",
        "import pandas as pd\n",
        "import seaborn as sns\n",
        "import matplotlib.pyplot as plt\n",
        "from scipy.stats import skew, kurtosis\n",
        "\n",
        "# Generate a dataset with skewness\n",
        "np.random.seed(42)\n",
        "data = np.random.gamma(2, 2, 1000)  # Skewed data\n",
        "\n",
        "# Compute skewness and kurtosis\n",
        "skewness = skew(data)\n",
        "kurt = kurtosis(data)\n",
        "\n",
        "# Plot histogram with KDE (Kernel Density Estimate)\n",
        "plt.figure(figsize=(8, 5))\n",
        "sns.histplot(data, kde=True, bins=30, color=\"skyblue\")\n",
        "plt.axvline(np.mean(data), color='red', linestyle='dashed', linewidth=2, label=\"Mean\")\n",
        "plt.title(f\"Distribution (Skewness: {skewness:.2f}, Kurtosis: {kurt:.2f})\")\n",
        "plt.legend()\n",
        "plt.show()\n"
      ],
      "metadata": {
        "colab": {
          "base_uri": "https://localhost:8080/",
          "height": 468
        },
        "id": "gESt_eZX_wig",
        "outputId": "eab4c781-558a-4934-a114-e1eed60bc75e"
      },
      "execution_count": 13,
      "outputs": [
        {
          "output_type": "display_data",
          "data": {
            "text/plain": [
              "<Figure size 800x500 with 1 Axes>"
            ],
            "image/png": "[encoded data removed]"
          },
          "metadata": {}
        }
      ]
    },
    {
      "cell_type": "markdown",
      "source": [
        "##24). Implement the Pearson and Spearman correlation coefficients for a dataset."
      ],
      "metadata": {
        "id": "y5mUzHJI_6N6"
      }
    },
    {
      "cell_type": "code",
      "source": [
        "import numpy as np\n",
        "import pandas as pd\n",
        "from scipy.stats import pearsonr, spearmanr\n",
        "import seaborn as sns\n",
        "import matplotlib.pyplot as plt\n",
        "\n",
        "# Sample dataset\n",
        "data = {\n",
        "    \"Age\": [25, 30, 35, 40, 45, 50, 55],\n",
        "    \"Salary\": [40000, 50000, 60000, 70000, 80000, 90000, 100000]\n",
        "}\n",
        "\n",
        "# Create DataFrame\n",
        "df = pd.DataFrame(data)\n",
        "\n",
        "# Compute Pearson and Spearman correlation\n",
        "pearson_corr, _ = pearsonr(df[\"Age\"], df[\"Salary\"])\n",
        "spearman_corr, _ = spearmanr(df[\"Age\"], df[\"Salary\"])\n",
        "\n",
        "# Print results\n",
        "print(f\"Pearson Correlation: {pearson_corr:.2f}\")\n",
        "print(f\"Spearman Correlation: {spearman_corr:.2f}\")\n",
        "\n",
        "# Visualize correlation with scatter plot\n",
        "plt.figure(figsize=(6, 4))\n",
        "sns.regplot(x=df[\"Age\"], y=df[\"Salary\"], scatter_kws={'color':'blue'}, line_kws={'color':'red'})\n",
        "plt.title(f\"Scatter Plot (Pearson: {pearson_corr:.2f}, Spearman: {spearman_corr:.2f})\")\n",
        "plt.xlabel(\"Age\")\n",
        "plt.ylabel(\"Salary\")\n",
        "plt.show()\n"
      ],
      "metadata": {
        "colab": {
          "base_uri": "https://localhost:8080/",
          "height": 445
        },
        "id": "0H_-z2X9AH8J",
        "outputId": "013a6daf-14e2-46c7-ce8f-75d53a29fc07"
      },
      "execution_count": 14,
      "outputs": [
        {
          "output_type": "stream",
          "name": "stdout",
          "text": [
            "Pearson Correlation: 1.00\n",
            "Spearman Correlation: 1.00\n"
          ]
        },
        {
          "output_type": "display_data",
          "data": {
            "text/plain": [
              "<Figure size 600x400 with 1 Axes>"
            ],
            "image/png": "[encoded data removed]"
          },
          "metadata": {}
        }
      ]
    },
    {
      "cell_type": "code",
      "source": [],
      "metadata": {
        "id": "76fKgswsARRS"
      },
      "execution_count": null,
      "outputs": []
    }
  ]
}