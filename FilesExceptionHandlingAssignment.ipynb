{
  "nbformat": 4,
  "nbformat_minor": 0,
  "metadata": {
    "colab": {
      "provenance": []
    },
    "kernelspec": {
      "name": "python3",
      "display_name": "Python 3"
    },
    "language_info": {
      "name": "python"
    }
  },
  "cells": [
    {
      "cell_type": "markdown",
      "source": [
        "# Assignment"
      ],
      "metadata": {
        "id": "mT8TEPETbcxq"
      }
    },
    {
      "cell_type": "markdown",
      "source": [
        "##1).What is the difference between interpreted and compiled languages?\n",
        "\n",
        "The main difference between interpreted and compiled languages is how they are executed:\n",
        "\n",
        "Compiled languages: The source code is translated into machine code (binary) by a compiler before it is executed. This means the program is already converted into a form the computer can understand directly, making execution faster. Examples: C, C++, Rust.\n",
        "\n",
        "Interpreted languages: The source code is executed line-by-line by an interpreter at runtime. The code is not precompiled, so it tends to run slower. Examples: Python, JavaScript, Ruby.\n",
        "\n",
        "##2).What is exception handling in Python?\n",
        "\n",
        "Exception handling in Python is a way to handle runtime errors (exceptions) gracefully without crashing the program. It involves using try, except, else, and finally blocks:\n",
        "\n",
        "try: Code that might cause an error is placed here.\n",
        "except: If an error occurs in the try block, the code in the except block runs to handle it.\n",
        "else: Code that runs if no error occurs in the try block.\n",
        "finally: Code that always runs, regardless of whether an exception occurred or not (e.g., cleanup).\n",
        "\n",
        "try:\n",
        "    x = 1 / 0\n",
        "except ZeroDivisionError:\n",
        "    print(\"Cannot divide by zero!\")\n",
        "finally:\n",
        "    print(\"This will always run.\")\n",
        "\n",
        "\n",
        "##3). What is the purpose of the finally block in exception handling?\n",
        "\n",
        "The finally block in exception handling ensures that specific code runs no matter what, whether an exception was raised or not. It’s typically used for cleanup actions like closing files, releasing resources, or resetting states.\n",
        "\n",
        "Example:\n",
        "\n",
        "try:\n",
        "    file = open('file.txt', 'r')\n",
        "except FileNotFoundError:\n",
        "    print(\"File not found!\")\n",
        "finally:\n",
        "    file.close()  \n",
        "\n",
        "##4). What is logging in Python?\n",
        "\n",
        "Logging in Python is a way to track and record events or messages during the execution of a program. It provides a flexible system for outputting messages about your code's behavior, which helps with debugging and monitoring.\n",
        "\n",
        "The logging module allows you to log messages with different severity levels: DEBUG, INFO, WARNING, ERROR, and CRITICAL. You can also configure where the logs go (e.g., to a file or the console).\n",
        "\n",
        "Example:\n",
        "\n",
        "import logging\n",
        "\n",
        "logging.basicConfig(level=logging.DEBUG)\n",
        "logging.info(\"This is an info message.\")\n",
        "logging.error(\"This is an error message.\")\n",
        "\n",
        "\n",
        "##5). What is the significance of the __del__ method in Python?\n",
        "\n",
        "The __del__ method in Python is a special method, also known as a destructor, that is called when an object is about to be destroyed or when its reference count drops to zero. It allows you to define cleanup actions, such as releasing resources (e.g., closing files or network connections) before the object is deleted.\n",
        "\n",
        "However, its use is generally discouraged in favor of context managers (with statement) for resource management, since the exact timing of when __del__ is called is not guaranteed.\n",
        "\n",
        "Example:\n",
        "\n",
        "class MyClass:\n",
        "    def __del__(self):\n",
        "        print(\"Object is being deleted.\")\n",
        "\n",
        "obj = MyClass()\n",
        "del obj  \n",
        "\n",
        "In short, __del__ helps with resource cleanup, but relying on it for crucial resource management is not recommended due to uncertainties about its execution timing.\n",
        "\n",
        "\n",
        "##6).  What is the difference between import and from ... import in Python?\n",
        "\n",
        "-import module: This imports the entire module, and you access its functions, classes, or variables using the module name.\n",
        "\n",
        "Example:\n",
        "\n",
        "import math\n",
        "print(math.sqrt(16))\n",
        "\n",
        "-from module import something: This imports specific functions, classes, or variables directly from the module, so you can use them without the module name prefix.\n",
        "\n",
        "Example:\n",
        "\n",
        "from math import sqrt\n",
        "print(sqrt(16))\n",
        "\n",
        "\n",
        "In short import brings in the whole module.\n",
        "While fromm... import brings in specific items from a module.\n",
        "\n",
        "\n",
        "##7). How can you handle multiple exceptions in Python?\n",
        "\n",
        "We can handle multiple exceptions in Python by using multiple except clauses or by specifying a tuple of exceptions in a single except clause.\n",
        "\n",
        "##Using multiple except blocks:\n",
        "\n",
        "we can handle each exception separately with different blocks:\n",
        "\n",
        "try\n",
        "    num = int(input(\"Enter a number: \"))\n",
        "    result = 10 / num\n",
        "except ZeroDivisionError:\n",
        "    print(\"Cannot divide by zero!\")\n",
        "except ValueError:\n",
        "    print(\"Invalid input! Please enter a valid number.\")\n",
        "\n",
        "##Using a tuple of exceptions:\n",
        "\n",
        "We can handle multiple exceptions with one except block by grouping them in a tuple.\n",
        "\n",
        "try:\n",
        "    \n",
        "    num = int(input(\"Enter a number: \"))\n",
        "    result = 10 / num\n",
        "except (ZeroDivisionError, ValueError) as e:\n",
        "    print(f\"Error: {e}\")\n",
        "\n",
        "\n",
        "##8). What is the purpose of the with statement when handling files in Python?\n",
        "\n",
        "The with statement in Python is used for resource management, particularly for handling files. It ensures that resources, like file handles, are properly cleaned up after their usage, even if an exception occurs.\n",
        "\n",
        "When working with files, using with automatically takes care of closing the file after the block of code is executed, eliminating the need for explicitly calling file.close().\n",
        "\n",
        "example:\n",
        "\n",
        "with open('example.txt', 'r') as file:\n",
        "    content = file.read()\n",
        "    print(content)\n",
        "\n",
        "\n",
        "##9). What is the difference between multithreading and multiprocessing?\n",
        "\n",
        "The main difference between multithreading and multiprocessing is how they handle tasks and the type of parallelism they provide:\n",
        "\n",
        "1. Multithreading:\n",
        "Uses multiple threads within a single process to run tasks concurrently.\n",
        "\n",
        "Threads share the same memory space, which allows for faster communication between them, but also introduces risks like race conditions.\n",
        "\n",
        "Suitable for I/O-bound tasks (e.g., file reading, network requests) that spend a lot of time waiting for external resources.\n",
        "\n",
        "Limited by Python's Global Interpreter Lock (GIL), which allows only one thread to execute Python bytecode at a time in a single process.\n",
        "\n",
        "Example use case: Downloading multiple files at the same time.\n",
        "\n",
        "2. Multiprocessing:\n",
        "Uses multiple processes, each with its own memory space and Python interpreter, allowing true parallel execution on multiple CPU cores.\n",
        "\n",
        "Each process runs independently, so there’s no issue with the GIL, making it better for CPU-bound tasks (e.g., mathematical computations, data processing).\n",
        "\n",
        "Higher memory usage due to separate memory spaces for each process, but can fully utilize multiple CPU cores.\n",
        "\n",
        "\n",
        "\n",
        "Example: Performing complex calculations using multiple cores.\n",
        "\n",
        "In-short,\n",
        "Multithreading: Best for I/O-bound tasks, limited by the GIL.\n",
        "Multiprocessing: Best for CPU-bound tasks, utilizes multiple CPU cores without GIL limitations.\n",
        "\n",
        "\n",
        "##10). What are the advantages of using logging in a program?\n",
        "\n",
        "Using logging in a program offers several advantages over simple print statements for tracking events or errors:\n",
        "\n",
        "1. Better Debugging and Troubleshooting:\n",
        "Logs provide a detailed record of what happens in a program, including error messages, stack traces, and execution flow, making it easier to track down bugs or issues.\n",
        "2. Different Log Levels:\n",
        "You can categorize logs into various levels like DEBUG, INFO, WARNING, ERROR, and CRITICAL, allowing you to filter and prioritize messages based on their severity.\n",
        "3. Persistent Log Storage:\n",
        "Logs can be written to files, databases, or external systems, making it easier to track events over time, even after the program has ended. This is particularly helpful for long-running applications.\n",
        "4. Control Over Output:\n",
        "With logging, you can easily configure where the logs go (e.g., to files, the console, remote servers) and control their format (timestamps, log level, etc.).\n",
        "5. Non-Disruptive:\n",
        "Logging doesn't interrupt the program flow like print statements might, and it can be easily turned off or adjusted by changing the logging configuration.\n",
        "6. Performance and Monitoring:\n",
        "Logs help monitor system health and performance. They can track operations, errors, and exceptions, and be used to trigger alerts when something goes wrong.\n",
        "7. More Control Over Logging Configuration:\n",
        "You can configure how much information to log and when to log it (e.g., logging only errors in production but debugging details in development).\n",
        "\n",
        "\n",
        "##11). What is memory management in Python?\n",
        "\n",
        "Memory management in Python refers to the automatic handling of memory allocation and deallocation for objects during program execution. Python uses:\n",
        "\n",
        "Reference Counting: Each object has a reference count, and when it's no longer referenced, the memory is freed.\n",
        "Garbage Collection: Python has a garbage collector that automatically cleans up cyclic references (objects referencing each other) that reference counting alone can't handle.\n",
        "Memory Pooling: Python uses memory pooling to efficiently manage small objects like integers and strings, reducing allocation overhead.\n",
        "This system allows Python to manage memory automatically, reducing the need for manual memory management while improving efficiency.\n",
        "\n",
        "\n",
        "##12). What are the basic steps involved in exception handling in Python?\n",
        "\n",
        "The basic steps involved in exception handling in Python are:\n",
        "\n",
        "try: Place the code that might raise an exception inside a try block.\n",
        "except: Catch and handle the exception in the except block if it occurs.\n",
        "else (optional): If no exception occurs, the else block is executed.\n",
        "finally (optional): Code in the finally block will always execute, regardless of whether an exception occurred, often used for cleanup.\n",
        "\n",
        "\n",
        "try:\n",
        "    x = 1 / 0\n",
        "except ZeroDivisionError:\n",
        "    print(\"Cannot divide by zero!\")\n",
        "else:\n",
        "    print(\"No error occurred.\")\n",
        "finally:\n",
        "    print(\"This will always run.\")\n",
        "\n",
        "\n",
        "In short, try tests the code, except handles the error, else runs if no error happens, and finally executes cleanup tasks.\n",
        "\n",
        "##13). Why is memory management important in Python?\n",
        "\n",
        "Memory management is important in Python because it ensures that resources are used efficiently, preventing memory leaks and ensuring optimal performance. Python’s automatic memory management (through reference counting and garbage collection) helps:\n",
        "\n",
        "Prevent Memory Leaks: Unused objects are cleaned up, preventing excessive memory usage.\n",
        "Optimize Performance: Efficient memory allocation and deallocation help in running programs faster and more efficiently.\n",
        "Simplify Programming: Developers don’t need to manually manage memory, allowing them to focus on logic rather than memory-related issues.\n",
        "\n",
        "##14). What is the role of try and except in exception handling?\n",
        "\n",
        "In exception handling:\n",
        "\n",
        "try: It defines a block of code that might raise an exception. Python executes this code and checks for any errors.\n",
        "except: If an error occurs in the try block, the except block catches and handles the exception, preventing the program from crashing.\n",
        "\n",
        "try:\n",
        "    x = 1 / 0  \n",
        "except ZeroDivisionError:\n",
        "    print(\"Cannot divide by zero!\")\n",
        "\n",
        "\n",
        "##15). How does Python's garbage collection system work?\n",
        "\n",
        "Python's garbage collection system works by automatically managing memory and reclaiming resources that are no longer in use. It mainly relies on:\n",
        "\n",
        "Reference Counting: Each object has a reference count. When the count drops to zero (no references to the object), memory is automatically freed.\n",
        "\n",
        "Garbage Collector (GC): In addition to reference counting, Python uses a cyclic garbage collector to detect and clean up reference cycles—situations where objects reference each other in a cycle, preventing their reference count from reaching zero.\n",
        "\n",
        "The garbage collector runs periodically to identify and reclaim memory from objects that are no longer accessible, helping prevent memory leaks.\n",
        "\n",
        "\n",
        "##16).  What is the purpose of the else block in exception handling?\n",
        "\n",
        "The else block in exception handling is used to define code that should run only if no exception occurs in the try block. It provides a way to handle the successful execution of code without any errors.\n",
        "\n",
        "Purpose:\n",
        "The else block runs only if the code in the try block completes without raising an exception.\n",
        "It helps to separate normal code execution from error handling, making the code cleaner and more readable.\n",
        "\n",
        "\n",
        "##17). What are the common logging levels in Python?\n",
        "\n",
        "The common logging levels in Python, from lowest to highest severity, are:\n",
        "\n",
        "DEBUG: Detailed information, typically useful for diagnosing problems. It’s the most verbose level.\n",
        "INFO: General information about program execution, often used to confirm things are working as expected.\n",
        "WARNING: Indicates a potential problem or something unexpected, but the program can continue running.\n",
        "ERROR: A more serious issue that prevents part of the program from functioning correctly, but not a complete failure.\n",
        "CRITICAL: A very severe error that likely causes the program to stop or fail completely.\n",
        "These levels allow developers to control the amount and severity of log messages they want to capture.\n",
        "\n",
        "Example:\n",
        "\n",
        "import logging\n",
        "\n",
        "logging.basicConfig(level=logging.DEBUG)\n",
        "logging.debug(\"This is a debug message.\")\n",
        "logging.info(\"This is an info message.\")\n",
        "logging.warning(\"This is a warning message.\")\n",
        "logging.error(\"This is an error message.\")\n",
        "logging.critical(\"This is a critical message.\")\n",
        "\n",
        "##18).  What is the difference between os.fork() and multiprocessing in Python?\n",
        "\n",
        "The key difference between os.fork() and multiprocessing in Python lies in how they create and manage new processes:\n",
        "\n",
        "1. os.fork():\n",
        "Functionality: os.fork() creates a new child process by duplicating the current process. After a fork, the parent and child processes run concurrently.\n",
        "Platform: It works only on Unix-based systems (Linux, macOS), as it's based on the fork() system call.\n",
        "Process Handling: It directly creates a new process, but both the parent and child share the same memory space. The child process starts by executing the same code as the parent, which can lead to complex issues with managing shared resources.\n",
        "Use Case: Primarily used for low-level process management in Unix environments.\n",
        "2. multiprocessing:\n",
        "Functionality: The multiprocessing module provides a high-level interface for creating and managing processes. It supports creating processes, sharing data, and communicating between processes in a more controlled and platform-independent manner.\n",
        "Platform: Works on both Unix and Windows systems.\n",
        "Process Handling: Each process has its own memory space, and the module provides mechanisms for inter-process communication (IPC) and shared memory. It abstracts away many of the complexities that come with os.fork().\n",
        "Use Case: Ideal for parallel execution of tasks, especially for CPU-bound tasks, and when you need cross-platform compatibility.\n",
        "\n",
        "##19). What is the importance of closing a file in Python?\n",
        "\n",
        "Closing a file in Python is important for several reasons:\n",
        "\n",
        "Release Resources: When a file is opened, the operating system allocates resources like file handles and buffers. Closing the file ensures that these resources are released properly.\n",
        "\n",
        "Data Integrity: If the file is not closed, data may not be written to disk correctly. Closing the file ensures all changes are saved, and buffered data is flushed.\n",
        "\n",
        "Preventing Memory Leaks: Leaving files open unnecessarily can lead to memory leaks as the file handles stay active, consuming system resources.\n",
        "\n",
        "Avoid File Locks: Some systems lock files while they are open. Closing the file releases the lock, allowing other processes to access it.\n",
        "\n",
        "In short, closing a file ensures proper resource management, data integrity, and prevents issues like memory leaks or file access conflicts.\n",
        "\n",
        "##19). What is the difference between file.read() and file.readline() in Python?\n",
        "\n",
        "**file.read():**\n",
        "Purpose: Reads the entire content of the file as a single string.\n",
        "\n",
        "Usage: It reads all the data at once, so it's useful when you need to process the whole file content at once.\n",
        "\n",
        "Behavior: The entire file is loaded into memory, which can be inefficient for very large files.\n",
        "\n",
        "Example:\n",
        "\n",
        "with open('example.txt', 'r') as file:\n",
        "    content = file.read()\n",
        "    print(content)\n",
        "\n",
        "**file.readline():**\n",
        "Purpose: Reads the next line from the file.\n",
        "\n",
        "Usage: It reads the file line by line, which is useful when you want to process large files line by line without loading the entire file into memory.\n",
        "\n",
        "Behavior: After calling readline(), the file pointer moves to the next line.\n",
        "\n",
        "Example:\n",
        "\n",
        "with open('example.txt', 'r') as file:\n",
        "    line = file.readline()\n",
        "    while line:\n",
        "        print(line, end='')  \n",
        "        line = file.readline()\n",
        "\n",
        "In-short,\n",
        "file.read(): Reads the entire file at once.\n",
        "file.readline(): Reads one line at a time, useful for processing large files line-by-line.\n",
        "\n",
        "##20). What is the difference between file.read() and file.readline() in Python?\n",
        "\n",
        "The difference between file.read() and file.readline() in Python is based on how they read data from a file:\n",
        "\n",
        "1. file.read():\n",
        "Reads the entire content of the file at once, returning it as a single string.\n",
        "\n",
        "Useful when you want to load the whole file into memory for processing.\n",
        "\n",
        "Can be inefficient for very large files because it reads everything into memory at once.\n",
        "\n",
        "Example:\n",
        "\n",
        "with open('example.txt', 'r') as file:\n",
        "    content = file.read()\n",
        "    print(content)  # Prints the entire file content\n",
        "2. file.readline():\n",
        "Reads one line at a time from the file and returns it as a string.\n",
        "\n",
        "Useful for processing large files line by line without loading the entire file into memory.\n",
        "\n",
        "The file pointer moves to the next line after each call to readline().\n",
        "\n",
        "Example:\n",
        "\n",
        "with open('example.txt', 'r') as file:\n",
        "    line = file.readline()\n",
        "    while line:\n",
        "        print(line, end='')  # Prints each line one by one\n",
        "        line = file.readline()  # Move to next line\n",
        "In-short:\n",
        "file.read(): Reads the entire file content at once.\n",
        "file.readline(): Reads the file one line at a time, making it more memory-efficient for large files.\n",
        "\n",
        "\n",
        "##21). What is the logging module in Python used for?\n",
        "The logging module in Python is used for tracking and recording events, errors, or informational messages during program execution. It helps developers monitor the flow of the program, diagnose issues, and record runtime data.\n",
        "\n",
        "**Key Features:**\n",
        "Log levels (e.g., DEBUG, INFO, WARNING, ERROR, CRITICAL) to categorize messages by severity.\n",
        "Ability to log to different outputs (e.g., console, files, remote servers).\n",
        "Flexible configuration for formatting and filtering log messages.\n",
        "Support for rotating log files to manage log file size.\n",
        "\n",
        "Example:\n",
        "\n",
        "import logging\n",
        "\n",
        "logging.basicConfig(level=logging.DEBUG)\n",
        "logging.info(\"This is an info message.\")\n",
        "logging.error(\"This is an error message.\")\n",
        "\n",
        "\n",
        "##22). What is the os module in Python used for in file handling?\n",
        "\n",
        "The os module in Python is used for interacting with the operating system and provides several functions for file handling, including:\n",
        "\n",
        "File and Directory Operations:\n",
        "\n",
        "os.rename(): Rename a file or directory.\n",
        "os.remove(): Delete a file.\n",
        "os.mkdir(): Create a directory.\n",
        "os.rmdir(): Remove an empty directory.\n",
        "os.listdir(): List all files and directories in a given directory.\n",
        "Path Manipulations:\n",
        "\n",
        "os.path.join(): Join one or more path components.\n",
        "os.path.exists(): Check if a file or directory exists.\n",
        "os.path.isdir(): Check if a path is a directory.\n",
        "File Permissions:\n",
        "\n",
        "os.chmod(): Change file permissions.\n",
        "\n",
        "Example:\n",
        "\n",
        "import os\n",
        "\n",
        "if os.path.exists('example.txt'):\n",
        "    print(\"File exists\")\n",
        "else:\n",
        "    print(\"File does not exist\")\n",
        "\n",
        "In short, the os module provides essential functions for interacting with the file system, such as creating, deleting, renaming files, and checking file properties.\n",
        "\n",
        "\n",
        "##23). What are the challenges associated with memory management in Python?\n",
        "\n",
        "The challenges associated with memory management in Python include:\n",
        "\n",
        "Garbage Collection Overhead: The automatic garbage collection process (via reference counting and cyclic garbage collection) can introduce performance overhead, especially with large numbers of objects or reference cycles.\n",
        "\n",
        "Memory Leaks: While Python automatically manages memory, developers can still inadvertently create memory leaks, especially when objects are held in memory unintentionally (e.g., through circular references or global variables).\n",
        "\n",
        "Inefficient Memory Usage: Python's dynamic typing and memory allocation may result in inefficient memory usage, particularly with small objects and large datasets.\n",
        "\n",
        "Global Interpreter Lock (GIL): While not directly related to memory management, the GIL limits multi-threading performance, which can affect memory-intensive operations in multi-threaded programs.\n",
        "\n",
        "Fragmentation: Python’s memory management system can suffer from fragmentation, where memory is allocated and freed in a way that causes gaps, affecting performance, especially in long-running programs.\n",
        "\n",
        "In short, while Python provides automatic memory management, challenges like garbage collection overhead, memory leaks, and inefficient memory usage can affect performance and efficiency.\n",
        "\n",
        "\n",
        "##24). How do you raise an exception manually in Python?\n",
        "\n",
        "In Python, we can raise an exception manually using the raise keyword. We can raise built-in exceptions or define your own custom exceptions.\n",
        "\n",
        "Syntax:\n",
        "\n",
        "raise Exception(\"Error message\")\n",
        "\n",
        "example:\n",
        "\n",
        "# Raising a built-in exception\n",
        "raise ValueError(\"This is a value error\")\n",
        "\n",
        "# Raising a custom exception\n",
        "class MyCustomError(Exception):\n",
        "    pass\n",
        "\n",
        "raise MyCustomError(\"This is a custom error\")\n",
        "\n",
        "\n",
        "raise: The keyword used to trigger an exception.\n",
        "Exception: The type of exception to raise (e.g., ValueError, TypeError, or any custom exception).\n",
        "The string after the exception type is the error message, which can be helpful for debugging.\n",
        "\n",
        "\n",
        "##25). Why is it important to use multithreading in certain applications?\n",
        "\n",
        "Using multithreading in certain applications is important because it provides several key benefits:\n",
        "\n",
        "1. **Improved Performance:**\n",
        "Multithreading allows multiple tasks to run concurrently, making better use of CPU resources, especially on multi-core processors.\n",
        "It can speed up tasks that are I/O-bound (e.g., reading from disk, network requests) by allowing other threads to run while waiting for I/O operations to complete.\n",
        "2. **Responsiveness:**\n",
        "In applications with user interfaces (UI), multithreading keeps the application responsive. For example, one thread can handle user input while another handles long-running tasks in the background, preventing the UI from freezing.\n",
        "3. **Parallelism:**\n",
        "Multithreading allows you to divide a problem into smaller sub-tasks, which can be executed in parallel (ideal for tasks like image processing, computations, etc.) and thus improve the overall execution time, particularly on multi-core systems.\n",
        "4. **Efficient Resource Utilization**\n",
        "It helps in efficiently utilizing available resources (CPU and memory), particularly when multiple independent tasks need to run simultaneously.\n",
        "5. **Better Application Scalability:**\n",
        "Applications can scale better with multithreading by handling many simultaneous operations without needing to spawn multiple processes, making them more lightweight and efficient."
      ],
      "metadata": {
        "id": "aeLoV6Lkboht"
      }
    },
    {
      "cell_type": "markdown",
      "source": [
        "#Practical Assignment"
      ],
      "metadata": {
        "id": "__cTSwFRtNcE"
      }
    },
    {
      "cell_type": "markdown",
      "source": [
        "##1). How can you open a file for writing in Python and write a string to it?"
      ],
      "metadata": {
        "id": "VWl3t3XDtTES"
      }
    },
    {
      "cell_type": "code",
      "source": [
        "# Open the file in write mode\n",
        "with open('example.txt', 'w') as file:\n",
        "    file.write(\"Hello, world!\")\n"
      ],
      "metadata": {
        "id": "TP5qbBY-tpF2"
      },
      "execution_count": null,
      "outputs": []
    },
    {
      "cell_type": "code",
      "source": [
        "#Open the file in append mode\n",
        "with open('example.txt', 'a') as file:\n",
        "    file.write(\"Hello Universe\")\n"
      ],
      "metadata": {
        "id": "BNwg_cq8tuqM"
      },
      "execution_count": null,
      "outputs": []
    },
    {
      "cell_type": "markdown",
      "source": [
        "##2). Write a Python program to read the contents of a file and print each line."
      ],
      "metadata": {
        "id": "gGMFfw80t9gC"
      }
    },
    {
      "cell_type": "code",
      "source": [
        " with open('example.txt', 'r') as file:\n",
        "    for line in file:\n",
        "        print(line.strip())\n"
      ],
      "metadata": {
        "id": "a6As0Ws5uKDz"
      },
      "execution_count": 1,
      "outputs": []
    },
    {
      "cell_type": "markdown",
      "source": [
        "##3). How would you handle a case where the file doesn't exist while trying to open it for reading?\n",
        "\n"
      ],
      "metadata": {
        "id": "635fyp640--B"
      }
    },
    {
      "cell_type": "code",
      "source": [
        "try:\n",
        "    with open(\"non_existent_file.txt\", \"r\") as file:\n",
        "        content = file.read()\n",
        "        print(content)\n",
        "except FileNotFoundError:\n",
        "    print(\"Error: The file does not exist. Please check the file name and try again.\")\n"
      ],
      "metadata": {
        "colab": {
          "base_uri": "https://localhost:8080/"
        },
        "id": "MNl0PS3Q1clu",
        "outputId": "d04c6f21-c5d2-4ac4-a9fa-0070f153ff7f"
      },
      "execution_count": 2,
      "outputs": [
        {
          "output_type": "stream",
          "name": "stdout",
          "text": [
            "Error: The file does not exist. Please check the file name and try again.\n"
          ]
        }
      ]
    },
    {
      "cell_type": "markdown",
      "source": [
        "##4). Write a Python script that reads from one file and and writes its content to another file."
      ],
      "metadata": {
        "id": "EhBDtD4s1i2t"
      }
    },
    {
      "cell_type": "code",
      "source": [
        "def copy_file(source_file, destination_file):\n",
        "    try:\n",
        "        with open(source_file, \"r\") as src:\n",
        "            content = src.read()\n",
        "\n",
        "        with open(destination_file, \"w\") as dest:\n",
        "            dest.write(content)\n",
        "\n",
        "        print(f\"Content copied from '{source_file}' to '{destination_file}' successfully.\")\n",
        "\n",
        "    except FileNotFoundError:\n",
        "        print(f\"Error: '{source_file}' does not exist.\")\n",
        "    except Exception as e:\n",
        "        print(f\"An error occurred: {e}\")\n",
        "\n",
        "\n",
        "source = \"source.txt\"\n",
        "destination = \"destination.txt\"\n",
        "copy_file(source, destination)\n"
      ],
      "metadata": {
        "colab": {
          "base_uri": "https://localhost:8080/"
        },
        "id": "70cyVu0615ph",
        "outputId": "0cab4170-bade-4cb7-ab6f-05d365dbf7b9"
      },
      "execution_count": 3,
      "outputs": [
        {
          "output_type": "stream",
          "name": "stdout",
          "text": [
            "Error: 'source.txt' does not exist.\n"
          ]
        }
      ]
    },
    {
      "cell_type": "markdown",
      "source": [
        "##5). How would you catch and handle division by zero error in Python?"
      ],
      "metadata": {
        "id": "69mlF-9J2JuW"
      }
    },
    {
      "cell_type": "code",
      "source": [
        "try:\n",
        "    numerator = int(input(\"Enter numerator: \"))\n",
        "    denominator = int(input(\"Enter denominator: \"))\n",
        "    result = numerator / denominator\n",
        "    print(f\"Result: {result}\")\n",
        "except ZeroDivisionError:\n",
        "    print(\"Error: Division by zero is not allowed.\")\n",
        "except ValueError:\n",
        "    print(\"Error: Please enter valid numbers.\")\n"
      ],
      "metadata": {
        "colab": {
          "base_uri": "https://localhost:8080/"
        },
        "id": "-0xQA1ui2sgF",
        "outputId": "d84c205b-95c7-4fdf-d606-de10a3e61b11"
      },
      "execution_count": 4,
      "outputs": [
        {
          "output_type": "stream",
          "name": "stdout",
          "text": [
            "Enter numerator: 4\n",
            "Enter denominator: 0\n",
            "Error: Division by zero is not allowed.\n"
          ]
        }
      ]
    },
    {
      "cell_type": "markdown",
      "source": [
        "##6). Write a Python program that logs an error message to a log file when a division by zero exception occurs."
      ],
      "metadata": {
        "id": "wsXwvkcZ2y_h"
      }
    },
    {
      "cell_type": "code",
      "source": [
        "import logging\n",
        "\n",
        "# Configure logging\n",
        "logging.basicConfig(filename=\"error.log\", level=logging.ERROR,\n",
        "                    format=\"%(asctime)s - %(levelname)s - %(message)s\")\n",
        "\n",
        "def divide_numbers(a, b):\n",
        "    try:\n",
        "        result = a / b\n",
        "        print(f\"Result: {result}\")\n",
        "    except ZeroDivisionError:\n",
        "        logging.error(\"Division by zero attempted.\")\n",
        "        print(\"Error: Cannot divide by zero. Check the log file for details.\")\n",
        "\n",
        "# Example usage\n",
        "num1 = int(input(\"Enter numerator: \"))\n",
        "num2 = int(input(\"Enter denominator: \"))\n",
        "divide_numbers(num1, num2)\n"
      ],
      "metadata": {
        "colab": {
          "base_uri": "https://localhost:8080/"
        },
        "id": "Sm9a_loL3a43",
        "outputId": "ddbfc1f8-f355-4796-8d72-ca263ec3dbf3"
      },
      "execution_count": 5,
      "outputs": [
        {
          "output_type": "stream",
          "name": "stdout",
          "text": [
            "Enter numerator: 8\n",
            "Enter denominator: 5\n",
            "Result: 1.6\n"
          ]
        }
      ]
    },
    {
      "cell_type": "markdown",
      "source": [
        "##7). How do you log information at different levels(INFO, ERROR, WARNING) in Python using the logging module?"
      ],
      "metadata": {
        "id": "oOUH-Q5w3lLJ"
      }
    },
    {
      "cell_type": "code",
      "source": [
        "import logging\n",
        "\n",
        "logging.basicConfig(filename=\"app.log\", level=logging.DEBUG,\n",
        "                    format=\"%(asctime)s - %(levelname)s - %(message)s\")\n",
        "\n",
        "\n",
        "logging.debug(\"This is a DEBUG message.\")\n",
        "logging.info(\"This is an INFO message.\")\n",
        "logging.warning(\"This is a WARNING message.\")\n",
        "logging.error(\"This is an ERROR message.\")\n",
        "logging.critical(\"This is a CRITICAL message.\")\n",
        "\n",
        "print(\"Logging completed. Check 'app.log' for details.\")\n"
      ],
      "metadata": {
        "colab": {
          "base_uri": "https://localhost:8080/"
        },
        "id": "hwljWnCm4NxR",
        "outputId": "fac7762e-4c01-4722-8841-cca324f5b3d6"
      },
      "execution_count": 6,
      "outputs": [
        {
          "output_type": "stream",
          "name": "stderr",
          "text": [
            "WARNING:root:This is a WARNING message.\n",
            "ERROR:root:This is an ERROR message.\n",
            "CRITICAL:root:This is a CRITICAL message.\n"
          ]
        },
        {
          "output_type": "stream",
          "name": "stdout",
          "text": [
            "Logging completed. Check 'app.log' for details.\n"
          ]
        }
      ]
    },
    {
      "cell_type": "markdown",
      "source": [
        "##8). Write a program to handle a file opening error using exception handling?"
      ],
      "metadata": {
        "id": "oP6we0XN4Uc9"
      }
    },
    {
      "cell_type": "code",
      "source": [
        "def read_file(filename):\n",
        "    try:\n",
        "        with open(filename, \"r\") as file:\n",
        "            content = file.read()\n",
        "            print(\"File Content:\\n\", content)\n",
        "    except FileNotFoundError:\n",
        "        print(f\"Error: The file '{filename}' was not found.\")\n",
        "    except PermissionError:\n",
        "        print(f\"Error: Permission denied to open '{filename}'.\")\n",
        "    except Exception as e:\n",
        "        print(f\"An unexpected error occurred: {e}\")\n",
        "\n",
        "filename = input(\"Enter the filename to open: \")\n",
        "read_file(filename)\n"
      ],
      "metadata": {
        "id": "mMtsuyny4yfP"
      },
      "execution_count": null,
      "outputs": []
    },
    {
      "cell_type": "markdown",
      "source": [
        "##9). How can you read a file line by line and store its content in a list in Python?"
      ],
      "metadata": {
        "id": "b51uPgGJ44uP"
      }
    },
    {
      "cell_type": "code",
      "source": [
        "def read_file_into_list(filename):\n",
        "    try:\n",
        "        with open(filename, \"r\") as file:\n",
        "            lines = file.readlines()  # Reads all lines into a list\n",
        "        return [line.strip() for line in lines]  # Removes newline characters\n",
        "    except FileNotFoundError:\n",
        "        print(f\"Error: '{filename}' not found.\")\n",
        "        return []\n",
        "\n",
        "\n",
        "filename = \"example.txt\"\n",
        "lines_list = read_file_into_list(filename)\n",
        "print(lines_list)\n"
      ],
      "metadata": {
        "id": "J2TZglew5V6r"
      },
      "execution_count": null,
      "outputs": []
    },
    {
      "cell_type": "markdown",
      "source": [
        "##10). How can you append data to an existing file in Python?"
      ],
      "metadata": {
        "id": "YvnrNvV-5Z75"
      }
    },
    {
      "cell_type": "code",
      "source": [
        "def append_to_file(filename, data):\n",
        "    try:\n",
        "        with open(filename, \"a\") as file:  # Open in append mode\n",
        "            file.write(data + \"\\n\")  # Add a newline for formatting\n",
        "        print(f\"Data successfully appended to '{filename}'.\")\n",
        "    except Exception as e:\n",
        "        print(f\"An error occurred: {e}\")\n",
        "\n",
        "\n",
        "filename = \"example.txt\"\n",
        "data = \"This is a new line of text.\"\n",
        "append_to_file(filename, data)\n"
      ],
      "metadata": {
        "id": "6uCmF3tn5wyu"
      },
      "execution_count": null,
      "outputs": []
    },
    {
      "cell_type": "code",
      "source": [],
      "metadata": {
        "id": "KolzIZyz514H"
      },
      "execution_count": null,
      "outputs": []
    },
    {
      "cell_type": "markdown",
      "source": [
        "##11). Write a Python program that uses a try-except block to handle an error when attempting to access a dictionary key that doesn't exist."
      ],
      "metadata": {
        "id": "Mm0UGFZ453Gn"
      }
    },
    {
      "cell_type": "code",
      "source": [
        "def get_value_from_dict(data_dict, key):\n",
        "    try:\n",
        "        value = data_dict[key]\n",
        "        print(f\"Value: {value}\")\n",
        "    except KeyError:\n",
        "        print(f\"Error: Key '{key}' not found in the dictionary.\")\n",
        "\n",
        "\n",
        "sample_dict = {\"name\": \"Alice\", \"age\": 25, \"city\": \"New York\"}\n",
        "\n",
        "key_to_lookup = input(\"Enter the key to lookup: \")\n",
        "get_value_from_dict(sample_dict, key_to_lookup)\n"
      ],
      "metadata": {
        "id": "VquwWVtF6POO"
      },
      "execution_count": null,
      "outputs": []
    },
    {
      "cell_type": "markdown",
      "source": [
        "##12). Write a program that demonstrates using multiple except blocks to handle different types of exceptions."
      ],
      "metadata": {
        "id": "fOW9lmMh6WxS"
      }
    },
    {
      "cell_type": "code",
      "source": [
        "def handle_exceptions():\n",
        "    try:\n",
        "        num1 = int(input(\"Enter numerator: \"))\n",
        "        num2 = int(input(\"Enter denominator: \"))\n",
        "        result = num1 / num2\n",
        "\n",
        "\n",
        "        sample_dict = {\"name\": \"Alice\", \"age\": 25}\n",
        "        key = input(\"Enter dictionary key to lookup: \")\n",
        "        value = sample_dict[key]\n",
        "\n",
        "        print(f\"Result of division: {result}\")\n",
        "        print(f\"Dictionary value: {value}\")\n",
        "\n",
        "    except ZeroDivisionError:\n",
        "        print(\"Error: Division by zero is not allowed.\")\n",
        "    except ValueError:\n",
        "        print(\"Error: Invalid input! Please enter numbers only.\")\n",
        "    except KeyError:\n",
        "        print(\"Error: Key not found in the dictionary.\")\n",
        "    except Exception as e:\n",
        "        print(f\"An unexpected error occurred: {e}\")\n",
        "\n",
        "\n",
        "handle_exceptions()\n"
      ],
      "metadata": {
        "id": "I8wi8T8_60VY"
      },
      "execution_count": null,
      "outputs": []
    },
    {
      "cell_type": "markdown",
      "source": [
        "##13). How would you check if a file exists before attempting to read it in Python?\n",
        "\n"
      ],
      "metadata": {
        "id": "ZKw34mBD7B8X"
      }
    },
    {
      "cell_type": "code",
      "source": [
        "from pathlib import Path\n",
        "\n",
        "filename = Path(\"example.txt\")\n",
        "\n",
        "if filename.is_file():  # Checks if it's a valid file\n",
        "    with open(filename, \"r\") as file:\n",
        "        content = file.read()\n",
        "        print(\"File Content:\\n\", content)\n",
        "else:\n",
        "    print(f\"Error: The file '{filename}' does not exist.\")\n"
      ],
      "metadata": {
        "id": "6Rl2-VoV7XbT"
      },
      "execution_count": null,
      "outputs": []
    },
    {
      "cell_type": "markdown",
      "source": [
        "##14). Write a program that uses the logging module to log both informational and error messages."
      ],
      "metadata": {
        "id": "9k-k0FQB7ZPH"
      }
    },
    {
      "cell_type": "code",
      "source": [
        "import logging\n",
        "\n",
        "logging.basicConfig(\n",
        "    filename=\"app.log\",\n",
        "    level=logging.DEBUG,\n",
        "    format=\"%(asctime)s - %(levelname)s - %(message)s\",\n",
        "    datefmt=\"%Y-%m-%d %H:%M:%S\"\n",
        ")\n",
        "\n",
        "def divide_numbers(a, b):\n",
        "    try:\n",
        "        result = a / b\n",
        "        logging.info(f\"Division successful: {a} / {b} = {result}\")\n",
        "        return result\n",
        "    except ZeroDivisionError:\n",
        "        logging.error(\"Attempted division by zero.\")\n",
        "        print(\"Error: Division by zero is not allowed.\")\n",
        "    except Exception as e:\n",
        "        logging.error(f\"An unexpected error occurred: {e}\")\n",
        "        print(\"An unexpected error occurred.\")\n",
        "\n",
        "\n",
        "logging.info(\"Program started.\")\n",
        "num1 = int(input(\"Enter numerator: \"))\n",
        "num2 = int(input(\"Enter denominator: \"))\n",
        "\n",
        "divide_numbers(num1, num2)\n",
        "\n",
        "logging.info(\"Program finished.\")\n",
        "print(\"Check 'app.log' for log details.\")\n"
      ],
      "metadata": {
        "id": "uQLPKrJ47YxK"
      },
      "execution_count": null,
      "outputs": []
    },
    {
      "cell_type": "markdown",
      "source": [
        "##15).Write a Python program that prints the content of a file and handles the case when the file is empty."
      ],
      "metadata": {
        "id": "dgOb3Jtr72jw"
      }
    },
    {
      "cell_type": "code",
      "source": [
        "import os\n",
        "\n",
        "def read_and_print_file(filename):\n",
        "    try:\n",
        "        if not os.path.exists(filename):\n",
        "            print(f\"Error: The file '{filename}' does not exist.\")\n",
        "            return\n",
        "\n",
        "        with open(filename, \"r\") as file:\n",
        "            content = file.read().strip()\n",
        "\n",
        "        if not content:\n",
        "            print(f\"Warning: The file '{filename}' is empty.\")\n",
        "        else:\n",
        "            print(\"File Content:\\n\", content)\n",
        "\n",
        "    except Exception as e:\n",
        "        print(f\"An unexpected error occurred: {e}\")\n",
        "\n",
        "\n",
        "filename = input(\"Enter the filename: \")\n",
        "read_and_print_file(filename)\n"
      ],
      "metadata": {
        "id": "2EDeucem8w0n"
      },
      "execution_count": null,
      "outputs": []
    },
    {
      "cell_type": "markdown",
      "source": [
        "##16). Demonstrate how to use memory profiling to check the memory usage of a small program."
      ],
      "metadata": {
        "id": "9Th2F9Wf81XY"
      }
    },
    {
      "cell_type": "code",
      "source": [
        "from memory_profiler import profile\n",
        "\n",
        "@profile\n",
        "def memory_test():\n",
        "    numbers = list(range(1_000_000))  # Allocate memory for a large list\n",
        "    squares = [x**2 for x in numbers]  # Create another large list\n",
        "    return sum(squares)\n",
        "\n",
        "if __name__ == \"__main__\":\n",
        "    result = memory_test()\n",
        "    print(\"Sum of squares calculated.\")\n"
      ],
      "metadata": {
        "id": "bg45Myof9MWn"
      },
      "execution_count": null,
      "outputs": []
    },
    {
      "cell_type": "markdown",
      "source": [
        "##17). Write a Python program to create and write a list of numbers to a file, one number per line."
      ],
      "metadata": {
        "id": "tDzECSzu9VXh"
      }
    },
    {
      "cell_type": "code",
      "source": [
        "def write_numbers_to_file(filename, numbers):\n",
        "    try:\n",
        "        with open(filename, \"w\") as file:\n",
        "            for num in numbers:\n",
        "                file.write(str(num) + \"\\n\")\n",
        "        print(f\"Numbers successfully written to '{filename}'.\")\n",
        "    except Exception as e:\n",
        "        print(f\"An error occurred: {e}\")\n",
        "\n",
        "\n",
        "numbers_list = list(range(1, 21))\n",
        "filename = \"numbers.txt\"\n",
        "\n",
        "write_numbers_to_file(filename, numbers_list)\n"
      ],
      "metadata": {
        "id": "0Gu1gUwj-J3R"
      },
      "execution_count": null,
      "outputs": []
    },
    {
      "cell_type": "markdown",
      "source": [
        "##18). How would you implement a basic logging setup that logs to a file with rotation after 1MB?"
      ],
      "metadata": {
        "id": "dtnPIjmS-QE_"
      }
    },
    {
      "cell_type": "code",
      "source": [
        "import logging\n",
        "from logging.handlers import RotatingFileHandler\n",
        "\n",
        "\n",
        "log_filename = \"app.log\"\n",
        "log_formatter = logging.Formatter(\"%(asctime)s - %(levelname)s - %(message)s\", \"%Y-%m-%d %H:%M:%S\")\n",
        "\n",
        "handler = RotatingFileHandler(log_filename, maxBytes=1_000_000, backupCount=3)\n",
        "handler.setFormatter(log_formatter)\n",
        "\n",
        "\n",
        "logger = logging.getLogger(\"RotatingLogger\")\n",
        "logger.setLevel(logging.DEBUG)\n",
        "logger.addHandler(handler)\n",
        "\n",
        "\n",
        "logger.info(\"This is an info message.\")\n",
        "logger.warning(\"This is a warning message.\")\n",
        "logger.error(\"This is an error message.\")\n",
        "logger.debug(\"This is a debug message.\")\n",
        "\n",
        "print(f\"Logging setup complete. Check '{log_filename}' for logs.\")\n"
      ],
      "metadata": {
        "id": "RqpC_OHf-qjT"
      },
      "execution_count": null,
      "outputs": []
    },
    {
      "cell_type": "markdown",
      "source": [
        "##19). Write a program that handles both indexError and keyError using a try-except block."
      ],
      "metadata": {
        "id": "n-HGR_M--1kB"
      }
    },
    {
      "cell_type": "code",
      "source": [
        "def handle_exceptions():\n",
        "    try:\n",
        "        numbers = [10, 20, 30]\n",
        "        index = int(input(\"Enter an index (0-2): \"))\n",
        "        print(f\"Value at index {index}: {numbers[index]}\")\n",
        "\n",
        "\n",
        "        sample_dict = {\"name\": \"Alice\", \"age\": 25}\n",
        "        key = input(\"Enter a dictionary key (name/age): \")\n",
        "        print(f\"Value for '{key}': {sample_dict[key]}\")\n",
        "\n",
        "    except IndexError:\n",
        "        print(\"Error: Index out of range! Please enter a valid index (0-2).\")\n",
        "    except KeyError:\n",
        "        print(\"Error: Key not found in the dictionary! Please enter a valid key.\")\n",
        "    except ValueError:\n",
        "        print(\"Error: Invalid input! Please enter a number for the index.\")\n",
        "    except Exception as e:\n",
        "        print(f\"An unexpected error occurred: {e}\")\n",
        "\n",
        "handle_exceptions()\n"
      ],
      "metadata": {
        "id": "oF6usm3E_JWW"
      },
      "execution_count": null,
      "outputs": []
    },
    {
      "cell_type": "markdown",
      "source": [
        "##20). How would you open a file and read its contents using a context manager in Python?"
      ],
      "metadata": {
        "id": "GGke8lRb_RJj"
      }
    },
    {
      "cell_type": "code",
      "source": [
        "filename = \"example.txt\"\n",
        "with open(filename, \"r\") as file:\n",
        "    content = file.read()\n",
        "    print(content)\n"
      ],
      "metadata": {
        "id": "5efrRGyC_lPt"
      },
      "execution_count": null,
      "outputs": []
    },
    {
      "cell_type": "markdown",
      "source": [
        "##21). Write a Python program that reads a file and prints the number of occurences of a specific word."
      ],
      "metadata": {
        "id": "OHyV1YM3_oo8"
      }
    },
    {
      "cell_type": "code",
      "source": [
        "def count_word_occurrences(filename, word):\n",
        "    try:\n",
        "        with open(filename, \"r\") as file:\n",
        "            content = file.read().lower()\n",
        "\n",
        "        word_count = content.split().count(word.lower())\n",
        "        print(f\"The word '{word}' appears {word_count} times in '{filename}'.\")\n",
        "\n",
        "    except FileNotFoundError:\n",
        "        print(f\"Error: The file '{filename}' does not exist.\")\n",
        "    except Exception as e:\n",
        "        print(f\"An unexpected error occurred: {e}\")\n",
        "\n",
        "\n",
        "filename = input(\"Enter the filename: \")\n",
        "word = input(\"Enter the word to count: \")\n",
        "\n",
        "count_word_occurrences(filename, word)\n"
      ],
      "metadata": {
        "id": "eAfUj5ukABqk"
      },
      "execution_count": null,
      "outputs": []
    },
    {
      "cell_type": "markdown",
      "source": [
        "##22). How can you check if a file is empty before attempting to read its contents?"
      ],
      "metadata": {
        "id": "yS5XyDPQAF3w"
      }
    },
    {
      "cell_type": "code",
      "source": [
        "filename = \"example.txt\"\n",
        "\n",
        "with open(filename, \"r\") as file:\n",
        "    content = file.read()\n",
        "    if not content:\n",
        "        print(f\"The file '{filename}' is empty.\")\n",
        "    else:\n",
        "        print(content)\n"
      ],
      "metadata": {
        "id": "C1PKZGXCAbsU"
      },
      "execution_count": null,
      "outputs": []
    },
    {
      "cell_type": "markdown",
      "source": [
        "##23). Write a Python program that writes to a log file when an error occurs during file handling."
      ],
      "metadata": {
        "id": "aJQ0Cl-4Adt8"
      }
    },
    {
      "cell_type": "code",
      "source": [
        "import logging\n",
        "\n",
        "log_filename = \"file_errors.log\"\n",
        "logging.basicConfig(\n",
        "    filename=log_filename,\n",
        "    level=logging.ERROR,\n",
        "    format=\"%(asctime)s - %(levelname)s - %(message)s\",\n",
        "    datefmt=\"%Y-%m-%d %H:%M:%S\",\n",
        ")\n",
        "\n",
        "def read_file(filename):\n",
        "    try:\n",
        "        with open(filename, \"r\") as file:\n",
        "            content = file.read()\n",
        "            print(content)\n",
        "    except FileNotFoundError:\n",
        "        logging.error(f\"File '{filename}' not found.\")\n",
        "        print(f\"Error: The file '{filename}' does not exist.\")\n",
        "    except PermissionError:\n",
        "        logging.error(f\"Permission denied for file '{filename}'.\")\n",
        "        print(f\"Error: Permission denied for '{filename}'.\")\n",
        "    except Exception as e:\n",
        "        logging.error(f\"Unexpected error while reading '{filename}': {e}\")\n",
        "        print(f\"An unexpected error occurred: {e}\")\n",
        "\n",
        "filename = input(\"Enter the filename to read: \")\n",
        "read_file(filename)\n",
        "\n",
        "print(f\"Check '{log_filename}' for error logs if any issues occur.\")\n"
      ],
      "metadata": {
        "id": "lgyRT-zBA02Q"
      },
      "execution_count": null,
      "outputs": []
    }
  ]
}