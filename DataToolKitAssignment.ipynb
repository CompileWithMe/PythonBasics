{
  "nbformat": 4,
  "nbformat_minor": 0,
  "metadata": {
    "colab": {
      "provenance": []
    },
    "kernelspec": {
      "name": "python3",
      "display_name": "Python 3"
    },
    "language_info": {
      "name": "python"
    }
  },
  "cells": [
    {
      "cell_type": "markdown",
      "source": [
        "##1.) What is NumPy,and why is it widely used in Python?\n",
        "-Numpy is a powerful Python library used for numerical computing. It provides support for arrays, matrices, and a wide range of mathematical functions to operate on these data structures. It's widely used because:\n",
        "1. Efficiency: Numpy arrays are more efficient than Python lists for numericl data, offering faster performance.\n",
        "2. Covenience: It offers a rich set of functions for mathmatical and logical operations.\n",
        "3. Compatibility: It's the foundation for many other scientific libraries (eg. SciPy, pandas, TensorFlow), making it essential for data science, machine learning and scientific computing.\n",
        "\n",
        "##2.) How does broadcasting work in numpy?\n",
        "\n",
        "- Broadcasting in Numpy is a technique used to perform element-wise operations on arrays of different shapes. When performing operations on arrays, NumPy automatically expands the smaller array to match the shape of the larger array without explicitly copying data, making the process more memory-efficient and faster.\n",
        "How it works:\n",
        "\n",
        "1. Shape Matching: For two arrays to be compatible for broadcasting, their shapes must be compatible according to the following rules:\n",
        "- The dimensions of the arrays are compared element-wise from right to left.\n",
        "- If the dimensions are the same, the arrays can be broadcast together.\n",
        "- If one of the arrays has a dimension size of 1. It can be stretched to match the other arrays's size in that dimension.\n",
        "\n",
        "2. Automatic Expansion: If the shapes are not the same but compatible, NumPy will 'stretch' the smaller array to match the shape of the larger one by repeating its elements.\n",
        "\n",
        "import numpy as np\n",
        "\n",
        "A = np.array([[1, 2], [3, 4]])  # Shape (2, 2)\n",
        "B = np.array([10, 20])           # Shape (2,)\n",
        "\n",
        "result = A + B\n",
        "\n",
        "The array B is automatically broadcasted to match the shape of A. In this case, B is treated as if it is expanded to:\n",
        "B = [[10, 20],\n",
        "     [10, 20]]\n",
        "\n",
        "So, the operation becomes:\n",
        "\n",
        "[[1, 2]   +  [10, 20]  =  [11, 22]]\n",
        "[[3, 4]]     [10, 20]     [13, 24]]\n",
        "\n",
        "##3.) What is a Pandas DataFrame?\n",
        "\n",
        "- A Pandas DataFrame is a two dimensional, size-mutable, and potentially heterogeneous tabular data structure with labeled axes(rows and columns). It is one of the most commonly used structures in Pandas, a popular data manipulation and analysis library in Python.\n",
        "\n",
        "Key Features:\n",
        "Rows and Columns: Like a table in a database or an Excel spreadsheet, a DataFrame contains rows and columns. Each column can contain data of different types (e.g., integers, floats, strings).\n",
        "\n",
        "Labels: DataFrames have labeled rows (index) and columns, making it easy to access data using the labels rather than relying on numeric positions.\n",
        "\n",
        "Data Flexibility: You can mix different data types (e.g., integers, floats, strings) within different columns of the DataFrame.\n",
        "\n",
        "Data Operations: Pandas provides a wide range of functions to filter, group, reshape, and analyze the data within a DataFrame.\n",
        "\n",
        "import pandas as pd\n",
        "\n",
        "\n",
        "data = {\n",
        "    'Name': ['Alice', 'Bob', 'Charlie'],\n",
        "    'Age': [25, 30, 35],\n",
        "    'City': ['New York', 'Los Angeles', 'Chicago']\n",
        "}\n",
        "\n",
        "df = pd.DataFrame(data)\n",
        "\n",
        "print(df)\n",
        "\n",
        "#Output:\n",
        "\n",
        "      Name  Age         City\n",
        "0    Alice   25     New York\n",
        "1      Bob   30  Los Angeles\n",
        "2  Charlie   35      Chicago\n",
        "\n",
        "##4.) Explain the use of the groupby() method in Pandas?\n",
        "\n",
        "- The groupby() method in Pandas is used to split data into groups based on some criteria, perform operations on each group independently, and then combine the results back into a single DataFrame. It is extremely useful for aggregating, summarizing, and analyzing data by categories.\n",
        "\n",
        "Example:\n",
        "\n",
        "import pandas as pd\n",
        "\n",
        "\n",
        "data = {\n",
        "    'Category': ['A', 'B', 'A', 'B', 'A', 'B'],\n",
        "    'Value': [10, 20, 30, 40, 50, 60]\n",
        "}\n",
        "\n",
        "df = pd.DataFrame(data)\n",
        "\n",
        "\n",
        "grouped = df.groupby('Category')['Value'].sum()\n",
        "\n",
        "print(grouped)\n",
        "\n",
        "# Output\n",
        "\n",
        "Category\n",
        "A    90\n",
        "B   120\n",
        "\n",
        "##5.) Why is Seaborn preferred for statistical visualizations?\n",
        "\n",
        "- Seaborn is preferred for statistical visualizations because it offers several advantages that make it easier and more efficient to create insightful, high-quality plots. Here are some key reasons why Seaborn is widely used:\n",
        "\n",
        "1. Built on Top of Matplotlib:\n",
        "Seaborn is built on top of Matplotlib, which means it inherits all the flexibility and functionality of Matplotlib, but with a higher-level, more user-friendly interface.\n",
        "It simplifies the creation of complex visualizations without needing to write extensive code.\n",
        "2. Simplifies Statistical Plotting:\n",
        "Seaborn provides specialized functions for statistical plots like distribution plots, box plots, violin plots, heatmaps, regression plots, and pair plots, which are all commonly used in data analysis.\n",
        "It handles many statistical tasks automatically, such as computing means, medians, confidence intervals, and standard errors, making it easier to create plots for statistical analysis.\n",
        "3. Integrated with Pandas DataFrames:\n",
        "Seaborn seamlessly integrates with Pandas DataFrames, allowing you to pass a DataFrame directly to a plotting function. This makes it easy to visualize columns and subsets of data without needing to manually extract the data.\n",
        "You can pass column names directly to the plotting functions, which simplifies the process of data manipulation and plotting.\n",
        "4. Built-in Support for Statistical Estimations:\n",
        "Seaborn automatically computes and plots statistical estimates, such as regression lines, confidence intervals, and kernel density estimates, making it especially useful for statistical analysis.\n",
        "For example, sns.regplot() can add a regression line and confidence interval to a scatter plot, while sns.boxplot() automatically computes the median, quartiles, and outliers.\n",
        "5. Consistent and Attractive Default Styles:\n",
        "Seaborn has attractive and consistent default color palettes, themes, and styles for plots, which make the visualizations look more polished and suitable for presentations or publications.\n",
        "The styling is especially helpful for quickly creating clean, aesthetically pleasing plots with minimal customization.\n",
        "6. Handling Complex Visualizations Easily:\n",
        "Seaborn makes it easier to create complex visualizations with fewer lines of code. For example, generating pairwise scatter plots for multiple variables (sns.pairplot()), categorical plots (e.g., sns.boxplot() or sns.violinplot()), and correlation heatmaps (sns.heatmap()) can be done in just a few lines.\n",
        "This is especially valuable when exploring large datasets with many variables.\n",
        "7. Excellent Support for Categorical Data:\n",
        "Seaborn has built-in functionality for handling categorical data. It provides easy-to-use plots for comparing categories, such as box plots, bar plots, count plots, violin plots, etc.\n",
        "These plots automatically handle categorical variables and generate meaningful visual summaries of the data.\n",
        "8. Works Well with Other Libraries:\n",
        "Seaborn integrates well with other scientific libraries like SciPy and Statsmodels for statistical analysis. You can easily overlay statistical models on Seaborn plots, which is helpful when visualizing regression results or distributions.\n",
        "9. Easy Customization:\n",
        "While Seaborn has strong defaults, it is also highly customizable. You can adjust colors, labels, axes, and many other plot elements, giving you control over the final visualization.\n",
        "\n",
        "##6). What are the differences between NumPy arrays and Python lists?\n",
        "\n",
        "NumPy arrays are designed for high-performance numerical computing, while Python lists are more flexible but less efficient for numerical tasks.\n",
        "Performance:\n",
        "\n",
        "NumPy arrays are more efficient for large datasets due to better memory allocation and lower overhead. They are optimized for numerical operations.\n",
        "Python lists are more general-purpose and can hold different data types, which makes them slower for numerical tasks.\n",
        "Homogeneity:\n",
        "\n",
        "NumPy arrays must contain elements of the same data type (e.g., all integers or all floats).\n",
        "Python lists can store elements of different types (e.g., integers, strings, floats).\n",
        "Operations:\n",
        "\n",
        "NumPy arrays support element-wise operations (e.g., adding arrays, scalar operations) and advanced mathematical functions.\n",
        "Python lists do not support these operations directly and require loops or list comprehensions.\n",
        "Memory usage:\n",
        "\n",
        "NumPy arrays are more memory efficient than Python lists because they store data in a compact format.\n",
        "Python lists store data with additional overhead (e.g., type information for each element).\n",
        "Functionality:\n",
        "\n",
        "NumPy arrays provide a wide range of mathematical and statistical functions, such as linear algebra, random sampling, etc.\n",
        "Python lists offer basic operations like indexing, slicing, and appending.\n",
        "\n",
        "##7). What is a heatmap, and when should it be used?\n",
        "\n",
        "A heatmap is a data visualization technique that uses colors to represent the values in a matrix or table. The color intensity (e.g., from blue to red or light to dark) corresponds to the magnitude of the data values, making it easier to identify patterns, correlations, and trends.Heatmaps are powerful for visualizing relationships, patterns, or distributions in data, especially for large or complex datasets, making it easier to spot trends or outliers.\n",
        "\n",
        "##8). What does the term “vectorized operation” mean in NumPy?\n",
        "\n",
        "A vectorized operation in NumPy refers to performing operations on entire arrays (vectors or matrices) in a single step, rather than using explicit loops. This is achieved by using NumPy's built-in functions and broadcasting features, which are optimized to work efficiently with arrays at a low level.\n",
        "\n",
        "##9)How does Matplotlib differ from Plotly?\n",
        "\n",
        "Matplotlib and Plotly are both popular Python libraries for creating visualizations, but they differ in several important ways:\n",
        "\n",
        "1. Interactivity\n",
        "Matplotlib:\n",
        "\n",
        "Primarily static visualizations. It can generate simple interactive plots (e.g., zooming or panning) when used with interactive backends, but its main strength is in creating static, high-quality figures.\n",
        "Better suited for static reports or images where interactivity isn't a priority.\n",
        "Plotly:\n",
        "\n",
        "Known for its interactive plots by default. Features like zooming, panning, hovering, and clickable legends are built-in.\n",
        "Plotly is great for web-based applications, dashboards, or data exploration where you need a high level of interactivity and user engagement.\n",
        "2. Ease of Use\n",
        "Matplotlib:\n",
        "\n",
        "More verbose and has a steeper learning curve, especially when dealing with more complex plots.\n",
        "Provides fine control over every aspect of the plot, making it more flexible for customizing the details of your visualizations.\n",
        "Plotly:\n",
        "\n",
        "Simpler syntax for creating interactive plots. It's often easier to get started with and requires fewer lines of code for creating complex plots compared to Matplotlib.\n",
        "Provides automatic interactivity with minimal effort.\n",
        "3. Aesthetics\n",
        "Matplotlib:\n",
        "\n",
        "While Matplotlib produces high-quality static visualizations, the default plots may look more basic or \"unpolished\" compared to Plotly.\n",
        "Requires extra customization (e.g., adjusting colors, fonts) to make plots visually appealing.\n",
        "Plotly:\n",
        "\n",
        "By default, Plotly produces more visually appealing and polished interactive charts, with modern design, smooth animations, and intuitive tooltips.\n",
        "4. Flexibility and Customization\n",
        "Matplotlib:\n",
        "\n",
        "Highly customizable. It's more flexible when it comes to low-level control, allowing you to create highly tailored and detailed plots (e.g., customized ticks, axes, etc.).\n",
        "Can be more complex for advanced customizations, but it's very powerful for static plots.\n",
        "\n",
        "##10). What is the significance of hierarchical indexing in Pandas?\n",
        "\n",
        "Hierarchical indexing in Pandas is a powerful feature that allows you to work with multi-level (or multi-dimensional) data using multiple index levels. This means you can have more than one index (or key) for rows and columns in a DataFrame or Series, which makes it easier to manage and analyze data with multiple levels of categorization.\n",
        "\n",
        "##11). What is the role of Seaborn’s pairplot() function?\n",
        "\n",
        "The pairplot() function in Seaborn is a powerful tool for visualizing relationships between multiple variables in a dataset. It creates a grid of scatter plots for all pairwise combinations of features in the dataset, making it easier to explore the correlations, distributions, and trends across multiple variables at once.\n",
        "The pairplot() function in Seaborn is essential for exploratory data analysis, as it provides a visual way to explore relationships between variables, uncover correlations, and understand the structure of the data. It is particularly useful for small to medium-sized datasets with multiple features.\n",
        "\n",
        "##12). What is the purpose of the describe() function in Pandas?\n",
        "\n",
        "The describe() function in Pandas provides a quick and convenient summary of the statistical properties of a DataFrame or Series. It calculates and returns key summary statistics for the numerical (and optionally categorical) columns in the dataset.\n",
        "The describe() function is an essential tool in Pandas for quickly obtaining a summary of your data, helping you understand its characteristics and distributions before diving into deeper analysis.\n",
        "\n",
        "##13). Why is handling missing data important in Pandas?\n",
        "\n",
        "Handling missing data is crucial in Pandas (and data analysis in general) because missing data can lead to incorrect analyses, biased results, and can negatively affect machine learning models, statistical analyses, and visualizations. Proper handling ensures that the results derived from the data are reliable and meaningful.\n",
        "\n",
        "##14). What are the benefits of using Plotly for data visualization?\n",
        "\n",
        "Plotly is a powerful and versatile data visualization library that allows users to create interactive, high-quality visualizations with ease. It has several unique features that set it apart from other visualization libraries like Matplotlib or Seaborn.\n",
        "Interactive and Engaging: Easily create interactive, zoomable, and clickable charts.\n",
        "High-Quality Graphics: Produces publication-ready, visually appealing charts.\n",
        "Variety of Chart Types: Supports a wide range of chart types, including 2D, 3D, and geospatial charts.\n",
        "Customizable: Highly customizable for specific needs.\n",
        "Integration with Dash: Ideal for building interactive dashboards and applications.\n",
        "Web-Ready: Seamlessly integrates with web-based applications, and supports easy sharing and embedding.\n",
        "Plotly is an excellent choice for anyone looking to create professional, interactive, and shareable visualizations, making it a top option for data scientists, analysts, and anyone working with complex datasets.\n",
        "\n",
        "##15). How does NumPy handle multidimensional arrays?\n",
        "\n",
        "NumPy provides a powerful and flexible way to work with multidimensional arrays. In NumPy, a multidimensional array (also known as a matrix, tensor, or n-dimensional array) can represent data in various dimensions (2D, 3D, etc.). These arrays are stored as contiguous blocks of memory for efficient computation and can be manipulated easily with various functions provided by the library.\n",
        "\n",
        "Multidimensional arrays in NumPy are efficient and easy to manipulate using built-in functions.\n",
        "NumPy supports indexing, slicing, and reshaping for flexible data manipulation.\n",
        "Broadcasting and vectorized operations allow for fast and easy arithmetic operations on arrays of different shapes.\n",
        "NumPy is highly optimized for performance, making it ideal for large datasets and scientific computing.\n",
        "\n",
        "##16).  What is the role of Bokeh in data visualization?\n",
        "\n",
        "Bokeh is an interactive data visualization library for Python that is specifically designed to create dynamic, web-ready visualizations. It is particularly useful for building interactive plots and dashboards, allowing users to explore and interact with the data through features like zooming, panning, hovering, and clicking. Bokeh provides a high level of customization for both 2D and 3D visualizations.\n",
        "\n",
        "Bokeh plays an important role in interactive and web-ready data visualizations, enabling users to create dynamic visualizations for exploring and analyzing data. Whether it's for creating interactive plots, dashboards, or handling real-time streaming data, Bokeh makes it easy to share and interact with your data in a rich and engaging way.\n",
        "\n",
        "##17).  Explain the difference between apply() and map() in Pandas?\n",
        "\n",
        "In Pandas, both the apply() and map() functions are used to apply a function to data, but they are used in slightly different contexts and have some distinct characteristics.\n",
        "\n",
        "apply() can be less efficient for element-wise operations on a Series, especially for large datasets, because it applies the function to each element one at a time.\n",
        "map(), on the other hand, is generally more efficient than apply() for element-wise operations on Series, because it is specifically designed for such tasks and is optimized for this purpose.\n",
        "\n",
        "Use apply() when you need more flexibility, such as applying a function along specific axes (rows or columns) or when working with DataFrames. It can handle more complex operations and is more versatile.\n",
        "\n",
        "Use map() when you want to perform element-wise operations on a Series (not a DataFrame), especially when using a dictionary or applying a simple function to each element.\n",
        "\n",
        "##18). What are some advanced features of NumPy?\n",
        "\n",
        "NumPy is a powerful library for numerical computing in Python, and while its basic functionality is widely used for tasks like array manipulation, it also offers several advanced features for more complex operations.\n",
        "\n",
        "Some features are given below:\n",
        "\n",
        "-Broadcasting\n",
        "-Advanced Array Indexing\n",
        "-Vectorization\n",
        "-Universal Functions(ufuncs)\n",
        "-Memory views\n",
        "-Linear Algebra Functions\n",
        "-Random Sampling\n",
        "-Array Strides and Memory Layout\n",
        "\n",
        "##19). How does Pandas simplify time series analysis?\n",
        "\n",
        "Pandas is an extremely powerful library for time series analysis in Python, and it provides several features that simplify the process. Time series data typically involves sequences of data points indexed in time order, and Pandas includes tools for handling, manipulating, and analyzing such data with ease.\n",
        "\n",
        "-Datetime indexing and manipulation\n",
        "-Handling time-based operations (like shifting and resampling)\n",
        "-Handling missing data and time zone conversions\n",
        "-Performing rolling window operations, such as moving averages\n",
        "-Decomposing time series and analyzing trends and seasonality.\n",
        "\n",
        "##20). What is the role of a pivot table in Pandas?\n",
        "\n",
        "In Pandas, a pivot table is a powerful tool that allows you to summarize and aggregate data in a structured, tabular format. It is useful for reshaping and summarizing large datasets by grouping and aggregating the data based on specific variables.\n",
        "\n",
        "A pivot table in Pandas is an essential tool for transforming and summarizing data. It simplifies the process of:\n",
        "\n",
        "Aggregating data\n",
        "Reshaping data into a more readable format\n",
        "Performing multi-dimensional analysis\n",
        "Applying custom aggregation functions\n",
        "Handling missing data in your time series or tabular datasets.\n",
        "\n",
        "##21). Why is NumPy’s array slicing faster than Python’s list slicing?\n",
        "\n",
        "NumPy's array slicing is faster than Python's list slicing primarily because NumPy arrays are stored in contiguous memory blocks, use vectorized operations, and often return views instead of copies, leading to significant performance gains. On the other hand, Python lists are less efficient due to their more general-purpose nature, non-contiguous memory allocation, and the overhead of copying data when slicing.\n",
        "\n",
        "##22). What are some common use cases for Seaborn?\n",
        "\n",
        "Seaborn is a powerful Python visualization library built on top of Matplotlib that provides a high-level interface for creating visually appealing and informative statistical graphics. Seaborn simplifies the creation of complex visualizations and helps to quickly explore data patterns.\n",
        "\n",
        "Seaborn is a versatile tool used for a variety of tasks in data exploration, analysis, and presentation. It simplifies the creation of complex visualizations like:\n",
        "\n",
        "Distribution plots for univariate data\n",
        "Correlation matrices and heatmaps\n",
        "Categorical data visualizations\n",
        "Time series visualizations\n",
        "Statistical models and regression plots\n",
        "Faceted grids for multi-variable analysis\n",
        "Seaborn's ability to handle statistical data and provide rich, customizable visualizations makes it an essential tool for any data analyst or data scientist working with Python.\n",
        "\n",
        "\n",
        "\n"
      ],
      "metadata": {
        "id": "nksGrNUbS4sK"
      }
    },
    {
      "cell_type": "code",
      "source": [
        "# Coding assignment\n"
      ],
      "metadata": {
        "id": "PY4mWnPZaE93"
      },
      "execution_count": 1,
      "outputs": []
    },
    {
      "cell_type": "code",
      "source": [
        "#1). How do you create a 2D NumPy array and calculate the sum of each row?"
      ],
      "metadata": {
        "id": "bHNeXoekaIpF"
      },
      "execution_count": 2,
      "outputs": []
    },
    {
      "cell_type": "code",
      "source": [
        "import numpy as np\n",
        "\n",
        "\n",
        "array_2d = np.array([[1, 2, 3],\n",
        "                     [4, 5, 6],\n",
        "                     [7, 8, 9]])\n",
        "\n",
        "\n",
        "row_sums = np.sum(array_2d, axis=1)\n",
        "\n",
        "\n",
        "print(\"2D Array:\")\n",
        "print(array_2d)\n",
        "print(\"\\nSum of each row:\")\n",
        "print(row_sums)\n"
      ],
      "metadata": {
        "colab": {
          "base_uri": "https://localhost:8080/"
        },
        "id": "EP11BFJHaRQb",
        "outputId": "34524f16-a354-4adc-9be9-ac7f005d89ef"
      },
      "execution_count": 3,
      "outputs": [
        {
          "output_type": "stream",
          "name": "stdout",
          "text": [
            "2D Array:\n",
            "[[1 2 3]\n",
            " [4 5 6]\n",
            " [7 8 9]]\n",
            "\n",
            "Sum of each row:\n",
            "[ 6 15 24]\n"
          ]
        }
      ]
    },
    {
      "cell_type": "code",
      "source": [
        "#2). Write a Pandas script to find the mean of a specific column in a DataFrame?"
      ],
      "metadata": {
        "id": "nMlfH8N8aY54"
      },
      "execution_count": 4,
      "outputs": []
    },
    {
      "cell_type": "code",
      "source": [
        "import pandas as pd\n",
        "\n",
        "\n",
        "data = {\n",
        "    'Name': ['Alice', 'Bob', 'Charlie', 'David', 'Eve'],\n",
        "    'Age': [25, 30, 35, 40, 45],\n",
        "    'Salary': [50000, 60000, 70000, 80000, 90000]\n",
        "}\n",
        "\n",
        "df = pd.DataFrame(data)\n",
        "\n",
        "\n",
        "mean_age = df['Age'].mean()\n",
        "\n",
        "\n",
        "print(f\"The mean age is: {mean_age}\")\n"
      ],
      "metadata": {
        "colab": {
          "base_uri": "https://localhost:8080/"
        },
        "id": "-lfgf7rEaeXC",
        "outputId": "7354b471-89c1-4cd5-a5ab-99248514d95f"
      },
      "execution_count": 5,
      "outputs": [
        {
          "output_type": "stream",
          "name": "stdout",
          "text": [
            "The mean age is: 35.0\n"
          ]
        }
      ]
    },
    {
      "cell_type": "code",
      "source": [
        "#3). Create a scatter plot using Matplotlib?"
      ],
      "metadata": {
        "id": "FeEcIMwFbGQj"
      },
      "execution_count": 6,
      "outputs": []
    },
    {
      "cell_type": "code",
      "source": [
        "import matplotlib.pyplot as plt\n",
        "\n",
        "# Sample data\n",
        "x = [1, 2, 3, 4, 5]\n",
        "y = [2, 4, 6, 8, 10]\n",
        "\n",
        "# Create a scatter plot\n",
        "plt.scatter(x, y, color='blue', label='Data Points')\n",
        "\n",
        "plt.title('Scatter Plot Example')\n",
        "plt.xlabel('X Axis')\n",
        "plt.ylabel('Y Axis')\n",
        "\n",
        "plt.legend()\n",
        "\n",
        "\n",
        "plt.show()\n"
      ],
      "metadata": {
        "colab": {
          "base_uri": "https://localhost:8080/",
          "height": 472
        },
        "id": "XrRlUd6Lbdux",
        "outputId": "03566ba1-2ea7-4559-f21e-4ab0d42896b2"
      },
      "execution_count": 7,
      "outputs": [
        {
          "output_type": "display_data",
          "data": {
            "text/plain": [
              "<Figure size 640x480 with 1 Axes>"
            ],
            "image/png": "[encoded data removed]"
          },
          "metadata": {}
        }
      ]
    },
    {
      "cell_type": "code",
      "source": [
        "#4).  How do you calculate the correlation matrix using Seaborn and visualize it with a heatmap?"
      ],
      "metadata": {
        "id": "DUInqenybmeG"
      },
      "execution_count": 8,
      "outputs": []
    },
    {
      "cell_type": "code",
      "source": [
        "import pandas as pd\n",
        "import seaborn as sns\n",
        "import matplotlib.pyplot as plt\n",
        "\n",
        "\n",
        "data = {\n",
        "    'A': [1, 2, 3, 4, 5],\n",
        "    'B': [5, 4, 3, 2, 1],\n",
        "    'C': [2, 3, 4, 5, 6],\n",
        "    'D': [6, 7, 8, 9, 10]\n",
        "}\n",
        "\n",
        "df = pd.DataFrame(data)\n",
        "\n",
        "\n",
        "corr_matrix = df.corr()\n",
        "\n",
        "\n",
        "plt.figure(figsize=(8, 6))\n",
        "sns.heatmap(corr_matrix, annot=True, cmap='coolwarm', fmt='.2f', linewidths=0.5)\n",
        "\n",
        "\n",
        "plt.title(\"Correlation Matrix Heatmap\")\n",
        "\n",
        "\n",
        "plt.show()\n"
      ],
      "metadata": {
        "colab": {
          "base_uri": "https://localhost:8080/",
          "height": 545
        },
        "id": "_nLHmM7sbs4r",
        "outputId": "2c8a3d3a-ddfb-4f18-b30f-2692f1bcd8bf"
      },
      "execution_count": 9,
      "outputs": [
        {
          "output_type": "display_data",
          "data": {
            "text/plain": [
              "<Figure size 800x600 with 2 Axes>"
            ],
            "image/png": "[encoded data removed]"
          },
          "metadata": {}
        }
      ]
    },
    {
      "cell_type": "code",
      "source": [
        "#5). Generate a bar plot using Plotly?"
      ],
      "metadata": {
        "id": "6XiBI6VTcFUV"
      },
      "execution_count": 10,
      "outputs": []
    },
    {
      "cell_type": "code",
      "source": [
        "import plotly.express as px\n",
        "\n",
        "\n",
        "data = {\n",
        "    'Category': ['A', 'B', 'C', 'D', 'E'],\n",
        "    'Values': [10, 15, 7, 25, 18]\n",
        "}\n",
        "\n",
        "\n",
        "import pandas as pd\n",
        "df = pd.DataFrame(data)\n",
        "\n",
        "\n",
        "fig = px.bar(df, x='Category', y='Values', title=\"Bar Plot Example\")\n",
        "\n",
        "\n",
        "fig.show()\n"
      ],
      "metadata": {
        "colab": {
          "base_uri": "https://localhost:8080/",
          "height": 542
        },
        "id": "WVkC-5DkczjC",
        "outputId": "207eb494-8302-4030-cffa-9cda0d6aa455"
      },
      "execution_count": 11,
      "outputs": [
        {
          "output_type": "display_data",
          "data": {
            "text/html": [
              "<html>\n",
              "<head><meta charset=\"utf-8\" /></head>\n",
              "<body>\n",
              "    <div>            <script src=\"https://cdnjs.cloudflare.com/ajax/libs/mathjax/2.7.5/MathJax.js?config=TeX-AMS-MML_SVG\"></script><script type=\"text/javascript\">if (window.MathJax && window.MathJax.Hub && window.MathJax.Hub.Config) {window.MathJax.Hub.Config({SVG: {font: \"STIX-Web\"}});}</script>                <script type=\"text/javascript\">window.PlotlyConfig = {MathJaxConfig: 'local'};</script>\n",
              "        <script charset=\"utf-8\" src=\"https://cdn.plot.ly/plotly-2.35.2.min.js\"></script>                <div id=\"40d7e8d6-18ef-48c0-973b-08594cc97e35\" class=\"plotly-graph-div\" style=\"height:525px; width:100%;\"></div>            <script type=\"text/javascript\">                                    window.PLOTLYENV=window.PLOTLYENV || {};                                    if (document.getElementById(\"40d7e8d6-18ef-48c0-973b-08594cc97e35\")) {                    Plotly.newPlot(                        \"40d7e8d6-18ef-48c0-973b-08594cc97e35\",                        [{\"alignmentgroup\":\"True\",\"hovertemplate\":\"Category=%{x}\\u003cbr\\u003eValues=%{y}\\u003cextra\\u003e\\u003c\\u002fextra\\u003e\",\"legendgroup\":\"\",\"marker\":{\"color\":\"#636efa\",\"pattern\":{\"shape\":\"\"}},\"name\":\"\",\"offsetgroup\":\"\",\"orientation\":\"v\",\"showlegend\":false,\"textposition\":\"auto\",\"x\":[\"A\",\"B\",\"C\",\"D\",\"E\"],\"xaxis\":\"x\",\"y\":[10,15,7,25,18],\"yaxis\":\"y\",\"type\":\"bar\"}],                        {\"template\":{\"data\":{\"histogram2dcontour\":[{\"type\":\"histogram2dcontour\",\"colorbar\":{\"outlinewidth\":0,\"ticks\":\"\"},\"colorscale\":[[0.0,\"#0d0887\"],[0.1111111111111111,\"#46039f\"],[0.2222222222222222,\"#7201a8\"],[0.3333333333333333,\"#9c179e\"],[0.4444444444444444,\"#bd3786\"],[0.5555555555555556,\"#d8576b\"],[0.6666666666666666,\"#ed7953\"],[0.7777777777777778,\"#fb9f3a\"],[0.8888888888888888,\"#fdca26\"],[1.0,\"#f0f921\"]]}],\"choropleth\":[{\"type\":\"choropleth\",\"colorbar\":{\"outlinewidth\":0,\"ticks\":\"\"}}],\"histogram2d\":[{\"type\":\"histogram2d\",\"colorbar\":{\"outlinewidth\":0,\"ticks\":\"\"},\"colorscale\":[[0.0,\"#0d0887\"],[0.1111111111111111,\"#46039f\"],[0.2222222222222222,\"#7201a8\"],[0.3333333333333333,\"#9c179e\"],[0.4444444444444444,\"#bd3786\"],[0.5555555555555556,\"#d8576b\"],[0.6666666666666666,\"#ed7953\"],[0.7777777777777778,\"#fb9f3a\"],[0.8888888888888888,\"#fdca26\"],[1.0,\"#f0f921\"]]}],\"heatmap\":[{\"type\":\"heatmap\",\"colorbar\":{\"outlinewidth\":0,\"ticks\":\"\"},\"colorscale\":[[0.0,\"#0d0887\"],[0.1111111111111111,\"#46039f\"],[0.2222222222222222,\"#7201a8\"],[0.3333333333333333,\"#9c179e\"],[0.4444444444444444,\"#bd3786\"],[0.5555555555555556,\"#d8576b\"],[0.6666666666666666,\"#ed7953\"],[0.7777777777777778,\"#fb9f3a\"],[0.8888888888888888,\"#fdca26\"],[1.0,\"#f0f921\"]]}],\"heatmapgl\":[{\"type\":\"heatmapgl\",\"colorbar\":{\"outlinewidth\":0,\"ticks\":\"\"},\"colorscale\":[[0.0,\"#0d0887\"],[0.1111111111111111,\"#46039f\"],[0.2222222222222222,\"#7201a8\"],[0.3333333333333333,\"#9c179e\"],[0.4444444444444444,\"#bd3786\"],[0.5555555555555556,\"#d8576b\"],[0.6666666666666666,\"#ed7953\"],[0.7777777777777778,\"#fb9f3a\"],[0.8888888888888888,\"#fdca26\"],[1.0,\"#f0f921\"]]}],\"contourcarpet\":[{\"type\":\"contourcarpet\",\"colorbar\":{\"outlinewidth\":0,\"ticks\":\"\"}}],\"contour\":[{\"type\":\"contour\",\"colorbar\":{\"outlinewidth\":0,\"ticks\":\"\"},\"colorscale\":[[0.0,\"#0d0887\"],[0.1111111111111111,\"#46039f\"],[0.2222222222222222,\"#7201a8\"],[0.3333333333333333,\"#9c179e\"],[0.4444444444444444,\"#bd3786\"],[0.5555555555555556,\"#d8576b\"],[0.6666666666666666,\"#ed7953\"],[0.7777777777777778,\"#fb9f3a\"],[0.8888888888888888,\"#fdca26\"],[1.0,\"#f0f921\"]]}],\"surface\":[{\"type\":\"surface\",\"colorbar\":{\"outlinewidth\":0,\"ticks\":\"\"},\"colorscale\":[[0.0,\"#0d0887\"],[0.1111111111111111,\"#46039f\"],[0.2222222222222222,\"#7201a8\"],[0.3333333333333333,\"#9c179e\"],[0.4444444444444444,\"#bd3786\"],[0.5555555555555556,\"#d8576b\"],[0.6666666666666666,\"#ed7953\"],[0.7777777777777778,\"#fb9f3a\"],[0.8888888888888888,\"#fdca26\"],[1.0,\"#f0f921\"]]}],\"mesh3d\":[{\"type\":\"mesh3d\",\"colorbar\":{\"outlinewidth\":0,\"ticks\":\"\"}}],\"scatter\":[{\"fillpattern\":{\"fillmode\":\"overlay\",\"size\":10,\"solidity\":0.2},\"type\":\"scatter\"}],\"parcoords\":[{\"type\":\"parcoords\",\"line\":{\"colorbar\":{\"outlinewidth\":0,\"ticks\":\"\"}}}],\"scatterpolargl\":[{\"type\":\"scatterpolargl\",\"marker\":{\"colorbar\":{\"outlinewidth\":0,\"ticks\":\"\"}}}],\"bar\":[{\"error_x\":{\"color\":\"#2a3f5f\"},\"error_y\":{\"color\":\"#2a3f5f\"},\"marker\":{\"line\":{\"color\":\"#E5ECF6\",\"width\":0.5},\"pattern\":{\"fillmode\":\"overlay\",\"size\":10,\"solidity\":0.2}},\"type\":\"bar\"}],\"scattergeo\":[{\"type\":\"scattergeo\",\"marker\":{\"colorbar\":{\"outlinewidth\":0,\"ticks\":\"\"}}}],\"scatterpolar\":[{\"type\":\"scatterpolar\",\"marker\":{\"colorbar\":{\"outlinewidth\":0,\"ticks\":\"\"}}}],\"histogram\":[{\"marker\":{\"pattern\":{\"fillmode\":\"overlay\",\"size\":10,\"solidity\":0.2}},\"type\":\"histogram\"}],\"scattergl\":[{\"type\":\"scattergl\",\"marker\":{\"colorbar\":{\"outlinewidth\":0,\"ticks\":\"\"}}}],\"scatter3d\":[{\"type\":\"scatter3d\",\"line\":{\"colorbar\":{\"outlinewidth\":0,\"ticks\":\"\"}},\"marker\":{\"colorbar\":{\"outlinewidth\":0,\"ticks\":\"\"}}}],\"scattermapbox\":[{\"type\":\"scattermapbox\",\"marker\":{\"colorbar\":{\"outlinewidth\":0,\"ticks\":\"\"}}}],\"scatterternary\":[{\"type\":\"scatterternary\",\"marker\":{\"colorbar\":{\"outlinewidth\":0,\"ticks\":\"\"}}}],\"scattercarpet\":[{\"type\":\"scattercarpet\",\"marker\":{\"colorbar\":{\"outlinewidth\":0,\"ticks\":\"\"}}}],\"carpet\":[{\"aaxis\":{\"endlinecolor\":\"#2a3f5f\",\"gridcolor\":\"white\",\"linecolor\":\"white\",\"minorgridcolor\":\"white\",\"startlinecolor\":\"#2a3f5f\"},\"baxis\":{\"endlinecolor\":\"#2a3f5f\",\"gridcolor\":\"white\",\"linecolor\":\"white\",\"minorgridcolor\":\"white\",\"startlinecolor\":\"#2a3f5f\"},\"type\":\"carpet\"}],\"table\":[{\"cells\":{\"fill\":{\"color\":\"#EBF0F8\"},\"line\":{\"color\":\"white\"}},\"header\":{\"fill\":{\"color\":\"#C8D4E3\"},\"line\":{\"color\":\"white\"}},\"type\":\"table\"}],\"barpolar\":[{\"marker\":{\"line\":{\"color\":\"#E5ECF6\",\"width\":0.5},\"pattern\":{\"fillmode\":\"overlay\",\"size\":10,\"solidity\":0.2}},\"type\":\"barpolar\"}],\"pie\":[{\"automargin\":true,\"type\":\"pie\"}]},\"layout\":{\"autotypenumbers\":\"strict\",\"colorway\":[\"#636efa\",\"#EF553B\",\"#00cc96\",\"#ab63fa\",\"#FFA15A\",\"#19d3f3\",\"#FF6692\",\"#B6E880\",\"#FF97FF\",\"#FECB52\"],\"font\":{\"color\":\"#2a3f5f\"},\"hovermode\":\"closest\",\"hoverlabel\":{\"align\":\"left\"},\"paper_bgcolor\":\"white\",\"plot_bgcolor\":\"#E5ECF6\",\"polar\":{\"bgcolor\":\"#E5ECF6\",\"angularaxis\":{\"gridcolor\":\"white\",\"linecolor\":\"white\",\"ticks\":\"\"},\"radialaxis\":{\"gridcolor\":\"white\",\"linecolor\":\"white\",\"ticks\":\"\"}},\"ternary\":{\"bgcolor\":\"#E5ECF6\",\"aaxis\":{\"gridcolor\":\"white\",\"linecolor\":\"white\",\"ticks\":\"\"},\"baxis\":{\"gridcolor\":\"white\",\"linecolor\":\"white\",\"ticks\":\"\"},\"caxis\":{\"gridcolor\":\"white\",\"linecolor\":\"white\",\"ticks\":\"\"}},\"coloraxis\":{\"colorbar\":{\"outlinewidth\":0,\"ticks\":\"\"}},\"colorscale\":{\"sequential\":[[0.0,\"#0d0887\"],[0.1111111111111111,\"#46039f\"],[0.2222222222222222,\"#7201a8\"],[0.3333333333333333,\"#9c179e\"],[0.4444444444444444,\"#bd3786\"],[0.5555555555555556,\"#d8576b\"],[0.6666666666666666,\"#ed7953\"],[0.7777777777777778,\"#fb9f3a\"],[0.8888888888888888,\"#fdca26\"],[1.0,\"#f0f921\"]],\"sequentialminus\":[[0.0,\"#0d0887\"],[0.1111111111111111,\"#46039f\"],[0.2222222222222222,\"#7201a8\"],[0.3333333333333333,\"#9c179e\"],[0.4444444444444444,\"#bd3786\"],[0.5555555555555556,\"#d8576b\"],[0.6666666666666666,\"#ed7953\"],[0.7777777777777778,\"#fb9f3a\"],[0.8888888888888888,\"#fdca26\"],[1.0,\"#f0f921\"]],\"diverging\":[[0,\"#8e0152\"],[0.1,\"#c51b7d\"],[0.2,\"#de77ae\"],[0.3,\"#f1b6da\"],[0.4,\"#fde0ef\"],[0.5,\"#f7f7f7\"],[0.6,\"#e6f5d0\"],[0.7,\"#b8e186\"],[0.8,\"#7fbc41\"],[0.9,\"#4d9221\"],[1,\"#276419\"]]},\"xaxis\":{\"gridcolor\":\"white\",\"linecolor\":\"white\",\"ticks\":\"\",\"title\":{\"standoff\":15},\"zerolinecolor\":\"white\",\"automargin\":true,\"zerolinewidth\":2},\"yaxis\":{\"gridcolor\":\"white\",\"linecolor\":\"white\",\"ticks\":\"\",\"title\":{\"standoff\":15},\"zerolinecolor\":\"white\",\"automargin\":true,\"zerolinewidth\":2},\"scene\":{\"xaxis\":{\"backgroundcolor\":\"#E5ECF6\",\"gridcolor\":\"white\",\"linecolor\":\"white\",\"showbackground\":true,\"ticks\":\"\",\"zerolinecolor\":\"white\",\"gridwidth\":2},\"yaxis\":{\"backgroundcolor\":\"#E5ECF6\",\"gridcolor\":\"white\",\"linecolor\":\"white\",\"showbackground\":true,\"ticks\":\"\",\"zerolinecolor\":\"white\",\"gridwidth\":2},\"zaxis\":{\"backgroundcolor\":\"#E5ECF6\",\"gridcolor\":\"white\",\"linecolor\":\"white\",\"showbackground\":true,\"ticks\":\"\",\"zerolinecolor\":\"white\",\"gridwidth\":2}},\"shapedefaults\":{\"line\":{\"color\":\"#2a3f5f\"}},\"annotationdefaults\":{\"arrowcolor\":\"#2a3f5f\",\"arrowhead\":0,\"arrowwidth\":1},\"geo\":{\"bgcolor\":\"white\",\"landcolor\":\"#E5ECF6\",\"subunitcolor\":\"white\",\"showland\":true,\"showlakes\":true,\"lakecolor\":\"white\"},\"title\":{\"x\":0.05},\"mapbox\":{\"style\":\"light\"}}},\"xaxis\":{\"anchor\":\"y\",\"domain\":[0.0,1.0],\"title\":{\"text\":\"Category\"}},\"yaxis\":{\"anchor\":\"x\",\"domain\":[0.0,1.0],\"title\":{\"text\":\"Values\"}},\"legend\":{\"tracegroupgap\":0},\"title\":{\"text\":\"Bar Plot Example\"},\"barmode\":\"relative\"},                        {\"responsive\": true}                    ).then(function(){\n",
              "                            \n",
              "var gd = document.getElementById('40d7e8d6-18ef-48c0-973b-08594cc97e35');\n",
              "var x = new MutationObserver(function (mutations, observer) {{\n",
              "        var display = window.getComputedStyle(gd).display;\n",
              "        if (!display || display === 'none') {{\n",
              "            console.log([gd, 'removed!']);\n",
              "            Plotly.purge(gd);\n",
              "            observer.disconnect();\n",
              "        }}\n",
              "}});\n",
              "\n",
              "// Listen for the removal of the full notebook cells\n",
              "var notebookContainer = gd.closest('#notebook-container');\n",
              "if (notebookContainer) {{\n",
              "    x.observe(notebookContainer, {childList: true});\n",
              "}}\n",
              "\n",
              "// Listen for the clearing of the current output cell\n",
              "var outputEl = gd.closest('.output');\n",
              "if (outputEl) {{\n",
              "    x.observe(outputEl, {childList: true});\n",
              "}}\n",
              "\n",
              "                        })                };                            </script>        </div>\n",
              "</body>\n",
              "</html>"
            ]
          },
          "metadata": {}
        }
      ]
    },
    {
      "cell_type": "code",
      "source": [
        "#6). Create a DataFrame and add a new column based on an existing column?"
      ],
      "metadata": {
        "id": "TvjFsPF2c4ma"
      },
      "execution_count": 12,
      "outputs": []
    },
    {
      "cell_type": "code",
      "source": [
        "import pandas as pd\n",
        "\n",
        "\n",
        "data = {\n",
        "    'Name': ['Alice', 'Bob', 'Charlie', 'David', 'Eve'],\n",
        "    'Age': [25, 30, 35, 40, 45],\n",
        "    'Salary': [50000, 60000, 70000, 80000, 90000]\n",
        "}\n",
        "\n",
        "df = pd.DataFrame(data)\n",
        "\n",
        "\n",
        "df['Age_Group'] = df['Age'].apply(lambda x: 'Youth' if x < 30 else 'Adult')\n",
        "\n",
        "\n",
        "print(df)\n"
      ],
      "metadata": {
        "colab": {
          "base_uri": "https://localhost:8080/"
        },
        "id": "j3ftKyX_dF-b",
        "outputId": "1341fc19-2c82-4f27-bdfb-604f50efef19"
      },
      "execution_count": 13,
      "outputs": [
        {
          "output_type": "stream",
          "name": "stdout",
          "text": [
            "      Name  Age  Salary Age_Group\n",
            "0    Alice   25   50000     Youth\n",
            "1      Bob   30   60000     Adult\n",
            "2  Charlie   35   70000     Adult\n",
            "3    David   40   80000     Adult\n",
            "4      Eve   45   90000     Adult\n"
          ]
        }
      ]
    },
    {
      "cell_type": "code",
      "source": [
        "#7).Write a program to perform element-wise multiplication of two NumPy arrays?"
      ],
      "metadata": {
        "id": "MMg6jcvBd4YA"
      },
      "execution_count": 14,
      "outputs": []
    },
    {
      "cell_type": "code",
      "source": [
        "import numpy as np\n",
        "\n",
        "\n",
        "array1 = np.array([1, 2, 3, 4])\n",
        "array2 = np.array([5, 6, 7, 8])\n",
        "\n",
        "\n",
        "result = array1 * array2\n",
        "\n",
        "\n",
        "print(\"Element-wise multiplication result:\", result)\n"
      ],
      "metadata": {
        "colab": {
          "base_uri": "https://localhost:8080/"
        },
        "id": "gZ_WvEdNeYRS",
        "outputId": "b5f8d6d3-c941-48a5-d8a9-3b931420cb9f"
      },
      "execution_count": 15,
      "outputs": [
        {
          "output_type": "stream",
          "name": "stdout",
          "text": [
            "Element-wise multiplication result: [ 5 12 21 32]\n"
          ]
        }
      ]
    },
    {
      "cell_type": "code",
      "source": [
        "#8). Create a line plot with multiple lines using Matplotlib?"
      ],
      "metadata": {
        "id": "3tnND_1BegCb"
      },
      "execution_count": 16,
      "outputs": []
    },
    {
      "cell_type": "code",
      "source": [
        "import matplotlib.pyplot as plt\n",
        "\n",
        "\n",
        "x = [1, 2, 3, 4, 5]\n",
        "y1 = [1, 4, 9, 16, 25]\n",
        "y2 = [1, 2, 3, 4, 5]\n",
        "y3 = [25, 20, 15, 10, 5]\n",
        "\n",
        "\n",
        "plt.plot(x, y1, label='y = x^2', color='blue')\n",
        "plt.plot(x, y2, label='y = x', color='green')\n",
        "plt.plot(x, y3, label='y = 30 - x', color='red')\n",
        "\n",
        "\n",
        "plt.title(\"Multiple Lines Plot\")\n",
        "plt.xlabel(\"X Axis\")\n",
        "plt.ylabel(\"Y Axis\")\n",
        "\n",
        "\n",
        "plt.legend()\n",
        "\n",
        "\n",
        "plt.show()\n"
      ],
      "metadata": {
        "colab": {
          "base_uri": "https://localhost:8080/",
          "height": 472
        },
        "id": "snZQzP7LfS9L",
        "outputId": "bafcbbf3-689e-4dae-8b4f-56044f21320d"
      },
      "execution_count": 17,
      "outputs": [
        {
          "output_type": "display_data",
          "data": {
            "text/plain": [
              "<Figure size 640x480 with 1 Axes>"
            ],
            "image/png": "[encoded data removed]"
          },
          "metadata": {}
        }
      ]
    },
    {
      "cell_type": "code",
      "source": [
        "#9). Generate a Pandas DataFrame and filter rows where a column value is greater than a threshold?\n"
      ],
      "metadata": {
        "id": "KKQgcIe2fZ6o"
      },
      "execution_count": 18,
      "outputs": []
    },
    {
      "cell_type": "code",
      "source": [
        "import pandas as pd\n",
        "\n",
        "\n",
        "data = {\n",
        "    'Name': ['Alice', 'Bob', 'Charlie', 'David', 'Eve'],\n",
        "    'Age': [25, 30, 35, 40, 45],\n",
        "    'Salary': [50000, 60000, 70000, 80000, 90000]\n",
        "}\n",
        "\n",
        "df = pd.DataFrame(data)\n",
        "\n",
        "\n",
        "salary_threshold = 70000\n",
        "\n",
        "\n",
        "filtered_df = df[df['Salary'] > salary_threshold]\n",
        "\n",
        "\n",
        "print(filtered_df)\n"
      ],
      "metadata": {
        "colab": {
          "base_uri": "https://localhost:8080/"
        },
        "id": "CsYZPj8Xfiwl",
        "outputId": "e740bfd7-3d59-4190-d521-9d680b9da428"
      },
      "execution_count": 19,
      "outputs": [
        {
          "output_type": "stream",
          "name": "stdout",
          "text": [
            "    Name  Age  Salary\n",
            "3  David   40   80000\n",
            "4    Eve   45   90000\n"
          ]
        }
      ]
    },
    {
      "cell_type": "code",
      "source": [
        "#10). Create a histogram using Seaborn to visualize a distribution?"
      ],
      "metadata": {
        "id": "U9OG1L1afwBz"
      },
      "execution_count": 20,
      "outputs": []
    },
    {
      "cell_type": "code",
      "source": [
        "import seaborn as sns\n",
        "import matplotlib.pyplot as plt\n",
        "\n",
        "\n",
        "data = [1, 2, 2, 3, 3, 3, 4, 4, 4, 4, 5, 5, 5, 5, 5]\n",
        "\n",
        "\n",
        "sns.histplot(data, bins=5, kde=True, color='blue')\n",
        "\n",
        "\n",
        "plt.title('Histogram of Data Distribution')\n",
        "plt.xlabel('Values')\n",
        "plt.ylabel('Frequency')\n",
        "\n",
        "plt.show()\n"
      ],
      "metadata": {
        "colab": {
          "base_uri": "https://localhost:8080/",
          "height": 472
        },
        "id": "ncIGjz38gEMy",
        "outputId": "aedacb26-b824-4ac7-b408-48180ff53e2a"
      },
      "execution_count": 21,
      "outputs": [
        {
          "output_type": "display_data",
          "data": {
            "text/plain": [
              "<Figure size 640x480 with 1 Axes>"
            ],
            "image/png": "[encoded data removed]"
          },
          "metadata": {}
        }
      ]
    },
    {
      "cell_type": "code",
      "source": [
        "#11). Perform matrix multiplication using NumPy?"
      ],
      "metadata": {
        "id": "XgWdiklmgFbp"
      },
      "execution_count": 22,
      "outputs": []
    },
    {
      "cell_type": "code",
      "source": [
        "import numpy as np\n",
        "\n",
        "\n",
        "matrix1 = np.array([[1, 2], [3, 4]])\n",
        "matrix2 = np.array([[5, 6], [7, 8]])\n",
        "\n",
        "\n",
        "result = np.dot(matrix1, matrix2)\n",
        "\n",
        "\n",
        "print(\"Matrix 1:\")\n",
        "print(matrix1)\n",
        "\n",
        "print(\"\\nMatrix 2:\")\n",
        "print(matrix2)\n",
        "\n",
        "print(\"\\nMatrix Multiplication Result:\")\n",
        "print(result)\n"
      ],
      "metadata": {
        "colab": {
          "base_uri": "https://localhost:8080/"
        },
        "id": "rXtWFm_KgQ9f",
        "outputId": "d1afc8d3-85ae-4824-9e1d-bd29299f3abd"
      },
      "execution_count": 23,
      "outputs": [
        {
          "output_type": "stream",
          "name": "stdout",
          "text": [
            "Matrix 1:\n",
            "[[1 2]\n",
            " [3 4]]\n",
            "\n",
            "Matrix 2:\n",
            "[[5 6]\n",
            " [7 8]]\n",
            "\n",
            "Matrix Multiplication Result:\n",
            "[[19 22]\n",
            " [43 50]]\n"
          ]
        }
      ]
    },
    {
      "cell_type": "code",
      "source": [
        "#12).  Use Pandas to load a CSV file and display its first 5 rows?"
      ],
      "metadata": {
        "id": "r28NOeZ2gg28"
      },
      "execution_count": 24,
      "outputs": []
    },
    {
      "cell_type": "code",
      "source": [
        "import pandas as pd\n",
        "\n",
        "\n",
        "df = pd.read_csv('abc.csv')\n",
        "print(df.head())\n"
      ],
      "metadata": {
        "id": "SZ24BsY0guCk"
      },
      "execution_count": 25,
      "outputs": []
    },
    {
      "cell_type": "code",
      "source": [
        "#13). Create a 3D scatter plot using Plotly?"
      ],
      "metadata": {
        "id": "ZA8m4rrFg0HJ"
      },
      "execution_count": 26,
      "outputs": []
    },
    {
      "cell_type": "code",
      "source": [
        "import plotly.express as px\n",
        "import pandas as pd\n",
        "\n",
        "\n",
        "data = {\n",
        "    'x': [1, 2, 3, 4, 5],\n",
        "    'y': [5, 4, 3, 2, 1],\n",
        "    'z': [1, 2, 3, 4, 5]\n",
        "}\n",
        "\n",
        "\n",
        "df = pd.DataFrame(data)\n",
        "\n",
        "\n",
        "fig = px.scatter_3d(df, x='x', y='y', z='z', title=\"3D Scatter Plot Example\")\n",
        "\n",
        "\n",
        "fig.show()\n"
      ],
      "metadata": {
        "colab": {
          "base_uri": "https://localhost:8080/",
          "height": 542
        },
        "id": "XbiHgwlBhVWO",
        "outputId": "c6d494d5-c0a9-4df1-9ca4-8778b6c0496f"
      },
      "execution_count": 27,
      "outputs": [
        {
          "output_type": "display_data",
          "data": {
            "text/html": [
              "<html>\n",
              "<head><meta charset=\"utf-8\" /></head>\n",
              "<body>\n",
              "    <div>            <script src=\"https://cdnjs.cloudflare.com/ajax/libs/mathjax/2.7.5/MathJax.js?config=TeX-AMS-MML_SVG\"></script><script type=\"text/javascript\">if (window.MathJax && window.MathJax.Hub && window.MathJax.Hub.Config) {window.MathJax.Hub.Config({SVG: {font: \"STIX-Web\"}});}</script>                <script type=\"text/javascript\">window.PlotlyConfig = {MathJaxConfig: 'local'};</script>\n",
              "        <script charset=\"utf-8\" src=\"https://cdn.plot.ly/plotly-2.35.2.min.js\"></script>                <div id=\"78de13d4-afea-49cb-9a3f-a282be5b8b34\" class=\"plotly-graph-div\" style=\"height:525px; width:100%;\"></div>            <script type=\"text/javascript\">                                    window.PLOTLYENV=window.PLOTLYENV || {};                                    if (document.getElementById(\"78de13d4-afea-49cb-9a3f-a282be5b8b34\")) {                    Plotly.newPlot(                        \"78de13d4-afea-49cb-9a3f-a282be5b8b34\",                        [{\"hovertemplate\":\"x=%{x}\\u003cbr\\u003ey=%{y}\\u003cbr\\u003ez=%{z}\\u003cextra\\u003e\\u003c\\u002fextra\\u003e\",\"legendgroup\":\"\",\"marker\":{\"color\":\"#636efa\",\"symbol\":\"circle\"},\"mode\":\"markers\",\"name\":\"\",\"scene\":\"scene\",\"showlegend\":false,\"x\":[1,2,3,4,5],\"y\":[5,4,3,2,1],\"z\":[1,2,3,4,5],\"type\":\"scatter3d\"}],                        {\"template\":{\"data\":{\"histogram2dcontour\":[{\"type\":\"histogram2dcontour\",\"colorbar\":{\"outlinewidth\":0,\"ticks\":\"\"},\"colorscale\":[[0.0,\"#0d0887\"],[0.1111111111111111,\"#46039f\"],[0.2222222222222222,\"#7201a8\"],[0.3333333333333333,\"#9c179e\"],[0.4444444444444444,\"#bd3786\"],[0.5555555555555556,\"#d8576b\"],[0.6666666666666666,\"#ed7953\"],[0.7777777777777778,\"#fb9f3a\"],[0.8888888888888888,\"#fdca26\"],[1.0,\"#f0f921\"]]}],\"choropleth\":[{\"type\":\"choropleth\",\"colorbar\":{\"outlinewidth\":0,\"ticks\":\"\"}}],\"histogram2d\":[{\"type\":\"histogram2d\",\"colorbar\":{\"outlinewidth\":0,\"ticks\":\"\"},\"colorscale\":[[0.0,\"#0d0887\"],[0.1111111111111111,\"#46039f\"],[0.2222222222222222,\"#7201a8\"],[0.3333333333333333,\"#9c179e\"],[0.4444444444444444,\"#bd3786\"],[0.5555555555555556,\"#d8576b\"],[0.6666666666666666,\"#ed7953\"],[0.7777777777777778,\"#fb9f3a\"],[0.8888888888888888,\"#fdca26\"],[1.0,\"#f0f921\"]]}],\"heatmap\":[{\"type\":\"heatmap\",\"colorbar\":{\"outlinewidth\":0,\"ticks\":\"\"},\"colorscale\":[[0.0,\"#0d0887\"],[0.1111111111111111,\"#46039f\"],[0.2222222222222222,\"#7201a8\"],[0.3333333333333333,\"#9c179e\"],[0.4444444444444444,\"#bd3786\"],[0.5555555555555556,\"#d8576b\"],[0.6666666666666666,\"#ed7953\"],[0.7777777777777778,\"#fb9f3a\"],[0.8888888888888888,\"#fdca26\"],[1.0,\"#f0f921\"]]}],\"heatmapgl\":[{\"type\":\"heatmapgl\",\"colorbar\":{\"outlinewidth\":0,\"ticks\":\"\"},\"colorscale\":[[0.0,\"#0d0887\"],[0.1111111111111111,\"#46039f\"],[0.2222222222222222,\"#7201a8\"],[0.3333333333333333,\"#9c179e\"],[0.4444444444444444,\"#bd3786\"],[0.5555555555555556,\"#d8576b\"],[0.6666666666666666,\"#ed7953\"],[0.7777777777777778,\"#fb9f3a\"],[0.8888888888888888,\"#fdca26\"],[1.0,\"#f0f921\"]]}],\"contourcarpet\":[{\"type\":\"contourcarpet\",\"colorbar\":{\"outlinewidth\":0,\"ticks\":\"\"}}],\"contour\":[{\"type\":\"contour\",\"colorbar\":{\"outlinewidth\":0,\"ticks\":\"\"},\"colorscale\":[[0.0,\"#0d0887\"],[0.1111111111111111,\"#46039f\"],[0.2222222222222222,\"#7201a8\"],[0.3333333333333333,\"#9c179e\"],[0.4444444444444444,\"#bd3786\"],[0.5555555555555556,\"#d8576b\"],[0.6666666666666666,\"#ed7953\"],[0.7777777777777778,\"#fb9f3a\"],[0.8888888888888888,\"#fdca26\"],[1.0,\"#f0f921\"]]}],\"surface\":[{\"type\":\"surface\",\"colorbar\":{\"outlinewidth\":0,\"ticks\":\"\"},\"colorscale\":[[0.0,\"#0d0887\"],[0.1111111111111111,\"#46039f\"],[0.2222222222222222,\"#7201a8\"],[0.3333333333333333,\"#9c179e\"],[0.4444444444444444,\"#bd3786\"],[0.5555555555555556,\"#d8576b\"],[0.6666666666666666,\"#ed7953\"],[0.7777777777777778,\"#fb9f3a\"],[0.8888888888888888,\"#fdca26\"],[1.0,\"#f0f921\"]]}],\"mesh3d\":[{\"type\":\"mesh3d\",\"colorbar\":{\"outlinewidth\":0,\"ticks\":\"\"}}],\"scatter\":[{\"fillpattern\":{\"fillmode\":\"overlay\",\"size\":10,\"solidity\":0.2},\"type\":\"scatter\"}],\"parcoords\":[{\"type\":\"parcoords\",\"line\":{\"colorbar\":{\"outlinewidth\":0,\"ticks\":\"\"}}}],\"scatterpolargl\":[{\"type\":\"scatterpolargl\",\"marker\":{\"colorbar\":{\"outlinewidth\":0,\"ticks\":\"\"}}}],\"bar\":[{\"error_x\":{\"color\":\"#2a3f5f\"},\"error_y\":{\"color\":\"#2a3f5f\"},\"marker\":{\"line\":{\"color\":\"#E5ECF6\",\"width\":0.5},\"pattern\":{\"fillmode\":\"overlay\",\"size\":10,\"solidity\":0.2}},\"type\":\"bar\"}],\"scattergeo\":[{\"type\":\"scattergeo\",\"marker\":{\"colorbar\":{\"outlinewidth\":0,\"ticks\":\"\"}}}],\"scatterpolar\":[{\"type\":\"scatterpolar\",\"marker\":{\"colorbar\":{\"outlinewidth\":0,\"ticks\":\"\"}}}],\"histogram\":[{\"marker\":{\"pattern\":{\"fillmode\":\"overlay\",\"size\":10,\"solidity\":0.2}},\"type\":\"histogram\"}],\"scattergl\":[{\"type\":\"scattergl\",\"marker\":{\"colorbar\":{\"outlinewidth\":0,\"ticks\":\"\"}}}],\"scatter3d\":[{\"type\":\"scatter3d\",\"line\":{\"colorbar\":{\"outlinewidth\":0,\"ticks\":\"\"}},\"marker\":{\"colorbar\":{\"outlinewidth\":0,\"ticks\":\"\"}}}],\"scattermapbox\":[{\"type\":\"scattermapbox\",\"marker\":{\"colorbar\":{\"outlinewidth\":0,\"ticks\":\"\"}}}],\"scatterternary\":[{\"type\":\"scatterternary\",\"marker\":{\"colorbar\":{\"outlinewidth\":0,\"ticks\":\"\"}}}],\"scattercarpet\":[{\"type\":\"scattercarpet\",\"marker\":{\"colorbar\":{\"outlinewidth\":0,\"ticks\":\"\"}}}],\"carpet\":[{\"aaxis\":{\"endlinecolor\":\"#2a3f5f\",\"gridcolor\":\"white\",\"linecolor\":\"white\",\"minorgridcolor\":\"white\",\"startlinecolor\":\"#2a3f5f\"},\"baxis\":{\"endlinecolor\":\"#2a3f5f\",\"gridcolor\":\"white\",\"linecolor\":\"white\",\"minorgridcolor\":\"white\",\"startlinecolor\":\"#2a3f5f\"},\"type\":\"carpet\"}],\"table\":[{\"cells\":{\"fill\":{\"color\":\"#EBF0F8\"},\"line\":{\"color\":\"white\"}},\"header\":{\"fill\":{\"color\":\"#C8D4E3\"},\"line\":{\"color\":\"white\"}},\"type\":\"table\"}],\"barpolar\":[{\"marker\":{\"line\":{\"color\":\"#E5ECF6\",\"width\":0.5},\"pattern\":{\"fillmode\":\"overlay\",\"size\":10,\"solidity\":0.2}},\"type\":\"barpolar\"}],\"pie\":[{\"automargin\":true,\"type\":\"pie\"}]},\"layout\":{\"autotypenumbers\":\"strict\",\"colorway\":[\"#636efa\",\"#EF553B\",\"#00cc96\",\"#ab63fa\",\"#FFA15A\",\"#19d3f3\",\"#FF6692\",\"#B6E880\",\"#FF97FF\",\"#FECB52\"],\"font\":{\"color\":\"#2a3f5f\"},\"hovermode\":\"closest\",\"hoverlabel\":{\"align\":\"left\"},\"paper_bgcolor\":\"white\",\"plot_bgcolor\":\"#E5ECF6\",\"polar\":{\"bgcolor\":\"#E5ECF6\",\"angularaxis\":{\"gridcolor\":\"white\",\"linecolor\":\"white\",\"ticks\":\"\"},\"radialaxis\":{\"gridcolor\":\"white\",\"linecolor\":\"white\",\"ticks\":\"\"}},\"ternary\":{\"bgcolor\":\"#E5ECF6\",\"aaxis\":{\"gridcolor\":\"white\",\"linecolor\":\"white\",\"ticks\":\"\"},\"baxis\":{\"gridcolor\":\"white\",\"linecolor\":\"white\",\"ticks\":\"\"},\"caxis\":{\"gridcolor\":\"white\",\"linecolor\":\"white\",\"ticks\":\"\"}},\"coloraxis\":{\"colorbar\":{\"outlinewidth\":0,\"ticks\":\"\"}},\"colorscale\":{\"sequential\":[[0.0,\"#0d0887\"],[0.1111111111111111,\"#46039f\"],[0.2222222222222222,\"#7201a8\"],[0.3333333333333333,\"#9c179e\"],[0.4444444444444444,\"#bd3786\"],[0.5555555555555556,\"#d8576b\"],[0.6666666666666666,\"#ed7953\"],[0.7777777777777778,\"#fb9f3a\"],[0.8888888888888888,\"#fdca26\"],[1.0,\"#f0f921\"]],\"sequentialminus\":[[0.0,\"#0d0887\"],[0.1111111111111111,\"#46039f\"],[0.2222222222222222,\"#7201a8\"],[0.3333333333333333,\"#9c179e\"],[0.4444444444444444,\"#bd3786\"],[0.5555555555555556,\"#d8576b\"],[0.6666666666666666,\"#ed7953\"],[0.7777777777777778,\"#fb9f3a\"],[0.8888888888888888,\"#fdca26\"],[1.0,\"#f0f921\"]],\"diverging\":[[0,\"#8e0152\"],[0.1,\"#c51b7d\"],[0.2,\"#de77ae\"],[0.3,\"#f1b6da\"],[0.4,\"#fde0ef\"],[0.5,\"#f7f7f7\"],[0.6,\"#e6f5d0\"],[0.7,\"#b8e186\"],[0.8,\"#7fbc41\"],[0.9,\"#4d9221\"],[1,\"#276419\"]]},\"xaxis\":{\"gridcolor\":\"white\",\"linecolor\":\"white\",\"ticks\":\"\",\"title\":{\"standoff\":15},\"zerolinecolor\":\"white\",\"automargin\":true,\"zerolinewidth\":2},\"yaxis\":{\"gridcolor\":\"white\",\"linecolor\":\"white\",\"ticks\":\"\",\"title\":{\"standoff\":15},\"zerolinecolor\":\"white\",\"automargin\":true,\"zerolinewidth\":2},\"scene\":{\"xaxis\":{\"backgroundcolor\":\"#E5ECF6\",\"gridcolor\":\"white\",\"linecolor\":\"white\",\"showbackground\":true,\"ticks\":\"\",\"zerolinecolor\":\"white\",\"gridwidth\":2},\"yaxis\":{\"backgroundcolor\":\"#E5ECF6\",\"gridcolor\":\"white\",\"linecolor\":\"white\",\"showbackground\":true,\"ticks\":\"\",\"zerolinecolor\":\"white\",\"gridwidth\":2},\"zaxis\":{\"backgroundcolor\":\"#E5ECF6\",\"gridcolor\":\"white\",\"linecolor\":\"white\",\"showbackground\":true,\"ticks\":\"\",\"zerolinecolor\":\"white\",\"gridwidth\":2}},\"shapedefaults\":{\"line\":{\"color\":\"#2a3f5f\"}},\"annotationdefaults\":{\"arrowcolor\":\"#2a3f5f\",\"arrowhead\":0,\"arrowwidth\":1},\"geo\":{\"bgcolor\":\"white\",\"landcolor\":\"#E5ECF6\",\"subunitcolor\":\"white\",\"showland\":true,\"showlakes\":true,\"lakecolor\":\"white\"},\"title\":{\"x\":0.05},\"mapbox\":{\"style\":\"light\"}}},\"scene\":{\"domain\":{\"x\":[0.0,1.0],\"y\":[0.0,1.0]},\"xaxis\":{\"title\":{\"text\":\"x\"}},\"yaxis\":{\"title\":{\"text\":\"y\"}},\"zaxis\":{\"title\":{\"text\":\"z\"}}},\"legend\":{\"tracegroupgap\":0},\"title\":{\"text\":\"3D Scatter Plot Example\"}},                        {\"responsive\": true}                    ).then(function(){\n",
              "                            \n",
              "var gd = document.getElementById('78de13d4-afea-49cb-9a3f-a282be5b8b34');\n",
              "var x = new MutationObserver(function (mutations, observer) {{\n",
              "        var display = window.getComputedStyle(gd).display;\n",
              "        if (!display || display === 'none') {{\n",
              "            console.log([gd, 'removed!']);\n",
              "            Plotly.purge(gd);\n",
              "            observer.disconnect();\n",
              "        }}\n",
              "}});\n",
              "\n",
              "// Listen for the removal of the full notebook cells\n",
              "var notebookContainer = gd.closest('#notebook-container');\n",
              "if (notebookContainer) {{\n",
              "    x.observe(notebookContainer, {childList: true});\n",
              "}}\n",
              "\n",
              "// Listen for the clearing of the current output cell\n",
              "var outputEl = gd.closest('.output');\n",
              "if (outputEl) {{\n",
              "    x.observe(outputEl, {childList: true});\n",
              "}}\n",
              "\n",
              "                        })                };                            </script>        </div>\n",
              "</body>\n",
              "</html>"
            ]
          },
          "metadata": {}
        }
      ]
    },
    {
      "cell_type": "code",
      "source": [],
      "metadata": {
        "id": "450M8SGChZUe"
      },
      "execution_count": null,
      "outputs": []
    }
  ]
}