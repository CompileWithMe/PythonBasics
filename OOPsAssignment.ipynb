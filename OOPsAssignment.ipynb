{
  "nbformat": 4,
  "nbformat_minor": 0,
  "metadata": {
    "colab": {
      "provenance": []
    },
    "kernelspec": {
      "name": "python3",
      "display_name": "Python 3"
    },
    "language_info": {
      "name": "python"
    }
  },
  "cells": [
    {
      "cell_type": "markdown",
      "source": [
        "##1). What is Object-Oriented Programming(OOPs)?\n",
        "\n",
        "Object-Oriented Programming(OOP) is a programming paradigm based on the concept of objects, which are instances of classes. It allows developers to structure code in a way that models real-world entities and their interactions.\n",
        "OOPs is based on four fundamental principles:\n",
        "\n",
        "1: Encapsulation\n",
        "- Wrapping data(variables) and methods(functions) into a single unit called a class.\n",
        "- Prevents direct access to some parts of an object and only exposes necessary information.\n",
        "\n",
        "2: Abstraction\n",
        "- Hiding implementation details and exposing only essential features.\n",
        "- Achieved using abstract classes and interfaces.\n",
        "\n",
        "3: Inheritance\n",
        "- Allows a class(child) to inherit properties and behavior from another class(parent).\n",
        "- Promotes resuability and reduces code duplication.\n",
        "\n",
        "4: Polymorphism\n",
        "- Allows a single function or method to have multiple implementations.\n",
        "-Achieved through method overloading(same method name, different parameters) and method ovverriding(redefining a method in a subclass).\n",
        "\n",
        "Class: A blueprint for creating objects.\n",
        "Object: An instance of a class with its own attributes and behaviors.\n",
        "Constructor: A special method used to initialize objects.\n",
        "Method: A function defined inside a class that performs a specific action.\n",
        "Attributes: Variables that store object-specific data.\n",
        "\n",
        "# Example\n",
        "class Car:\n",
        "    def __init__(self, brand, model):\n",
        "        self.brand = brand  # Attribute\n",
        "        self.model = model  # Attribute\n",
        "\n",
        "    def display_info(self):  # Method\n",
        "        print(f\"Car: {self.brand} {self.model}\")\n",
        "\n",
        "\n",
        "car1 = Car(\"Toyota\", \"Corolla\")\n",
        "car2 = Car(\"Honda\", \"Civic\")\n",
        "\n",
        "\n",
        "car1.display_info()\n",
        "car2.display_info()\n",
        "\n",
        "##2). What is a class in OOP?\n",
        "\n",
        "A class is Object-Oriented Programming is a blueprint or template for creating objects. It defines properties(attributes) and behaviors(methods) that the objects will have.\n",
        "\n",
        "Example:\n",
        "\n",
        "class Bike:\n",
        "  def __init__(self,brand,model):\n",
        "    self.brand = brand\n",
        "    self.model = model\n",
        "\n",
        "  def display_info(self):\n",
        "    print(f\"Bike: {self.brand} {self.model}\")\n",
        "#Object creation\n",
        "bike1 = Bike(\"Royal-Enfield\", \"Classic\")\n",
        "bike1.display_info()  \n",
        "\n",
        "##3). What is an object in OOP?\n",
        "\n",
        "An object in Object-Oriented Programming(OOP) is an instance of a class. It has its own attributes(data) and methods(functions) that define its behavior.\n",
        "Example:\n",
        "class Car:\n",
        "  def __init__(self,brand):\n",
        "    self.brand = brand\n",
        "  def display_info(self):\n",
        "    print(f\"Car {self.brand}\")\n",
        "\n",
        "#object creation\n",
        "car1 = Car(\"Audi\")\n",
        "\n",
        "car1.display_info()\n",
        "\n",
        "# Here, car1 is object of the Car class.\n",
        "\n",
        "##4). what is the difference between abstraction and encapsulation?\n",
        "\n",
        "Abstraction: Hiding implementation details and showing only the necessary features.\n",
        "Focuses on what an object does, not how it does it.\n",
        "Achieved using abstract classes and interfaces.\n",
        "A Car's dashboard hides the engine's complexity and only shows essential controls.\n",
        "\n",
        "Encapsulation: Wrapping data and methods into a single unit and restricting direct access.\n",
        "Focusses on hiding data to protect it from unintended modification.\n",
        "Achieved using access modifiers(private, protected, public).\n",
        "The car's engine is hidden inside, and access is controlled through methods like start_engine().\n",
        "\n",
        "#Abstraction(Using Abstract Class\n",
        "\n",
        "from abc import ABC, abstractmethod\n",
        "\n",
        "class Vehicle(ABC):\n",
        "  def __init__(self,brand):\n",
        "    self.brand = brand\n",
        "\n",
        "  @abstractmethod\n",
        "  def start(self):\n",
        "    pass\n",
        "\n",
        "  @abstractmethod\n",
        "  def stop(self):\n",
        "    pass\n",
        "\n",
        "#Encapsulation(Using Private Variables)\n",
        "\n",
        "class Car:\n",
        "  def __init__(self, brand):\n",
        "    self.__brand = brand\n",
        "\n",
        "  def get_brand(self):\n",
        "    return self.__brand\n",
        "\n",
        "car = Car(\"Tata\")\n",
        "print(car.get_brand())\n",
        "\n",
        "\n",
        "Abstraction- Hides unnecessary details and shows only essential features.\n",
        "\n",
        "Encapsulation- Restricts direct access to data and protects it.\n",
        "\n",
        "##5). What are dunder methods in Python?\n",
        "\n",
        "Dunder methods (short for double underscore methods) are special methods in Python that start and end with double underscores (__). They are also called magic methods because they enable built-in behaviors for classes, like initialization, addition, and string representation.\n",
        "\n",
        "_init__\tInitializes an object (constructor).\n",
        "__str__\tReturns a user-friendly string representation of an object.\n",
        "__repr__\tReturns an official string representation of an object.\n",
        "__len__\tDefines behavior for len() function.\n",
        "__add__\tDefines behavior for + operator.\n",
        "__eq__\tDefines behavior for == operator.\n",
        "\n",
        "class Car:\n",
        "    def __init__(self, brand, model):\n",
        "        self.brand = brand\n",
        "        self.model = model\n",
        "\n",
        "    def __str__(self):\n",
        "        return f\"{self.brand} {self.model}\"  # User-friendly string\n",
        "\n",
        "    def __add__(self, other):\n",
        "        return f\"Combination: {self.brand} & {other.brand}\"\n",
        "\n",
        "car1 = Car(\"Toyota\", \"Corolla\")\n",
        "car2 = Car(\"Honda\", \"Civic\")\n",
        "\n",
        "print(car1)         # Calls __str__ → Output: Toyota Corolla\n",
        "print(car1 + car2)  # Calls __add__ → Output: Combination: Toyota & Honda\n",
        "\n",
        "\n",
        "##6). Explain the concept of inheritance in OOP ?\n",
        "\n",
        "Inheritance is an OOP concept that allows one class(child/deribed class) to inherit properties and methods from another class(parent/base class). It promotes code reusability and hierarchical relationships between classes.\n",
        "\n",
        "Types of Inheritance\n",
        "\n",
        "1. Single Inheritance- One child inherits from one parent.\n",
        "2. Multiple Inheritance- A child inherits from multiple parents.\n",
        "3. Multilevel Inheritane- A child inherits from a parent, which itself inherits from another parent.\n",
        "4. Hierarchical Inheritane- Multiple children inherit from one parent.\n",
        "5. Hybrid Inheritance- A combination of two or more types of inheritance.\n",
        "\n",
        "example: single inheritane\n",
        "\n",
        "class Vehicle:\n",
        "    def __init__(self, brand):\n",
        "      self.brand = brand\n",
        "    def show_brand(self):\n",
        "      print(f\"Brand: {self.brand}\")\n",
        "\n",
        "class Car(Vehicle):\n",
        "  def __init__(self, brand, model):\n",
        "    super().__init__(brand)\n",
        "    self.model = model\n",
        "\n",
        "  def show_model(self):\n",
        "    print(f\"Model: {self.model}\")\n",
        "    print(f\"Brand: {self.brand}\")\n",
        "\n",
        "car = Car(\"Toyota\", \"Corolla\")\n",
        "car.show_brand()\n",
        "car.show_model()\n",
        "\n",
        "Example: multiple inheritance\n",
        "\n",
        "#multiple inheritance\n",
        "\n",
        "class Vehicle:\n",
        "  def __init__(self,brand):\n",
        "    self.brand = brand\n",
        "  def show_brand(self):\n",
        "    print(f\"Brand: {self.brand}\")\n",
        "\n",
        "class Engine:\n",
        "  def __init__(self,engine_type):\n",
        "    self.engine_type = engine_type\n",
        "  def show_engine(self):\n",
        "    print(f\"Engine: {self.engine_type}\")\n",
        "\n",
        "class Car(Vehicle,Engine):\n",
        "  def __init__(self,brand,model,engine_type):\n",
        "    Vehicle.__init__(self,brand)\n",
        "    Engine.__init__(self,engine_type)\n",
        "    self.model = model\n",
        "\n",
        "  def show_model(self):\n",
        "    print(f\"Model: {self.model}\")\n",
        "\n",
        "car = Car(\"Toyota\",\"Corolla\",\"Petrol\")\n",
        "car.show_brand()\n",
        "car.show_engine()\n",
        "car.show_model()\n",
        "\n",
        "##7).What is polymorphism in OOP?\n",
        "\n",
        "Polymorphism in OOP is the ability of different classes to be treated as instances of the same class through a common interface.It allows methods to have different implementations based on the object calling them.\n",
        "\n",
        "Types of Polymorphism:\n",
        "\n",
        "1. Compile time Polymorphism(Method overloading)- Multiple methods with the same name but different parameters in the same class.\n",
        "\n",
        "2. Runtime Polymorphism(Method Overriding)- A subclass provides a specific implementation of a method defined in its parent class.\n",
        "\n",
        "example:\n",
        "\n",
        "class Animal:\n",
        "  def speak(self):\n",
        "    return \"Some sound\"\n",
        "\n",
        "class Dog(Animal):\n",
        "  def speak(self):\n",
        "    return \"Bark\"\n",
        "\n",
        "class Cat(Animal)    :\n",
        "  def speak(self):\n",
        "    return \"Meow\"\n",
        "\n",
        "animals = [Dog(),Cat()]\n",
        "for animal in animals:\n",
        "  print(animal.speak())\n",
        "\n",
        "##8). How is encapsulation achieved in Python?\n",
        "\n",
        "Encapsulation in Python is achieved using access specifiers to restrict direct access to data and methods within a class. It helps in data hiding and ensures controlled access through getters and setters.\n",
        "\n",
        "Ways:\n",
        "\n",
        "1. Public Members - Accessible from anywhere.\n",
        "2. Protected Members(_variable)- Indicated by a single underscore(_), meant to be accessed only within the class and its subclasses.\n",
        "\n",
        "example:\n",
        "\n",
        "class Person:\n",
        "  def __init__(self,name,age):\n",
        "    self.name = name   #Public\n",
        "    self._age = age    #Protected\n",
        "    self.__salary = 50000     #Private\n",
        "\n",
        "  def get_salary(self):  # Getter for private attribute\n",
        "    return self.__salary\n",
        "\n",
        "p = Person(\"Prashant\",36)\n",
        "print(p.name)\n",
        "print(p._age)\n",
        "print(p.get_salary())\n",
        "\n",
        "Encapsulation ensures data security and prevents unintended modifications.\n",
        "\n",
        "##9). What is a constructor in Python?\n",
        "\n",
        "A constructor in Python is a special method named __init__() that is automatically called when a new object of a class is created.It is used to initialize the object's attributes.\n",
        "\n",
        "example:\n",
        "\n",
        "class Person:\n",
        "  def __init__(self,name,age): #constructor\n",
        "    self.name = name\n",
        "    self.age = age\n",
        "\n",
        "    \n",
        "\n",
        "p = Person(\"Prashant\",36)\n",
        "print(p.name)\n",
        "print(p.age)\n",
        "\n",
        "Output:\n",
        "Prashant\n",
        "36\n",
        "- Automatically invoked when an object is instantiated.\n",
        "-Used to initialize attributes of the class.\n",
        "- Can take parameters to set values for different objects.\n",
        "\n",
        "##10). What are class and static methods in Python?\n",
        "\n",
        "Class Method(@classMethod)\n",
        "-works with the class rather than instance.\n",
        "-Uses cls as the first parameter to access class-level attributes.\n",
        "-Defined using @classmethod decorator.\n",
        "\n",
        "class Person:\n",
        "    count = 0  # Class attribute\n",
        "\n",
        "    def __init__(self, name):\n",
        "        self.name = name\n",
        "        Person.count += 1\n",
        "\n",
        "    @classmethod\n",
        "    def get_count(cls):  # Class method\n",
        "        return cls.count\n",
        "\n",
        "print(Person.get_count())  # ✅ Access without an instance\n",
        "\n",
        "\n",
        "Static Method (@staticmethod)\n",
        "Does not depend on the class or instance.\n",
        "No self or cls parameter.\n",
        "Used for utility/helper functions inside a class.\n",
        "Defined using @staticmethod decorator.\n",
        "\n",
        "class MathUtils:\n",
        "    @staticmethod\n",
        "    def add(a, b):  # Static method\n",
        "        return a + b\n",
        "\n",
        "print(MathUtils.add(5, 3))  # ✅ Access without an instance\n",
        "\n",
        "##11). What is method overloading in Python?\n",
        "\n",
        "Method overloading in Python refers to defining multiple methods with the same name but different parameters. However, unlike other languages like Java, Python does not support traditional method overloading based on different parameter lists. Instead, Python achieves method overloading using default arguments or variable-length arguments (*args and **kwargs) to handle multiple use cases within a single method.\n",
        "\n",
        "Example:\n",
        "\n",
        "class Example:\n",
        "    def display(self, a=None, b=None):\n",
        "        if a is not None and b is not None:\n",
        "            print(f\"Two arguments: {a}, {b}\")\n",
        "        elif a is not None:\n",
        "            print(f\"One argument: {a}\")\n",
        "        else:\n",
        "            print(\"No arguments\")\n",
        "\n",
        "obj = Example()\n",
        "obj.display()         # No arguments\n",
        "obj.display(10)       # One argument: 10\n",
        "obj.display(10, 20)   # Two arguments: 10, 20\n",
        "\n",
        "##12). What is method overriding in OOP?\n",
        "\n",
        "Method overriding is a feature in Object-Oriented Programming (OOP) where a subclass provides a specific implementation of a method that is already defined in its superclass. The overridden method in the subclass must have the same name, parameters, and return type as the method in the parent class.\n",
        "\n",
        "Key Points:\n",
        "It allows a subclass to provide a customized behavior while keeping the method signature the same.\n",
        "It enables runtime polymorphism (method resolution happens at runtime).\n",
        "The super() function is often used to call the parent class’s method inside the overridden method.\n",
        "\n",
        "example:\n",
        "\n",
        "class Parent:\n",
        "    def show(self):\n",
        "        print(\"This is the Parent class method\")\n",
        "\n",
        "class Child(Parent):\n",
        "    def show(self):  # Overriding the Parent class method\n",
        "        print(\"This is the Child class method\")\n",
        "\n",
        "\n",
        "obj1 = Parent()\n",
        "obj2 = Child()\n",
        "\n",
        "obj1.show()  # Output: This is the Parent class method\n",
        "obj2.show()  # Output: This is the Child class method\n",
        "\n",
        "##13). What is a property decorator in python?\n",
        "\n",
        "The @property decorator in Python is used to define getter methods in a class, allowing controlled access to private attributes while enabling attribute-style access (without explicit method calls).\n",
        "\n",
        "Key Features:\n",
        "It makes a method act like an attribute.\n",
        "It is used to define getter, setter, and deleter methods in an encapsulated way.\n",
        "It helps in data validation and computed properties.\n",
        "\n",
        "class Circle:\n",
        "    def __init__(self, radius):\n",
        "        self._radius = radius  # Private attribute\n",
        "\n",
        "    @property\n",
        "    def radius(self):  # Getter method\n",
        "        return self._radius\n",
        "\n",
        "    @radius.setter\n",
        "    def radius(self, value):  # Setter method\n",
        "        if value < 0:\n",
        "            raise ValueError(\"Radius cannot be negative\")\n",
        "        self._radius = value\n",
        "\n",
        "    @radius.deleter\n",
        "    def radius(self):  # Deleter method\n",
        "        print(\"Deleting radius\")\n",
        "        del self._radius\n",
        "\n",
        "\n",
        "c = Circle(10)\n",
        "print(c.radius)  # Accessing as an attribute\n",
        "\n",
        "c.radius = 15  # Setting a new value\n",
        "print(c.radius)\n",
        "\n",
        "del c.radius  # Deleting the attribute\n",
        "\n",
        "\n",
        "##14). Why is Polymorphism important in OOP?\n",
        "\n",
        "Polymorphism is important in Object-Oriented Programming (OOP) because it allows a single interface to be used for different types of objects, promoting code reusability, flexibility, and scalability.\n",
        "\n",
        "Key Benefits:\n",
        "Code Reusability – The same function or method can work with different object types.\n",
        "Extensibility – New classes can be added without modifying existing code.\n",
        "Dynamic Method Resolution – Enables runtime polymorphism, allowing method calls to be resolved at runtime.\n",
        "Simplified Code Management – Reduces redundant code and makes programs easier to maintain.\n",
        "Better Abstraction – Hides implementation details and provides a unified interface.\n",
        "\n",
        "class Animal:\n",
        "    def speak(self):\n",
        "        pass\n",
        "\n",
        "class Dog(Animal):\n",
        "    def speak(self):\n",
        "        return \"Woof!\"\n",
        "\n",
        "class Cat(Animal):\n",
        "    def speak(self):\n",
        "        return \"Meow!\"\n",
        "\n",
        "\n",
        "def animal_sound(animal): #polymorphism\n",
        "    print(animal.speak())\n",
        "\n",
        "dog = Dog()\n",
        "\n",
        "cat = Cat()\n",
        "\n",
        "animal_sound(dog)  # Output: Woof!\n",
        "animal_sound(cat)  # Output: Meow!\n",
        "\n",
        "##15). What is an abstract class in Python?\n",
        "\n",
        "An abstract class in Python is a class that cannot be instantiated and serves as a blueprint for other classes. It is defined using the ABC (Abstract Base Class) module and contains at least one abstract method (a method that must be implemented by any subclass).\n",
        "\n",
        "Key Features:\n",
        "Cannot create objects of an abstract class.\n",
        "Must be inherited by subclasses that implement the abstract methods.\n",
        "Ensures a consistent interface across multiple related classes.\n",
        "\n",
        "from abc import ABC, abstractmethod\n",
        "\n",
        "class Animal(ABC):  # Abstract class\n",
        "    @abstractmethod\n",
        "    def sound(self):  # Abstract method\n",
        "        pass\n",
        "\n",
        "class Dog(Animal):\n",
        "    def sound(self):\n",
        "        return \"Woof!\"\n",
        "\n",
        "class Cat(Animal):\n",
        "    def sound(self):\n",
        "        return \"Meow!\"\n",
        "\n",
        "# dog = Animal()  # This will raise an error (Cannot instantiate abstract class)\n",
        "dog = Dog()\n",
        "cat = Cat()\n",
        "\n",
        "print(dog.sound())  # Output: Woof!\n",
        "print(cat.sound())  # Output: Meow!\n",
        "\n",
        "##16). What are the advantages of OOP?\n",
        "\n",
        "Encapsulation – Protects data by restricting direct access and allowing controlled modification through methods.\n",
        "Abstraction – Hides implementation details and only exposes necessary functionalities, simplifying code usage.\n",
        "Reusability – Promotes code reuse through inheritance, reducing redundancy.\n",
        "Polymorphism – Allows the same interface to be used for different data types, enhancing flexibility.\n",
        "Modularity – Code is organized into objects and classes, making it easier to manage and maintain.\n",
        "Scalability – Makes it easy to expand and modify applications without affecting existing code.\n",
        "Code Maintainability – Structured and modular code is easier to debug, test, and update.\n",
        "Security – Restricts unauthorized access using access modifiers (private, protected, public).\n",
        "OOP helps in building efficient, scalable, and maintainable software applications.\n",
        "\n",
        "##17). What is the difference between a class variable and an instance variable?\n",
        "\n",
        "A **class variable** is shared by all instances of a class and is defined within the class but outside any methods. It has the same value across all instances unless modified directly at the class level.\n",
        "\n",
        "An **instance variable** is specific to each instance of the class and is typically defined inside methods (like `__init__`). Each instance can have a different value for its instance variables.\n",
        "\n",
        "class Dog:\n",
        "    # Class variable (shared by all instances)\n",
        "    species = \"Canis familiaris\"\n",
        "\n",
        "    def __init__(self, name, age):\n",
        "        # Instance variables (unique to each instance)\n",
        "        self.name = name\n",
        "        self.age = age\n",
        "\n",
        "# Creating instances of the Dog class\n",
        "dog1 = Dog(\"Buddy\", 3)\n",
        "dog2 = Dog(\"Lucy\", 5)\n",
        "\n",
        "# Accessing class variable\n",
        "print(dog1.species)  # Output: Canis familiaris\n",
        "print(dog2.species)  # Output: Canis familiaris\n",
        "\n",
        "# Accessing instance variables\n",
        "print(dog1.name)  # Output: Buddy\n",
        "print(dog2.name)  # Output: Lucy\n",
        "\n",
        "# Modifying class variable\n",
        "Dog.species = \"Canis lupus familiaris\"\n",
        "\n",
        "# Now the class variable reflects the change for all instances\n",
        "print(dog1.species)  # Output: Canis lupus familiaris\n",
        "print(dog2.species)  # Output: Canis lupus familiaris\n",
        "\n",
        "\n",
        "##18). What is multiple inheritance in PYthon?\n",
        "\n",
        "Multiple inheritance in Python refers to a feature where a class can inherit attributes and methods from more than one parent class. This allows a class to combine behaviors from multiple classes, enabling more flexible and reusable code.\n",
        "\n",
        "class A:\n",
        "    def method_A(self):\n",
        "        print(\"Method A\")\n",
        "\n",
        "class B:\n",
        "    def method_B(self):\n",
        "        print(\"Method B\")\n",
        "\n",
        "class C(A, B):\n",
        "    pass\n",
        "\n",
        "c = C()\n",
        "c.method_A()  # Output: Method A\n",
        "c.method_B()  # Output: Method B\n",
        "\n",
        "##19). What is the purpose of  ‘’__str__’ and ‘__repr__’‘ methods in Python?\n",
        "\n",
        "In Python, __str__ and __repr__ are special methods used to define how an object is represented as a string.\n",
        "\n",
        "__str__: This method is used to define a human-readable, user-friendly string representation of an object. It's called by str() and print() functions.\n",
        "\n",
        "class Person:\n",
        "    def __init__(self, name, age):\n",
        "        self.name = name\n",
        "        self.age = age\n",
        "\n",
        "    def __str__(self):\n",
        "        return f\"Person(name={self.name}, age={self.age})\"\n",
        "\n",
        "p = Person(\"Pawan\", 30)\n",
        "print(p)  \n",
        "\n",
        "__repr__: This method is used to define a more formal or developer-friendly string representation of an object, often meant to be unambiguous. It's called by repr() and in the interpreter when an object is typed directly.\n",
        "\n",
        "class Person:\n",
        "    def __init__(self, name, age):\n",
        "        self.name = name\n",
        "        self.age = age\n",
        "\n",
        "    def __repr__(self):\n",
        "        return f\"Person('{self.name}', {self.age})\"\n",
        "\n",
        "p = Person(\"Pawan\", 30)\n",
        "print(repr(p))  \n",
        "\n",
        "\n",
        "##20). What is the significance of the ‘super()’ function in Python?\n",
        "\n",
        "The super() function in Python is used to call a method from a parent (or superclass) within a child (or subclass) class. It is primarily used to avoid explicitly referencing the parent class and to ensure that the correct method is called in the inheritance chain, especially in cases of multiple inheritance.\n",
        "\n",
        "Significance:\n",
        "\n",
        "-Access parent class methods: It allows you to call methods from the parent class without directly referring to the parent class by name.\n",
        "\n",
        "-Maintainability: It improves code readability and maintainability by helping with method resolution order (MRO) in multiple inheritance scenarios.\n",
        "\n",
        "class A:\n",
        "    def greet(self):\n",
        "        print(\"Hello from class A\")\n",
        "\n",
        "class B(A):\n",
        "    def greet(self):\n",
        "        super().greet()  # Calls the greet method of class A\n",
        "        print(\"Hello from class B\")\n",
        "\n",
        "b = B()\n",
        "b.greet()  \n",
        "\n",
        "##20). What is the significance of the __del__ method in Python?\n",
        "\n",
        "The __del__ method in Python is a special method used for object destruction. It is called when an object is about to be destroyed, typically when its reference count drops to zero (i.e., when the object is no longer in use and will be garbage collected).\n",
        "\n",
        "Significance of __del__:\n",
        "\n",
        "Resource Cleanup: It allows you to release resources such as open files, network connections, or database connections before the object is destroyed.\n",
        "Custom Destructor: You can define custom cleanup behavior for objects, such as freeing up memory or performing any final actions before the object is removed from memory.\n",
        "\n",
        "class MyClass:\n",
        "    def __init__(self, name):\n",
        "        self.name = name\n",
        "        print(f\"{self.name} object created.\")\n",
        "\n",
        "    def __del__(self):\n",
        "        print(f\"{self.name} object is being destroyed.\")\n",
        "\n",
        "# Creating and deleting an object\n",
        "obj = MyClass(\"Example\")\n",
        "del obj  \n",
        "\n",
        "##22).  What is the difference between @staticmethod and @classmethod in Python?\n",
        "\n",
        "In Python, both @staticmethod and @classmethod are decorators used to define methods that are not bound to an instance of the class, but they differ in how they are used and what they have access to.\n",
        "\n",
        "@staticmethod:\n",
        "Purpose: A static method does not take a reference to the class or instance (self or cls) as its first argument.\n",
        "Usage: It behaves like a regular function, but belongs to the class's namespace.\n",
        "Access: It cannot access or modify the class or instance attributes.\n",
        "\n",
        "class MyClass:\n",
        "    @staticmethod\n",
        "    def my_static_method():\n",
        "        print(\"This is a static method.\")\n",
        "\n",
        "MyClass.my_static_method()  # Output: This is a static method.\n",
        "\n",
        "@classmethod:\n",
        "Purpose: A class method takes a reference to the class (cls) as its first argument.\n",
        "Usage: It can modify class-level attributes and is often used for factory methods or class-level operations.\n",
        "Access: It has access to the class itself, but not to instance-specific data.\n",
        "\n",
        "class MyClass:\n",
        "    class_variable = 0\n",
        "\n",
        "    @classmethod\n",
        "    def my_class_method(cls):\n",
        "        print(f\"This is a class method. Class variable: {cls.class_variable}\")\n",
        "\n",
        "MyClass.my_class_method()  \n",
        "\n",
        "class MyClass:\n",
        "    class_variable = 0\n",
        "\n",
        "    @classmethod\n",
        "    def my_class_method(cls):\n",
        "        print(f\"This is a class method. Class variable: {cls.class_variable}\")\n",
        "\n",
        "MyClass.my_class_method()  \n",
        "\n",
        "##23). How does polymorphism work in Python with inheritance?\n",
        "\n",
        "Polymorphism in Python with inheritance refers to the ability of different classes to define methods that have the same name, but potentially different behaviors. It allows objects of different classes to be treated as instances of the same class, especially when they share a common parent class.\n",
        "\n",
        "In Python, polymorphism works through method overriding (in the child class) or duck typing (if the object behaves as expected without formal inheritance).\n",
        "\n",
        "How Polymorphism Works:\n",
        "Method Overriding: A child class can override a method from its parent class, providing its own specific implementation of the method. When the method is called on an object of the child class, the child’s version of the method is executed.\n",
        "\n",
        "class Animal:\n",
        "    def speak(self):\n",
        "        print(\"Animal speaks\")\n",
        "\n",
        "class Dog(Animal):\n",
        "    def speak(self):\n",
        "        print(\"Dog barks\")\n",
        "\n",
        "class Cat(Animal):\n",
        "    def speak(self):\n",
        "        print(\"Cat meows\")\n",
        "\n",
        "# Polymorphism in action\n",
        "animals = [Dog(), Cat()]\n",
        "\n",
        "for animal in animals:\n",
        "    animal.speak()  \n",
        "\n",
        "##24).  What is method chaining in Python OOP?\n",
        "\n",
        "Method chaining in Python OOP refers to the technique of calling multiple methods on the same object in a single line of code. This is possible because each method returns the object itself (or another object), allowing subsequent methods to be called on the result.\n",
        "\n",
        "\n",
        "A method returns self (the current instance) to allow further method calls on the same object.\n",
        "It makes the code more concise and can improve readability.\n",
        "\n",
        "class Car:\n",
        "    def __init__(self, brand):\n",
        "        self.brand = brand\n",
        "        self.speed = 0\n",
        "\n",
        "    def accelerate(self, amount):\n",
        "        self.speed += amount\n",
        "        return self  # Returning the object to allow chaining\n",
        "\n",
        "    def brake(self, amount):\n",
        "        self.speed -= amount\n",
        "        return self  # Returning the object to allow chaining\n",
        "\n",
        "    def status(self):\n",
        "        print(f\"Brand: {self.brand}, Speed: {self.speed}\")\n",
        "        return self  # Returning the object to allow chaining\n",
        "\n",
        "# Method chaining\n",
        "car = Car(\"Toyota\")\n",
        "car.accelerate(20).brake(5).status()\n",
        "\n",
        "##25). What is the purpose of the __call__ method in Python?\n",
        "\n",
        "The __call__ method in Python allows an instance of a class to be called like a function. When you define this method in a class, you enable the object to behave like a callable function, which means you can use parentheses () to call the object.\n",
        "\n",
        "It is used to make an object behave like a function, enabling the use of an object in places where a function would normally be used.\n",
        "It can be useful for implementing function-like behavior, callbacks, or creating more flexible and dynamic objects.\n",
        "\n",
        "class Adder:\n",
        "    def __init__(self, value):\n",
        "        self.value = value\n",
        "\n",
        "    def __call__(self, x):\n",
        "        return self.value + x\n",
        "\n",
        "# Using the object as a function\n",
        "adder = Adder(10)\n",
        "result = adder(5)  # Calls __call__(5)\n",
        "print(result)  # Output: 15\n",
        "\n",
        "\n",
        "\n",
        "\n"
      ],
      "metadata": {
        "id": "p6mrVbRGv9aG"
      }
    },
    {
      "cell_type": "markdown",
      "source": [
        "#Coding Assignment"
      ],
      "metadata": {
        "id": "xoCdKpuJfPAH"
      }
    },
    {
      "cell_type": "markdown",
      "source": [
        "##1). Create a parent class Animal with a method speak() that prints a generic message. Create a child class Dog that overrides the speak() method to print \"Bark!\"?"
      ],
      "metadata": {
        "id": "0J9XnjkgfWFc"
      }
    },
    {
      "cell_type": "code",
      "source": [
        "# Parent class\n",
        "class Animal:\n",
        "    def speak(self):\n",
        "        print(\"Animal makes a sound\")\n",
        "\n",
        "# Child class\n",
        "class Dog(Animal):\n",
        "    def speak(self):\n",
        "        print(\"Bark!\")\n",
        "\n",
        "\n",
        "animal = Animal()\n",
        "animal.speak()\n",
        "dog = Dog()\n"
      ],
      "metadata": {
        "colab": {
          "base_uri": "https://localhost:8080/"
        },
        "id": "CXDtVVIGffPj",
        "outputId": "54f99cc4-5508-4aae-e881-53b32d812bbc"
      },
      "execution_count": null,
      "outputs": [
        {
          "output_type": "stream",
          "name": "stdout",
          "text": [
            "Animal makes a sound\n"
          ]
        }
      ]
    },
    {
      "cell_type": "markdown",
      "source": [
        "##2). Write a program to create an abstract class Shape with a method area(). Derive classes Circle and Rectangle from it and implement the area() method in both?"
      ],
      "metadata": {
        "id": "I18cCDNEf0ZX"
      }
    },
    {
      "cell_type": "code",
      "source": [
        "from abc import ABC, abstractmethod\n",
        "import math\n",
        "\n",
        "\n",
        "class Shape(ABC):\n",
        "\n",
        "    @abstractmethod\n",
        "    def area(self):\n",
        "        pass\n",
        "\n",
        "class Circle(Shape):\n",
        "    def __init__(self, radius):\n",
        "        self.radius = radius\n",
        "\n",
        "    def area(self):\n",
        "        return math.pi * (self.radius ** 2)\n",
        "\n",
        "\n",
        "class Rectangle(Shape):\n",
        "    def __init__(self, width, height):\n",
        "        self.width = width\n",
        "        self.height = height\n",
        "\n",
        "    def area(self):\n",
        "        return self.width * self.height\n",
        "\n",
        "\n",
        "circle = Circle(5)\n",
        "print(f\"Area of Circle: {circle.area()}\")\n",
        "\n",
        "rectangle = Rectangle(4, 6)\n",
        "print(f\"Area of Rectangle: {rectangle.area()}\")\n"
      ],
      "metadata": {
        "colab": {
          "base_uri": "https://localhost:8080/"
        },
        "id": "0-ay-5GkgB9U",
        "outputId": "52f2697c-ff64-4a7e-fc95-c453bd6b55dd"
      },
      "execution_count": null,
      "outputs": [
        {
          "output_type": "stream",
          "name": "stdout",
          "text": [
            "Area of Circle: 78.53981633974483\n",
            "Area of Rectangle: 24\n"
          ]
        }
      ]
    },
    {
      "cell_type": "markdown",
      "source": [
        "##3).  Implement a multi-level inheritance scenario where a class Vehicle has an attribute type. Derive a class Car and further derive a class ElectricCar that adds a battery attribute?\n",
        "\n"
      ],
      "metadata": {
        "id": "HJDstd05gTGz"
      }
    },
    {
      "cell_type": "code",
      "source": [
        "\n",
        "class Vehicle:\n",
        "    def __init__(self, vehicle_type):\n",
        "        self.vehicle_type = vehicle_type\n",
        "\n",
        "    def display_type(self):\n",
        "        print(f\"Vehicle type: {self.vehicle_type}\")\n",
        "\n",
        "class Car(Vehicle):\n",
        "    def __init__(self, vehicle_type, model):\n",
        "        super().__init__(vehicle_type)\n",
        "        self.model = model\n",
        "\n",
        "    def display_model(self):\n",
        "        print(f\"Car model: {self.model}\")\n",
        "\n",
        "class ElectricCar(Car):\n",
        "    def __init__(self, vehicle_type, model, battery_capacity):\n",
        "        super().__init__(vehicle_type, model)\n",
        "        self.battery_capacity = battery_capacity\n",
        "\n",
        "    def display_battery(self):\n",
        "        print(f\"Electric car battery capacity: {self.battery_capacity} kWh\")\n",
        "\n",
        "\n",
        "vehicle = Vehicle(\"Truck\")\n",
        "vehicle.display_type()\n",
        "\n",
        "car = Car(\"Sedan\", \"Toyota Corolla\")\n",
        "car.display_type()\n",
        "car.display_model()\n",
        "\n",
        "electric_car = ElectricCar(\"Electric Sedan\", \"Tesla Model 3\", 75)\n",
        "electric_car.display_type()\n",
        "electric_car.display_model()\n",
        "electric_car.display_battery()\n"
      ],
      "metadata": {
        "colab": {
          "base_uri": "https://localhost:8080/"
        },
        "id": "6EMGaOENgkw5",
        "outputId": "defd8bb2-4a57-448b-c03d-2e94aeeebd73"
      },
      "execution_count": null,
      "outputs": [
        {
          "output_type": "stream",
          "name": "stdout",
          "text": [
            "Vehicle type: Truck\n",
            "Vehicle type: Sedan\n",
            "Car model: Toyota Corolla\n",
            "Vehicle type: Electric Sedan\n",
            "Car model: Tesla Model 3\n",
            "Electric car battery capacity: 75 kWh\n"
          ]
        }
      ]
    },
    {
      "cell_type": "markdown",
      "source": [
        "##4). Demonstrate polymorphism by creating a base class Bird with a method fly(). Create two derived classes Sparrow and Penguin that override the fly() method."
      ],
      "metadata": {
        "id": "QZI5AZlkg6Qy"
      }
    },
    {
      "cell_type": "code",
      "source": [
        "\n",
        "class Bird:\n",
        "    def fly(self):\n",
        "        print(\"This bird flies in the sky.\")\n",
        "\n",
        "\n",
        "class Sparrow(Bird):\n",
        "    def fly(self):\n",
        "        print(\"Sparrow flies swiftly in the air.\")\n",
        "\n",
        "\n",
        "class Penguin(Bird):\n",
        "    def fly(self):\n",
        "        print(\"Penguin can't fly, but it swims!\")\n",
        "\n",
        "\n",
        "bird = Bird()\n",
        "bird.fly()\n",
        "\n",
        "sparrow = Sparrow()\n",
        "sparrow.fly()\n",
        "penguin = Penguin()\n",
        "penguin.fly()\n"
      ],
      "metadata": {
        "colab": {
          "base_uri": "https://localhost:8080/"
        },
        "id": "W603xnQOhC9i",
        "outputId": "bc50d10b-8ee2-446f-84ed-7e47f404a403"
      },
      "execution_count": null,
      "outputs": [
        {
          "output_type": "stream",
          "name": "stdout",
          "text": [
            "This bird flies in the sky.\n",
            "Sparrow flies swiftly in the air.\n",
            "Penguin can't fly, but it swims!\n"
          ]
        }
      ]
    },
    {
      "cell_type": "markdown",
      "source": [
        "##5).  Write a program to demonstrate encapsulation by creating a class BankAccount with private attributes balance and methods to deposit, withdraw, and check balance."
      ],
      "metadata": {
        "id": "Yh_-P1NahWUC"
      }
    },
    {
      "cell_type": "code",
      "source": [
        "class BankAccount:\n",
        "    def __init__(self, initial_balance=0):\n",
        "        # Private attribute\n",
        "        self.__balance = initial_balance\n",
        "\n",
        "    # Method to deposit money into the account\n",
        "    def deposit(self, amount):\n",
        "        if amount > 0:\n",
        "            self.__balance += amount\n",
        "            print(f\"Deposited: ${amount}\")\n",
        "        else:\n",
        "            print(\"Deposit amount must be positive.\")\n",
        "\n",
        "\n",
        "    def withdraw(self, amount):\n",
        "        if amount > 0 and amount <= self.__balance:\n",
        "            self.__balance -= amount\n",
        "            print(f\"Withdrawn: ${amount}\")\n",
        "        else:\n",
        "            print(\"Insufficient balance or invalid amount.\")\n",
        "\n",
        "\n",
        "    def check_balance(self):\n",
        "        return f\"Current balance: ${self.__balance}\"\n",
        "\n",
        "# Example usage\n",
        "account = BankAccount(100)\n",
        "print(account.check_balance())\n",
        "\n",
        "account.deposit(50)\n",
        "print(account.check_balance())\n",
        "\n",
        "account.withdraw(30)\n",
        "print(account.check_balance())\n",
        "\n",
        "account.withdraw(200)\n",
        "print(account.check_balance())\n"
      ],
      "metadata": {
        "colab": {
          "base_uri": "https://localhost:8080/"
        },
        "id": "j_F7HNgGhnVV",
        "outputId": "902ba203-e615-4d2c-faff-0f20de225d07"
      },
      "execution_count": null,
      "outputs": [
        {
          "output_type": "stream",
          "name": "stdout",
          "text": [
            "Current balance: $100\n",
            "Deposited: $50\n",
            "Current balance: $150\n",
            "Withdrawn: $30\n",
            "Current balance: $120\n",
            "Insufficient balance or invalid amount.\n",
            "Current balance: $120\n"
          ]
        }
      ]
    },
    {
      "cell_type": "markdown",
      "source": [
        "##6). Demonstrate runtime polymorphism using a method play() in a base class Instrument. Derive classes Guitar and Piano that implement their own version of play()."
      ],
      "metadata": {
        "id": "u6lz6F7TiLj5"
      }
    },
    {
      "cell_type": "code",
      "source": [
        "class Instrument:\n",
        "    def play(self):\n",
        "        print(\"Instrument is playing a sound.\")\n",
        "\n",
        "class Guitar(Instrument):\n",
        "    def play(self):\n",
        "        print(\"Guitar is playing a melody.\")\n",
        "\n",
        "class Piano(Instrument):\n",
        "    def play(self):\n",
        "        print(\"Piano is playing a tune.\")\n",
        "\n",
        "def play_instrument(instrument):\n",
        "    instrument.play()\n",
        "\n",
        "\n",
        "guitar = Guitar()\n",
        "piano = Piano()\n",
        "play_instrument(guitar)\n",
        "play_instrument(piano)\n"
      ],
      "metadata": {
        "colab": {
          "base_uri": "https://localhost:8080/"
        },
        "id": "Awv1qxm2iSux",
        "outputId": "253a963e-5b41-4811-ae54-bc102ff2f328"
      },
      "execution_count": null,
      "outputs": [
        {
          "output_type": "stream",
          "name": "stdout",
          "text": [
            "Guitar is playing a melody.\n",
            "Piano is playing a tune.\n"
          ]
        }
      ]
    },
    {
      "cell_type": "markdown",
      "source": [
        "##7). Create a class MathOperations with a class method add_numbers() to add two numbers and a static method subtract_numbers() to subtract two numbers"
      ],
      "metadata": {
        "id": "LR5jJ-psiou5"
      }
    },
    {
      "cell_type": "code",
      "source": [
        "class MathOperations:\n",
        "\n",
        "    @classmethod\n",
        "    def add_numbers(cls, a, b):\n",
        "        return a + b\n",
        "\n",
        "    @staticmethod\n",
        "    def subtract_numbers(a, b):\n",
        "        return a - b\n",
        "\n",
        "\n",
        "result_add = MathOperations.add_numbers(10, 5)\n",
        "result_subtract = MathOperations.subtract_numbers(10, 5)\n",
        "\n",
        "print(f\"Addition result: {result_add}\")\n",
        "print(f\"Subtraction result: {result_subtract}\")\n"
      ],
      "metadata": {
        "colab": {
          "base_uri": "https://localhost:8080/"
        },
        "id": "kTW2swgZivlM",
        "outputId": "f460de7b-4ff6-4fa4-8830-68dbc501ac21"
      },
      "execution_count": null,
      "outputs": [
        {
          "output_type": "stream",
          "name": "stdout",
          "text": [
            "Addition result: 15\n",
            "Subtraction result: 5\n"
          ]
        }
      ]
    },
    {
      "cell_type": "markdown",
      "source": [
        "##8).  Implement a class Person with a class method to count the total number of persons created."
      ],
      "metadata": {
        "id": "cMFjkUmAjJ4w"
      }
    },
    {
      "cell_type": "code",
      "source": [
        "class Person:\n",
        "\n",
        "    total_persons = 0\n",
        "\n",
        "    def __init__(self, name):\n",
        "        self.name = name\n",
        "        Person.total_persons += 1\n",
        "\n",
        "    @classmethod\n",
        "    def get_total_persons(cls):\n",
        "        return cls.total_persons\n",
        "\n",
        "\n",
        "person1 = Person(\"Alice\")\n",
        "person2 = Person(\"Bob\")\n",
        "person3 = Person(\"Charlie\")\n",
        "\n",
        "\n",
        "print(f\"Total number of persons created: {Person.get_total_persons()}\")\n"
      ],
      "metadata": {
        "colab": {
          "base_uri": "https://localhost:8080/"
        },
        "id": "UPzm2yLFjNEB",
        "outputId": "5bc443a2-7f0b-4c3d-d3d1-2e817ad3de6d"
      },
      "execution_count": null,
      "outputs": [
        {
          "output_type": "stream",
          "name": "stdout",
          "text": [
            "Total number of persons created: 3\n"
          ]
        }
      ]
    },
    {
      "cell_type": "markdown",
      "source": [
        "##9). Write a class Fraction with attributes numerator and denominator. Override the str method to display the fraction as \"numerator/denominator\"."
      ],
      "metadata": {
        "id": "IwnIZOsWjhSY"
      }
    },
    {
      "cell_type": "code",
      "source": [
        "class Fraction:\n",
        "    def __init__(self, numerator, denominator):\n",
        "        self.numerator = numerator\n",
        "        self.denominator = denominator\n",
        "\n",
        "    def __str__(self):\n",
        "        return f\"{self.numerator}/{self.denominator}\"\n",
        "\n",
        "fraction = Fraction(3, 4)\n",
        "print(fraction)\n"
      ],
      "metadata": {
        "colab": {
          "base_uri": "https://localhost:8080/"
        },
        "id": "it2MbG6GjkXN",
        "outputId": "581ed9f8-6e7c-4053-db61-1495a5c0998e"
      },
      "execution_count": null,
      "outputs": [
        {
          "output_type": "stream",
          "name": "stdout",
          "text": [
            "3/4\n"
          ]
        }
      ]
    },
    {
      "cell_type": "markdown",
      "source": [
        "##10). Demonstrate operator overloading by creating a class Vector and overriding the add method to add two vectors."
      ],
      "metadata": {
        "id": "vIMmZGpWj5i5"
      }
    },
    {
      "cell_type": "code",
      "source": [
        "class Vector:\n",
        "    def __init__(self, x, y):\n",
        "        self.x = x\n",
        "        self.y = y\n",
        "\n",
        "\n",
        "    def __add__(self, other):\n",
        "        if isinstance(other, Vector):\n",
        "            return Vector(self.x + other.x, self.y + other.y)\n",
        "        return NotImplemented\n",
        "\n",
        "    def __str__(self):\n",
        "        return f\"({self.x}, {self.y})\"\n",
        "\n",
        "\n",
        "vector1 = Vector(2, 3)\n",
        "vector2 = Vector(4, 1)\n",
        "\n",
        "result_vector = vector1 + vector2\n",
        "\n",
        "print(f\"Vector 1: {vector1}\")\n",
        "print(f\"Vector 2: {vector2}\")\n",
        "print(f\"Result of addition: {result_vector}\")\n"
      ],
      "metadata": {
        "colab": {
          "base_uri": "https://localhost:8080/"
        },
        "id": "x7ZzYtrOkMCg",
        "outputId": "23d970ad-f8f8-438a-d734-307d324c2e0a"
      },
      "execution_count": null,
      "outputs": [
        {
          "output_type": "stream",
          "name": "stdout",
          "text": [
            "Vector 1: (2, 3)\n",
            "Vector 2: (4, 1)\n",
            "Result of addition: (6, 4)\n"
          ]
        }
      ]
    },
    {
      "cell_type": "markdown",
      "source": [
        "##11). Create a class Person with attributes name and age. Add a method greet() that prints \"Hello, my name is {name} and I am {age} years old.\""
      ],
      "metadata": {
        "id": "IXzrqtZOkdkf"
      }
    },
    {
      "cell_type": "code",
      "source": [
        "class Person:\n",
        "    def __init__(self, name, age):\n",
        "        self.name = name\n",
        "        self.age = age\n",
        "\n",
        "\n",
        "    def greet(self):\n",
        "        print(f\"Hello, my name is {self.name} and I am {self.age} years old.\")\n",
        "\n",
        "\n",
        "person1 = Person(\"Alice\", 30)\n",
        "person1.greet()\n",
        "\n",
        "person2 = Person(\"Bob\", 25)\n",
        "person2.greet()\n"
      ],
      "metadata": {
        "colab": {
          "base_uri": "https://localhost:8080/"
        },
        "id": "Er0LPYgYkj3I",
        "outputId": "991ac001-5748-49a4-9439-d4185f6f0773"
      },
      "execution_count": null,
      "outputs": [
        {
          "output_type": "stream",
          "name": "stdout",
          "text": [
            "Hello, my name is Alice and I am 30 years old.\n",
            "Hello, my name is Bob and I am 25 years old.\n"
          ]
        }
      ]
    },
    {
      "cell_type": "markdown",
      "source": [
        "##12).  Implement a class Student with attributes name and grades. Create a method average_grade() to compute the average of the grades."
      ],
      "metadata": {
        "id": "wj_t8DOQlRkh"
      }
    },
    {
      "cell_type": "code",
      "source": [
        "class Student:\n",
        "    def __init__(self, name, grades):\n",
        "        self.name = name\n",
        "        self.grades = grades\n",
        "\n",
        "\n",
        "    def average_grade(self):\n",
        "        if self.grades:\n",
        "            return sum(self.grades) / len(self.grades)\n",
        "        else:\n",
        "            return 0\n",
        "\n",
        "\n",
        "student1 = Student(\"Alice\", [85, 90, 78, 92])\n",
        "student2 = Student(\"Bob\", [70, 75, 80])\n",
        "\n",
        "\n",
        "print(f\"{student1.name}'s average grade: {student1.average_grade()}\")\n",
        "print(f\"{student2.name}'s average grade: {student2.average_grade()}\")\n"
      ],
      "metadata": {
        "colab": {
          "base_uri": "https://localhost:8080/"
        },
        "id": "Bwkpx-nclpOY",
        "outputId": "fe578c87-5b65-43c0-951a-6a8421950c97"
      },
      "execution_count": null,
      "outputs": [
        {
          "output_type": "stream",
          "name": "stdout",
          "text": [
            "Alice's average grade: 86.25\n",
            "Bob's average grade: 75.0\n"
          ]
        }
      ]
    },
    {
      "cell_type": "markdown",
      "source": [
        "##13). Create a class Rectangle with methods set_dimensions() to set the dimensions and area() to calculate the area."
      ],
      "metadata": {
        "id": "-cU6fLt4lx2v"
      }
    },
    {
      "cell_type": "code",
      "source": [
        "class Rectangle:\n",
        "    def __init__(self):\n",
        "        self.length = 0\n",
        "        self.width = 0\n",
        "\n",
        "    def set_dimensions(self, length, width):\n",
        "        self.length = length\n",
        "        self.width = width\n",
        "\n",
        "    def area(self):\n",
        "        return self.length * self.width\n",
        "\n",
        "\n",
        "rectangle1 = Rectangle()\n",
        "rectangle1.set_dimensions(5, 10)\n",
        "print(f\"Area of rectangle: {rectangle1.area()}\")\n",
        "\n",
        "rectangle2 = Rectangle()\n",
        "rectangle2.set_dimensions(7, 3)\n",
        "print(f\"Area of rectangle: {rectangle2.area()}\")\n"
      ],
      "metadata": {
        "colab": {
          "base_uri": "https://localhost:8080/"
        },
        "id": "qIwC9Ws9l6qz",
        "outputId": "dbef0e6b-9ee0-45fe-e8df-066dffd1fcfe"
      },
      "execution_count": null,
      "outputs": [
        {
          "output_type": "stream",
          "name": "stdout",
          "text": [
            "Area of rectangle: 50\n",
            "Area of rectangle: 21\n"
          ]
        }
      ]
    },
    {
      "cell_type": "markdown",
      "source": [
        "##14). Create a class Employee with a method calculate_salary() that computes the salary based on hours worked and hourly rate. Create a derived class Manager that adds a bonus to the salary"
      ],
      "metadata": {
        "id": "hfZzvmDomKmT"
      }
    },
    {
      "cell_type": "code",
      "source": [
        "class Employee:\n",
        "    def __init__(self, name, hours_worked, hourly_rate):\n",
        "        self.name = name\n",
        "        self.hours_worked = hours_worked\n",
        "        self.hourly_rate = hourly_rate\n",
        "\n",
        "\n",
        "    def calculate_salary(self):\n",
        "        return self.hours_worked * self.hourly_rate\n",
        "\n",
        "\n",
        "class Manager(Employee):\n",
        "    def __init__(self, name, hours_worked, hourly_rate, bonus):\n",
        "        super().__init__(name, hours_worked, hourly_rate)\n",
        "        self.bonus = bonus\n",
        "\n",
        "\n",
        "    def calculate_salary(self):\n",
        "        base_salary = super().calculate_salary()\n",
        "        return base_salary + self.bonus\n",
        "\n",
        "\n",
        "employee = Employee(\"John\", 40, 20)\n",
        "print(f\"{employee.name}'s salary: ${employee.calculate_salary()}\")\n",
        "\n",
        "manager = Manager(\"Alice\", 40, 25, 500)\n",
        "print(f\"{manager.name}'s salary: ${manager.calculate_salary()}\")\n"
      ],
      "metadata": {
        "colab": {
          "base_uri": "https://localhost:8080/"
        },
        "id": "REw7RN-ymbNM",
        "outputId": "ef592707-714d-4125-af7c-34c7e1b05ba1"
      },
      "execution_count": null,
      "outputs": [
        {
          "output_type": "stream",
          "name": "stdout",
          "text": [
            "John's salary: $800\n",
            "Alice's salary: $1500\n"
          ]
        }
      ]
    },
    {
      "cell_type": "markdown",
      "source": [
        "##15).  Create a class Product with attributes name, price, and quantity. Implement a method total_price() that calculates the total price of the product."
      ],
      "metadata": {
        "id": "LwVvf24xmx_j"
      }
    },
    {
      "cell_type": "code",
      "source": [
        "class Product:\n",
        "    def __init__(self, name, price, quantity):\n",
        "        self.name = name\n",
        "        self.price = price\n",
        "        self.quantity = quantity\n",
        "\n",
        "\n",
        "    def total_price(self):\n",
        "        return self.price * self.quantity\n",
        "\n",
        "\n",
        "product1 = Product(\"Laptop\", 1000, 3)\n",
        "product2 = Product(\"Phone\", 500, 5)\n",
        "\n",
        "print(f\"Total price of {product1.name}: ${product1.total_price()}\")\n",
        "print(f\"Total price of {product2.name}: ${product2.total_price()}\")\n"
      ],
      "metadata": {
        "colab": {
          "base_uri": "https://localhost:8080/"
        },
        "id": "XyDfNFuym12b",
        "outputId": "5964c0ca-f34c-4a3c-91ad-3a5d09719549"
      },
      "execution_count": null,
      "outputs": [
        {
          "output_type": "stream",
          "name": "stdout",
          "text": [
            "Total price of Laptop: $3000\n",
            "Total price of Phone: $2500\n"
          ]
        }
      ]
    },
    {
      "cell_type": "markdown",
      "source": [
        "##16).  Create a class Animal with an abstract method sound(). Create two derived classes Cow and Sheep that implement the sound() method."
      ],
      "metadata": {
        "id": "rdp3U6d0nLuQ"
      }
    },
    {
      "cell_type": "code",
      "source": [
        "from abc import ABC, abstractmethod\n",
        "\n",
        "\n",
        "class Animal(ABC):\n",
        "\n",
        "    @abstractmethod\n",
        "    def sound(self):\n",
        "        pass\n",
        "\n",
        "\n",
        "class Cow(Animal):\n",
        "    def sound(self):\n",
        "        return \"Moo\"\n",
        "\n",
        "\n",
        "class Sheep(Animal):\n",
        "    def sound(self):\n",
        "        return \"Baa\"\n",
        "\n",
        "\n",
        "cow = Cow()\n",
        "sheep = Sheep()\n",
        "\n",
        "print(f\"Cow sound: {cow.sound()}\")\n",
        "print(f\"Sheep sound: {sheep.sound()}\")\n"
      ],
      "metadata": {
        "colab": {
          "base_uri": "https://localhost:8080/"
        },
        "id": "jPB-8FUOnPhc",
        "outputId": "c24d2f9c-b2ba-4251-d435-98cc61592f04"
      },
      "execution_count": null,
      "outputs": [
        {
          "output_type": "stream",
          "name": "stdout",
          "text": [
            "Cow sound: Moo\n",
            "Sheep sound: Baa\n"
          ]
        }
      ]
    },
    {
      "cell_type": "markdown",
      "source": [
        "##17). Create a class Book with attributes title, author, and year_published. Add a method get_book_info() that returns a formatted string with the book's details"
      ],
      "metadata": {
        "id": "T7NLZyNQncTu"
      }
    },
    {
      "cell_type": "code",
      "source": [
        "class Book:\n",
        "    def __init__(self, title, author, year_published):\n",
        "        self.title = title\n",
        "        self.author = author\n",
        "        self.year_published = year_published\n",
        "\n",
        "\n",
        "    def get_book_info(self):\n",
        "        return f\"Title: {self.title}\\nAuthor: {self.author}\\nYear Published: {self.year_published}\"\n",
        "\n",
        "\n",
        "book1 = Book(\"1984\", \"George Orwell\", 1949)\n",
        "book2 = Book(\"To Kill a Mockingbird\", \"Harper Lee\", 1960)\n",
        "print(book1.get_book_info())\n",
        "print()\n",
        "print(book2.get_book_info())\n"
      ],
      "metadata": {
        "colab": {
          "base_uri": "https://localhost:8080/"
        },
        "id": "waj0WfrAnlFL",
        "outputId": "1ba4e00b-5826-4118-c3c5-04f4d96c6f6e"
      },
      "execution_count": null,
      "outputs": [
        {
          "output_type": "stream",
          "name": "stdout",
          "text": [
            "Title: 1984\n",
            "Author: George Orwell\n",
            "Year Published: 1949\n",
            "\n",
            "Title: To Kill a Mockingbird\n",
            "Author: Harper Lee\n",
            "Year Published: 1960\n"
          ]
        }
      ]
    },
    {
      "cell_type": "markdown",
      "source": [
        "##18).  Create a class House with attributes address and price. Create a derived class Mansion that adds an attribute number_of_rooms."
      ],
      "metadata": {
        "id": "UkrpSw_Wn1Dn"
      }
    },
    {
      "cell_type": "code",
      "source": [
        "\n",
        "class House:\n",
        "    def __init__(self, address, price):\n",
        "        self.address = address\n",
        "        self.price = price\n",
        "\n",
        "\n",
        "    def get_house_info(self):\n",
        "        return f\"Address: {self.address}\\nPrice: ${self.price}\"\n",
        "\n",
        "\n",
        "class Mansion(House):\n",
        "    def __init__(self, address, price, number_of_rooms):\n",
        "        super().__init__(address, price)\n",
        "        self.number_of_rooms = number_of_rooms\n",
        "\n",
        "    def get_mansion_info(self):\n",
        "        house_info = super().get_house_info()\n",
        "        return f\"{house_info}\\nNumber of Rooms: {self.number_of_rooms}\"\n",
        "\n",
        "\n",
        "house = House(\"123 Elm Street\", 250000)\n",
        "mansion = Mansion(\"456 Oak Avenue\", 5000000, 10)\n",
        "\n",
        "\n",
        "print(house.get_house_info())\n",
        "print()\n",
        "print(mansion.get_mansion_info())\n"
      ],
      "metadata": {
        "colab": {
          "base_uri": "https://localhost:8080/"
        },
        "id": "M6CAuLPrn4iQ",
        "outputId": "918ba15a-5f58-47f2-fc37-f66d0298463d"
      },
      "execution_count": null,
      "outputs": [
        {
          "output_type": "stream",
          "name": "stdout",
          "text": [
            "Address: 123 Elm Street\n",
            "Price: $250000\n",
            "\n",
            "Address: 456 Oak Avenue\n",
            "Price: $5000000\n",
            "Number of Rooms: 10\n"
          ]
        }
      ]
    }
  ]
}